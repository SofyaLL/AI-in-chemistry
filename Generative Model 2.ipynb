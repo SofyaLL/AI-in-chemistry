{
  "cells": [
    {
      "cell_type": "code",
      "source": [
        "from google.colab import drive\n",
        "drive.mount('/content/drive')"
      ],
      "metadata": {
        "id": "D_StcSSg8Yrz",
        "colab": {
          "base_uri": "https://localhost:8080/"
        },
        "outputId": "2480653c-04d2-4967-eb98-3915bfd2bc44"
      },
      "execution_count": null,
      "outputs": [
        {
          "output_type": "stream",
          "name": "stdout",
          "text": [
            "Mounted at /content/drive\n"
          ]
        }
      ]
    },
    {
      "cell_type": "code",
      "source": [
        "!pip install rdkit-pypi\n",
        "%tensorflow_version 1.15.3"
      ],
      "metadata": {
        "id": "Kb8ioQNH8DsD",
        "colab": {
          "base_uri": "https://localhost:8080/"
        },
        "outputId": "7443701e-2c84-49b0-a911-fa5ad1b0c112"
      },
      "execution_count": null,
      "outputs": [
        {
          "output_type": "stream",
          "name": "stdout",
          "text": [
            "Collecting rdkit-pypi\n",
            "  Downloading rdkit_pypi-2022.3.1-cp37-cp37m-manylinux_2_17_x86_64.manylinux2014_x86_64.whl (22.5 MB)\n",
            "\u001b[K     |████████████████████████████████| 22.5 MB 1.3 MB/s \n",
            "\u001b[?25hRequirement already satisfied: Pillow in /usr/local/lib/python3.7/dist-packages (from rdkit-pypi) (7.1.2)\n",
            "Requirement already satisfied: numpy>=1.19 in /usr/local/lib/python3.7/dist-packages (from rdkit-pypi) (1.21.6)\n",
            "Installing collected packages: rdkit-pypi\n",
            "Successfully installed rdkit-pypi-2022.3.1\n",
            "`%tensorflow_version` only switches the major version: 1.x or 2.x.\n",
            "You set: `1.15.3`. This will be interpreted as: `1.x`.\n",
            "\n",
            "\n",
            "TensorFlow 1.x selected.\n"
          ]
        }
      ]
    },
    {
      "cell_type": "markdown",
      "source": [
        "![header.png](data:image/png;base64,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)"
      ],
      "metadata": {
        "id": "kyDbFEP74fvj"
      }
    },
    {
      "cell_type": "markdown",
      "source": [
        "![og.png](data:image/png;base64,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)"
      ],
      "metadata": {
        "id": "B9KJF7x14kQf"
      }
    },
    {
      "cell_type": "markdown",
      "source": [
        "<h1>Генеративные модели в химии</h1>\n",
        "\n",
        "Цели практикума\n",
        "<ul>\n",
        "<li>Научиться работать с генеративными моделями</li>\n",
        "<li>Получить набор молекул с заданными свойствами</li>\n",
        "</ul>\n",
        "\n",
        "Задачи практикума\n",
        "<ul>\n",
        "<li>Тренировка и перетренировка генертивной модели</li>\n",
        "<li>Определение желаемых свойств соедиенения</li>\n",
        "<li>Отбор наилучших молекул</li>\n",
        "</ul>\n",
        "\n",
        "Неоходимо выбрать свою любимую молекулу размером до 9 атомов и сделать так, чтобы модель сгенерировала похожие соединения"
      ],
      "metadata": {
        "collapsed": false,
        "id": "m5ZRShAmO2k8"
      }
    },
    {
      "cell_type": "markdown",
      "source": [
        "Полезные ссылки\n",
        "<ul>\n",
        "<li>https://arxiv.org/abs/1805.11973</li>\n",
        "<li>https://marvinjs-demo.chemaxon.com/latest/demo.html</li>\n",
        "</ul>"
      ],
      "metadata": {
        "collapsed": false,
        "id": "AEKdFPXaO2k-"
      }
    },
    {
      "cell_type": "code",
      "execution_count": null,
      "metadata": {
        "collapsed": true,
        "id": "73l0rhKsO2k-"
      },
      "outputs": [],
      "source": [
        "import tensorflow as tf\n",
        "import sys\n",
        "import subprocess\n",
        "import os\n",
        "\n",
        "drive_main_path = \"/content/drive/MyDrive/kaka/MolGAN\"\n",
        "\n",
        "sys.path.append(drive_main_path)\n",
        "\n",
        "from utils.sparse_molecular_dataset import SparseMolecularDataset\n",
        "from utils.trainer import Trainer\n",
        "from utils.utils import *\n",
        "\n",
        "from models.gan import GraphGANModel\n",
        "from models import encoder_rgcn, decoder_adj, decoder_dot, decoder_rnn\n",
        "\n",
        "from optimizers.gan import GraphGANOptimizer\n",
        "from rdkit import RDLogger\n",
        "from rdkit import Chem\n",
        "\n",
        "RDLogger.DisableLog('rdApp.*')\n"
      ]
    },
    {
      "cell_type": "code",
      "source": [
        "# generate dataset\n",
        "# data = SparseMolecularDataset()\n",
        "# data.generate(os.path.join(drive_main_path, 'data/gdb9_9nodes.sdf'))\n",
        "# data.save(os.path.join(drive_main_path, 'data/gdb9_9nodes.sparsedataset'))"
      ],
      "metadata": {
        "id": "cZkfeRl1kWc1"
      },
      "execution_count": null,
      "outputs": []
    },
    {
      "cell_type": "code",
      "execution_count": null,
      "outputs": [],
      "source": [
        "n_samples = 5000\n",
        "z_dim = 8\n",
        "\n",
        "data = SparseMolecularDataset()\n",
        "data.load(os.path.join(drive_main_path, 'data/gdb9.sparsedataset'))\n",
        "model_folder = os.path.join(drive_main_path, 'output_upgraded')"
      ],
      "metadata": {
        "pycharm": {
          "name": "#%%\n"
        },
        "id": "WY-mf8KwO2lA"
      }
    },
    {
      "cell_type": "code",
      "execution_count": null,
      "outputs": [
        {
          "output_type": "stream",
          "name": "stdout",
          "text": [
            "WARNING:tensorflow:From /content/drive/MyDrive/kaka/MolGAN/models/gan.py:17: The name tf.placeholder_with_default is deprecated. Please use tf.compat.v1.placeholder_with_default instead.\n",
            "\n",
            "WARNING:tensorflow:From /content/drive/MyDrive/kaka/MolGAN/models/gan.py:23: The name tf.placeholder is deprecated. Please use tf.compat.v1.placeholder instead.\n",
            "\n",
            "WARNING:tensorflow:From /content/drive/MyDrive/kaka/MolGAN/models/gan.py:32: The name tf.variable_scope is deprecated. Please use tf.compat.v1.variable_scope instead.\n",
            "\n",
            "WARNING:tensorflow:From /content/drive/MyDrive/kaka/MolGAN/utils/layers.py:33: dense (from tensorflow.python.layers.core) is deprecated and will be removed in a future version.\n",
            "Instructions for updating:\n",
            "Use keras.layers.Dense instead.\n",
            "WARNING:tensorflow:From /tensorflow-1.15.2/python3.7/tensorflow_core/python/layers/core.py:187: Layer.apply (from tensorflow.python.keras.engine.base_layer) is deprecated and will be removed in a future version.\n",
            "Instructions for updating:\n",
            "Please use `layer.__call__` method instead.\n",
            "WARNING:tensorflow:From /content/drive/MyDrive/kaka/MolGAN/utils/layers.py:34: dropout (from tensorflow.python.layers.core) is deprecated and will be removed in a future version.\n",
            "Instructions for updating:\n",
            "Use keras.layers.dropout instead.\n",
            "WARNING:tensorflow:From /content/drive/MyDrive/kaka/MolGAN/models/__init__.py:29: The name tf.matrix_transpose is deprecated. Please use tf.linalg.matrix_transpose instead.\n",
            "\n",
            "WARNING:tensorflow:From /content/drive/MyDrive/kaka/MolGAN/models/__init__.py:93: The name tf.log is deprecated. Please use tf.math.log instead.\n",
            "\n",
            "WARNING:tensorflow:From /content/drive/MyDrive/kaka/MolGAN/models/__init__.py:93: The name tf.random_uniform is deprecated. Please use tf.random.uniform instead.\n",
            "\n",
            "WARNING:tensorflow:From /content/drive/MyDrive/kaka/MolGAN/models/gan.py:70: The name tf.AUTO_REUSE is deprecated. Please use tf.compat.v1.AUTO_REUSE instead.\n",
            "\n",
            "WARNING:tensorflow:From /content/drive/MyDrive/kaka/MolGAN/optimizers/gan.py:38: The name tf.train.AdamOptimizer is deprecated. Please use tf.compat.v1.train.AdamOptimizer instead.\n",
            "\n",
            "WARNING:tensorflow:From /content/drive/MyDrive/kaka/MolGAN/optimizers/gan.py:40: The name tf.get_collection is deprecated. Please use tf.compat.v1.get_collection instead.\n",
            "\n",
            "WARNING:tensorflow:From /content/drive/MyDrive/kaka/MolGAN/optimizers/gan.py:40: The name tf.GraphKeys is deprecated. Please use tf.compat.v1.GraphKeys instead.\n",
            "\n",
            "WARNING:tensorflow:From /tensorflow-1.15.2/python3.7/tensorflow_core/python/ops/math_grad.py:1375: where (from tensorflow.python.ops.array_ops) is deprecated and will be removed in a future version.\n",
            "Instructions for updating:\n",
            "Use tf.where in 2.0, which has the same broadcast rule as np.where\n",
            "Device mapping:\n",
            "/job:localhost/replica:0/task:0/device:XLA_CPU:0 -> device: XLA_CPU device\n",
            "\n",
            "WARNING:tensorflow:From /content/drive/MyDrive/kaka/MolGAN/utils/trainer.py:37: The name tf.train.Saver is deprecated. Please use tf.compat.v1.train.Saver instead.\n",
            "\n",
            "INFO:tensorflow:Restoring parameters from /content/drive/MyDrive/kaka/MolGAN/output_upgraded/model.ckpt\n",
            "2022-04-19 21:28:32 Model loaded from /content/drive/MyDrive/kaka/MolGAN/output_upgraded!\n"
          ]
        }
      ],
      "source": [
        "model = GraphGANModel(data.vertexes,\n",
        "                      data.bond_num_types,\n",
        "                      data.atom_num_types,\n",
        "                      z_dim,\n",
        "                      decoder_units=(128, 256, 512),\n",
        "                      discriminator_units=((128, 64), 128, (128, 64)),\n",
        "                      decoder=decoder_adj,\n",
        "                      discriminator=encoder_rgcn,\n",
        "                      soft_gumbel_softmax=False,\n",
        "                      hard_gumbel_softmax=False,\n",
        "                      batch_discriminator=False)\n",
        "\n",
        "# optimizer\n",
        "optimizer = GraphGANOptimizer(model, learning_rate=1e-3, feature_matching=False)\n",
        "\n",
        "# session\n",
        "session = tf.Session(config=tf.ConfigProto(log_device_placement=True))\n",
        "session.run(tf.global_variables_initializer())\n",
        "\n",
        "# trainer\n",
        "trainer = Trainer(model, optimizer, session)\n",
        "\n",
        "trainer.load(model_folder)"
      ],
      "metadata": {
        "pycharm": {
          "name": "#%%\n"
        },
        "id": "hSoLcPi3O2lA",
        "colab": {
          "base_uri": "https://localhost:8080/"
        },
        "outputId": "d0c168d5-a2e2-476d-8904-d69f4fe0d3f2"
      }
    },
    {
      "cell_type": "code",
      "execution_count": null,
      "outputs": [
        {
          "output_type": "stream",
          "name": "stdout",
          "text": [
            "['C1CC2CC1OC1CC21', 'NOOCCOC1=C=C1', 'CCC1(C)CC2(C)CC12', 'CC1CC23CCC2C1C3', '*.CCC1C(C)CC1O', 'C#CCOC1C2CC21O', 'CCO.CNC(C)C#N', 'CC1C2CC23CC13C.O', 'CC12OC3(C)C(C1O)C23', 'C#CC1CCCC1OC', 'C#CC1CC2CC1C2O', 'CCON(C)C(C)C#N', '*.N#CCC1C2CCN12', '*.CCC1C(C)C2CC12', 'C#CC12CC3CC1C3C2', 'C#CC1CC2CC12OC', 'CC1CCC1(C)OC=O', 'CC1C2CC(O)C1CO2', 'CCC1(C)C(C)C2CC21', 'CCCNC=O.CNC', 'O=C1NC2CC=CC1C2', 'CC(C#N)C1CC1OO', 'C1C2CC3C1OC1C2C31', 'C1OCC2COC3C1=C23', 'CC1OC2CCOC1C2', 'C#N.CC1CC(O)C1N', 'C#CC1CC2C(O)C2O1', 'CC(O)C1CC(O)C1O', 'C#C.CC1CC(O)C1.N', '*.CCC(OC)C1CC1', 'C1C2CC3OC(CC13)O2', 'CC(C)CNC(C)C#N', 'N#CC1CC2C(O)C2N1', 'CC1OOCC(O)C1C', 'CC1CCCCC(=O)O1', 'N#CC1CCC(CO)C1', '*.N#CCC1C2CCN12', 'C.CC12CC3CC1C3C2', 'CC12COCC13COC23', 'C#CC1CCCC1CO', 'O=C1NC2CC=CC1C2', 'CC1=CC(C=O)CC1C', 'C#CC1CC2CNC2O1', 'C#CC1CC2C(O)C2O1', 'CC1CC=CCC(=O)O1', 'CC1CCC2(CCO2)C1', 'C#CC(C)C12CC1CO2', 'CC1CCCOC2C=C12', 'CC12CCC1CC(=O)O2', 'C.CC.CC(CO)NO', 'C#CC1CC2CCC2O1', 'CC(C)CNC(C)C#N', 'C#N.NCC1NCCO1', '*.N#CCC1CC=CO1', 'C#CC1CCCC1.CO', 'CC1CCCC(C=O)C1', 'C#N.NCC1NC=CO1', 'C#CC12CC3C(CC31)O2', 'C#CC12CC3C(CC31)O2', 'CC(C#N)N(C)C.CO', 'CCCC1CC1(C)C=O', 'CCC1CC(O)CC1O', 'CCCCC(O)CCO', 'C#CCCC(C=O)NC', 'CC12CCC3C4OC31C42', 'CC(C#N)C1(C)COC1', 'C#CC12CC3CC1C3C2', '*.C#CC12CC3CC1C32', 'C1=C2COCC1COC2', 'C#CC12C3CCC1C2C3', 'CC12CCC1CC(=O)O2', 'CC1OC2(C)C(O)CC12', 'CC1C2CC23C2OCC123', 'CC(C#N)C1(C)COO1', 'C1CC2(CCC3CC32)O1', 'C#CC1CCCC1CC', 'CC1OC2(C)C(O)CC12', 'C#CC1(C)C(C)C1CC', 'CC12OCCC1CC2O', 'CC1CC=CC2C(=O)C12', 'CCC12COC1C21CC1', 'CC1CC2CC(O)C1C2', 'CC12CCC3C4OC31C42', 'C.C#CC12CCC1C2C', 'C.CC1CC2(C)CC1C2', 'CCC12CCC1C21CC1', 'CC1OC2COCC12C', 'N#CC12CC3CC1C3C2', 'CC1CCCOC2C=C12', 'CC1CCCOC2CC12', 'CC1CC=CCC(=O)N1', 'CC(C)C1OC2C(C)C12', 'N#CC1CCC(CO)C1', 'O=C1NC2CC=CC1C2', '*.C#N.C1OC2CC1C2', 'CCC(C)C1C(=O)C1C', 'O=C1NC2=CC=CC1N2', 'O=C1CCC2OCCC12', 'OC1C=C(C2CO2)C1O', '*.CCC1C2CC3C1C23', 'CCC1C(C)C1(C)C#N', 'C#CC12CC3CC1C3C2', 'CC(O)CNC(C)C#N', 'C#CC12NC3C(CC31)O2', 'CCCC12NC1CC2=O', 'CC1CC2COC3CC123', 'N#CC1CC2C(O)C2O1', '*.CC1CC(=O)C1CO', 'N#CC1CCC(N)CO1', '*.C#CC1C2CC3C1C23', 'C1C2OC13CC21C2CC231', 'N#CC1CCC(CO)C1', 'COC1(CO)CCC1N', 'N#CC1CCC(CO)C1', 'CC1CC=CCC(=O)N1', 'CCC1(C)CC2(C)CC12', 'N#CC1CC2C(O)C2O1', '*.C#CC1(C)CC(C)C1', 'N#CC1CCC(O)CN1', 'COC1(C)C(C)CC1O', '*.CCC(OC)C1CC1', 'C#CC1(C)C(C)C1CC', 'CC1CCCOC2C=C12', 'CC1CC2(C)CCC2O1', 'C#CC1CC(CO)NO1', 'CCC1(C)CC2(C)CC12', 'CC1C2CC(O)C1CO2', '*.CCCC(=O)CC#N', '*.CCC(OC)C1CC1', 'CC(O)CNC(C)C#N', 'CCC12CC(O)CC1O2', 'N#CC1CC2C(O)C2N1', 'C1CC2(C1)CCC1CC12', 'CC1OC2CCC(C2)O1', 'CC12OCCC1CC2O', 'C#CCC.NCCO.O', 'C.N#CC12CC3CN1C32', 'CCCNC=O.CNF', 'CCCCCCNC=O', 'CC1CC23CC(O2)C1C3', 'C#CC(C)C12CC1CO2', 'C#CC12C3CCC1C2C3', 'C#CC1CC2(CO)NC12', '*.COC(CO)C1CC1', 'N#CC1CC2C(O)C2N1', 'OC1CC2CCOC2C1', 'COC12COC1CC2C', 'C1CC2(C1)CCC1CC12', 'CCOC1CCC(=O)C1', '*.CCC1C(C)C2CC12', 'C#CC12CC3C(C)C1C32', 'COC12COC1CC2C', '*.CCC1C2CN3C1C23', 'CC1CCC1(C)OC=O', 'CC1OOC2CC1C2C', 'C#CC12CC3C(C)C1C32', 'C.COC(CO)C1CC1', 'N#CC1CC2C(O)C2O1', 'CCC12COC1C21CC1', 'CC1CCCCC(=O)O1', 'N#CC1CCC(CO)C1', 'NC1OCCOC2=CC21', 'COC1(C)C(C)CC1O', 'N#CC12CC3C(CC31)N2', 'C#CC1OC2CCC2O1', 'C#CC12CCC1C2CC', '*.CC1C(CO)C2OC12', 'CCC12COC1C21CC1', 'CC1CCC1(C)OC=O', 'C#CC12C3CCC1C2C3', 'CC1CCC1(C)OC=O', 'N#CC1CC2C(N)C2O1', 'CC12OCCC1CC2O', 'C#CC(C)C1(CC)CC1', 'N#CC1CCC(CO)C1', 'C1CC2(CCC3CC32)O1', 'CC1CC=CCC(=O)N1', 'CCCNC=O.CNC', 'C1=C2C3COC2C1OO3', 'N#CC1CC2C(O)C2N1', 'C1=C2C3COC2C1OO3', 'C#CC1CC2C(O)C2O1', 'OC12CCC3C4CC31C42', 'CCC12CCC1C21CO1', 'CC(C#N)N(C)O.CO', 'C#CC1NC2CCC2O1', 'N#CC1CCC(CO)C1', 'CC12CC3(C)CC13C2.O', 'C1C2C3C4OCC35C2C145', 'C.CC(C)CC1CC1.O', 'C.CC1CC2OCC12O', '*.N#CC1C2CN3C1C23', '*.N#CCC1C2CCN12', '*.CCC1C(C)C2CC12', '*.N#CC1C2COC1C2', 'O=C1NC2CC=CC1C2', 'CC1(O)CC2(C)CCC12', 'C#CC1CCCC1.CO', 'CC1CCCCC(=O)N1', 'C1CC2CC1OC1CC21', '*.CCC1C(C)C2CC12', 'C#CC(C)C1CC1CO', 'CC12CCC1CC(=O)O2', 'CC1CCC1(C)OC=O', '*.N#CC1C2COC1C2', 'C#CC12CC3C(CC31)O2', 'C.CC1N(C)C1(C)C#N', 'C.CC1CC2CCC2O1', 'C#CC12CC3C(CC31)O2', 'CC12CCC1CC(=O)O2', '*.CN.NCCC1=NC1', 'COC1(CO)CCC1C', 'C#CC1(C)C(C)C1CC', 'C#CCOC1CCC1O', 'C1=C2C3COC2C1OO3', 'CCCN1C(C)C1C=O', 'OC1CC2CC1C1CC21', '*.CC1CC(O)C1C#N', 'C=O.CC1CC2CC2C1', 'C1CC2(CCC3CC32)O1', 'CC1CC=CC2C(=O)C12', 'C#CC1CCC(CO)C1', 'C=C1COCC1OON', 'CC1CCC2C3OC1C23', 'C1OCC2COC3C1=C23', 'C#CC12CCCC1CC2', 'C#CC1CCCC1CO', 'CC1CC=CCC(=O)N1', 'CC12CC=C1CC(=O)O2', 'CCC1(C)CC1(C)C=O', '*.N#CCC1CCCO1', 'OC1CCC(C2CC2)C1', 'N#CC12CC3C(NC31)O2', 'CC(C#N)CCCCO', 'CC1CC2CCC2(C)C1', '*.CCC1C(C)C2OC12', 'CC1CC=CCC(=O)N1', 'C1=C2COCC2OOC1', 'OC1CCC2OCCC12', 'C.C.NCCC1CN1.O', 'C1CC2(C1)CCC1CC12', 'C#CC12CC3C(CC31)O2', 'CC12CCC1CC(=O)O2', 'C#CC1OC2C3C1C23O', 'C#CC12CC3C(CC31)O2', '*.CCC1C(C)C2CC12', 'CCC(C)C(C)(C)C=O', 'N#CC1CC2C(O)C2O1', 'CC12C3CC1C1(C)C3C21', '*.CC(=O)CCN.CN', 'N#CC1CC2C(O)C2N1', 'N#CC1CC2C(O)C2N1', 'N#CC1CC2C(O)C2O1', 'CCC1(C)CC2(C)CC12', 'C#CC.OC1C2CC12O', 'C.CC12CC3CC1C3C2', 'C#CC1CCC(CO)C1', 'CC12CC3CC1C3(C)C2', 'CN1CC1CC#N.CO', 'CC1=CC23NC1C2C3=O', 'CCCC12NC1CC2=O', 'CC(O)CC1(C)CNC1', 'C1OCC2CC3CC1=C23', 'CCCCC(O)CCO', '*.COC(CO)C1CN1', 'CC1OCC2(CCO2)O1', 'CC(=O)C1CC2C(O)N12', 'CCC1CC2C(CC)C12', 'CC1=CC23CC1N2C3=O', 'C.CCC1(C)C(C)C1C', 'C#N.CC(CN)CC=O', 'C.CC1(C#N)C2CCN21', 'CC1CC2(CNC2)CO1', 'C#CC12CC3CC1C3C2', 'CCC1(C)C(O)C12CC2', 'CC(O)CNC(C)C#N', 'C#CC1CC2C(O)C2O1', 'CC1CCC1(C)OC=O', 'C#CC1CC2C(O)C2O1', 'C#CCOC1C2CC21O', 'CC1CC2CC2C1C.O', 'COC1(C)CCC1C.O', 'CC(CCCN)NC=O', 'CC1CC=CCC(=O)O1', 'C1CC2CCC(C1)C2.O', 'CC(C#N)NCCCO', 'C#CC12CC3C(C)C1C32', 'N#CC1CC2C(O)C2N1', 'NOOC1COC2C=C21', 'CC.CC12NC1CC2=O', 'N#CC12CC3C(CC31)O2', 'C.CC12CCC1C21CC1', 'N#CC1CC2C(O)C2O1', 'O=C1NC2CC=CC1C2', 'C#CC12CC3C(CC31)O2', 'CC12CC3CC1C(O)C32', 'CC(O)CC1(C)CNC1', 'CC12CC3CC1C3(C)C2', 'CC1CC1C1(C)CCC1', 'CCC1C(C)C1(C)C#N', 'CC(=O)C1NC2C(=O)N12', 'C#CC1OC2CC1C2O', 'C.CC1(C#N)C2CCN21', 'N#CC1CC2C(O)C2N1', 'C#CC1OC2CCC2O1', 'C.CC(C)C(O)C1CC1', 'CC1CC2(C)CNC2O1', 'C.CC12CC3CC1C3C2', '*.CO.NCCC1=NC1', 'CC1(OC=O)CCC1N', 'C=O.CN1CC1CCN', 'CC1OC2COCC12C', 'CC1CC=CC2C(=O)C12', 'NC1CC=CC2C(=O)C12', 'CC(C#N)C(C)(C)C=O', 'CCC12COC1C21CC1', 'C.CCC1COCC1C', 'OC1C2C3CC14C31CC241', 'N#CC1CC2C(O)C2N1', 'CC1C2CCCC12C#N', 'CC(C)CNC(C)C#N', 'CC1CC(C=O)CC1C', 'C#CC12CC3C(CC31)O2', 'OC1CC(C2CO2)C1O', '*.CC1C2CC2C1(C)C', 'N#CC1CCC(CO)C1', 'CC1OC2CC(O)C1C2', 'O=C1NC2CC=CC1C2', 'OC1CC2CC1C1CC21', 'CC(C#N)C1CCCO1', 'C#CC12CC3CC1C3C2', 'OCC1=CC2COC1C2', 'COOC(C)C(C)C#N', 'CCC(C)N1C(=O)C1O', 'C#CC12CC3C(C)C1C32', 'C#CC1(C)C2OCC21C', '*.CCC1C(C)C2CC12', 'N#CC1CC2C(O)C2O1', 'C=O.CN(C)C1CC1N', 'C#CC1CC2C(O)C2O1', 'OC1C=C2C1OC1OC21', '*.N#CC12CCC(C1)C2', '*.CO.NCCC1CN1', 'CCC1(C)CC1(C)C=O', 'CC12CCC3C4OC31C42', 'C.CC12CCC1C21CC1', 'CC1CC2CC(O)C1C2', 'CC1C2OC3C4(CC4)C123', 'C.OC12COC1C1CC12', 'C#CC1CC(CN)CO1', 'NOOC1COC2C=C21', 'C1OC2C3CC2C1OO3', 'C.CC12C3CC4C3C1C42', 'C#CC12C3CC4C3C1C42', '*.N#CCC1CN1CO', 'C#CCOC1C(C)C1O', 'O=C1NC2CC=CC1C2', 'C#CC1CC2C(O)C2O1', 'N#CC12CC3C(CC31)O2', 'C#N.NC1C2COC1C2', 'C1CC2(CNC2)C2CC12', '*.CCC1C(C)C2OC12', 'COC12COC1CC2C', 'C#CC1(C)C(C)C1CC', 'CC1=CC2(C=O)CC1N2', 'CC1C2C3C(C)C34C1C24', 'NC1CC=CC2C(=O)C12', 'CC1CCC(C#N)NC1', 'COC12COC1CC2N', 'CC12C3CC1C1(C)C3C21', 'N#CC12CC3C(CC31)O2', 'C#CC1CC2C(O)C2O1', 'C#CC12C3CCC1C2C3', 'CC1CC(C=O)CC1C', 'C#CC1CC2C(O)C2O1', 'CCC1CC(O)C1(C)O', 'N#CC1CCC(CO)C1', 'CC1=CC(C=O)CC1C', 'CC12CCC1CC(=O)O2', 'CC1COC2C3CC12O3', 'OC1COC2C1=CC2O', 'OC1CC(C2CO2)C1O', 'OCC1=CC2COC1C2', 'N#CC1CC2C(O)C2N1', 'C#CC1CCCC1OC', 'C1C2C3CC4(CC3O4)C12', '*.CC1(C#N)CCCN1', 'CC(=O)C1NCC(=O)N1', 'CC1CCCOC2C=C12', 'N#CC1CC2C(O)C2O1', 'CC(O)CC1(C)CNC1', 'CC1CC2COC3CC123', 'CC=CCC(C)OC=O', 'N#CC1CC2C(N)C2O1', 'CC12CC=C1CC(=O)O2', '*CC1CCCO1.C#N', 'N#CC1CCC(CO)C1', 'C.C#CC12CC3CC1C32', 'CC1NC2(C)CNC2O1', 'C1OCC23CC4CC12C43', 'CC1CCC(O)C(C)C1', 'CC1CCCOC2CC12', 'CC1CC=CCC(=O)N1', '*.CCC1C(C)C2CC12', 'CCC12CCC1C21CC1', 'CC=CC1CCNC1=O', 'C.CCOC1CCC1O', '*.C#CC1C2CC3C1C23', 'C#CC.CC(CO)NO', 'CC12CCCC3OC1C32', '*.C#N.CC1CCCO1', 'C.CC(C)(C)CCO.N', 'CC1CCC(O)C(C)C1', 'C#CC12OC3CC1C3O2', 'C#CC1CCCC1CO', 'C.CC12CC3CC1C3C2', 'CN(C)CCCNC=O', 'C#CC12CC3C(NC31)O2', 'CC12COCC3OC1C32', 'C#CC1(C)C(C)C1CC', 'CC1OC2CCC(C2)O1', 'C1=C2COCC2OOC1', 'CC12CC3CC14OC4C32', 'CCC1CC(O)C1(C)O', 'C#CCC.OC1CC1O', 'C#CC1CCC(CO)C1', 'CC1CC=CCC(=O)N1', 'CCC1(C)C(O)C1(C)C', 'C.N#CCC1C2OCN12', '*.N#CC1C2COC1C2', 'CC12CCC1CC(=O)O2', 'CC1(C=O)CC1CCN', 'CC(=O)C1NC2C(=O)N12', 'CC12CCCC3OC1C32', 'CC1=CC2CC1NC2=O', 'CC(C)C1OC2C(C)C12', 'C#CC12C3CCC1C2C3', 'CC1C2C3C1(C)CC23C', '*.CCC1C(C)CC1O', 'CC1OC2COCC12C', 'C#CC12CC3C(CC31)O2', 'COC1(C)C(C)CC1O', 'N#CC1CC2C(O)C2N1', 'C#CC1CCC(CO)C1', 'C#CC12CCC1C2CC', 'CN1CC1CCNC=O', 'CC1CC=CCC(=O)N1', 'N#CC1CC2C(O)C2N1', '*.N#CCC1C2OCN12', 'N#CC1CCC(CO)C1', 'C#CC1OC2C3C1C23O', 'C#CC12CC3CC1C3C2', 'OCC=C1COCC1O', 'CCC12CCC1C21CC1', 'NC1=C2N#CC(CC1)O2', 'N#CC1CC2C(O)C2N1', 'C#CC1OC2CC1C2O', 'C.C#CC1(C)C(C)C1C', 'CC1CCC(CCO)O1', 'CCC1(C)CC2(C)CC12', 'C#CC1CCC(CO)C1', 'C#CCCC(CO)NC', 'CCC(C)C12CC1OO2', 'CC12CC3CC1C3(C)C2', 'CC1CC2(C)CCC2O1', 'O=C1CC2CC=CC1C2', 'CC12CC=C1CC(=O)O2', 'CCC(C)N1C(=O)C1O', 'NOCC1COC2C=C12', 'C1=C2C3COC2C1OO3', 'CCCN(C)C(C)C#N', 'C#CC(C)C1(OC)CC1', 'CC(C#N)CCCCO', 'N#CC12NC(CO1)C2N', '*OC1CC(=O)C1.CN', 'CCC12CC3C1C3(C)C2', 'C#CC12CC3CC1C3C2', 'C.CC12CC3CC1C3C2', 'CC.OC1CC2NC2C1', 'C1OCC2COC3C1=C23', 'OC1=C2N=CC(CC1)N2', 'N#CC1CC2CON1C2', 'CC1=CC2NC1CC2=O', 'N#CC1CCC(CO)C1', 'C#CC1CC2CNC2O1', 'C.C#CC12CC3CC1C32', 'N#CC1CC(CO)CN1', 'CCC(C)C(C)(O)C=O', 'CC12CC=C1CC(=O)O2', 'C#CC12CC3C(CC31)O2', '*.N#CC1C2CN3C1C23', 'C#CC(C)C1CC1CO', 'CC1OC2CCC(C2)O1', 'CCC1(C)CC2(C)CC12', 'C#CC12C3CCC1C2C3', 'CC1C2OC3C2C32CC12', 'N#CC1CCC(CO)C1', 'COC1(C)C(C)CC1O', 'CC(O)CNC(C)C#N', 'C.CC1CC2OCC12O', 'C#CC12CC3C(C)C1C32', 'C1CC2(C1)CCC1CC12', 'CC1OC2COCC12C', 'N#CC1CC2C(O)C2O1', 'CC(=O)C1CC2C(=O)N12', 'CC1CC=CCC(=O)O1', 'C#CC12CC3C(CC31)O2', 'COC1(C(C)C)COC1', 'C#CC1CCC(CO)C1', 'CCC1CC(O)CCO1', 'C#CC12CC3C(CC31)O2', 'C.CC12C3CCC1C2C3', '*.CCC1C(C)C2OC12', 'COC1(C)C(C)CC1O', 'CC(O)C12CC(O1)C2C', 'OC1CC2CC1C1CC21', '*.CCC1C(C)C2CC12', 'C.CC12CCC1C21CO1', 'CC1CC(C=O)CC1C', 'CC(C#N)C(C)(O)C=O', '*.CCC1C(C)C2CC12', 'COC1(CO)CCC1N', 'CC12CCC1CC(=O)O2', 'CC1CC=CCC(=O)N1', 'CC(C#N)C1CCCO1', 'C1OCC2COC3C1=C23', 'CC1CCC1(C)OC=O', 'OC1CC2CC1C1CC21', 'CC(CCCN)OC=O', 'CC1CCC1(C)OC=O', 'C#CC12CCC1C2CC', '*OC12COC1C1=CC12', 'C#CC12CCC1C2CC', 'C.CC12CC3CC1C3C2', 'CC1OC2COCC12C', '*.CC1CC(=O)C1C#N', 'CO.N#CC1CCCC1', 'CC12CC34CC1C3CC24', 'CC12CC3CC1C3(C)C2', 'N#CC1CCC(CO)C1', 'N#CC12NC(CO1)C2N', 'COC1(C(C)O)COC1', 'C#CC1CC2C(O)C2O1', '*C1C2COC1(C#N)C2', 'CCC1(C)CC(C)(C)C1', '*.CCC1C2CC3C1C23', 'NC1CC=CC2C(=O)C12', 'CCOCC(O)CCO', 'CC=CC1CCNC1=O', 'CC1OC2(C)C(O)CC12', 'N#CC1CCC(O)CN1', 'C#CC12OC3CC1C3O2', 'C.CC1COCC1CO', 'C#CCOC1C2CC21O', 'NC1CC=CC2C(=O)C12', 'C#CC1CCC(CO)C1', '*.CCC1C2CC3C1C23', '*.CCC1C(C)C2CC12', 'C#CC12CC3C(CC31)O2', 'CC12OCCC1CC2O', 'C1=C2COCC2OOC1', 'CC(=O)C1CC(=O)CN1', 'CC1CC2CCC2(C)C1', 'C#CC12C3CCC1C2C3', 'CCC12COC1C21CC1', 'C.CC12CC3CC1C3C2', 'CC12OC3(C)C4C1OC423', 'C#CCC.O.OC1CN1', 'N#CC1CCC(CO)C1', 'CC12CCC1CC(=O)O2', 'C#CC1CC2C(O)C2O1', 'CC12CCC1CC(=O)O2', '*.CCC1C(C)C2CC12', '*.CCC1C(C)C2CC12', 'CC1CCC1(C)OC=O', 'CC12CC3CC1C3(C)C2', 'C#CC1CCC(CO)C1', 'C.C#CCC1C2CCC12', 'C#CC12CC3CC1C3C2', 'C#CC1CC2CNC2O1', 'C#CC1OC2C3C1C23O', 'CC1OCC2(CCC2)O1', 'CC1CC2CCC2(C)C1', '*.CC1(C)CC(C)(C)C1', 'C.CC1C(CO)C2OC12', 'CCCN(C)C(C)C#N', 'C#CC12CC3C(CC31)O2', 'C#CC1(C)C(C)C12CC2', 'C.C.CCC(O)C1CC1', '*.CO.NCCC1CN1', 'C#CC12CC3C(CC31)O2', 'C#CC1CCCC1.CO', 'C#CC1OC2C3C1C23O', '*.N#CC12CC(CO1)C2', 'CC1CCC1(C)OC=O', 'C.CC.ON1C2CC21O', '*.CCC1C(C)C2OC12', 'CCC1CC2C(C=O)N12', 'CC1=CC23NC1C2C3=O', 'CC1OCC(CO)C1C', 'C1C2CC3C1OC1C2C31', 'C.CC(O)C(O)C1CC1', '*.N#CCC1CCCO1', 'C.CC12CC3CC1C3C2', 'CC1CCC1(C)OC=O', 'C#CC1CC2C(O)C2C1', 'N#CC12CC(CO1)C2N', '*.CCC1C(C)C2CC12', 'CC(CCCN)NC=O', '*.CC1(C#N)CCCN1', 'C1CC2CC1OC1CC21', 'C#CCOC1C2CC21O', 'C.CCC1C(C)C2CC12', 'C1OC2C3CC2C1OO3', 'N#CC1CC2C(O)C2O1', 'C#CC1CCC(CO)C1', '*.C#CC1C(C)CC1C', 'CCC(C)N1C(=O)C1O', 'CC1CC1CCNC=O', 'C#CC12CC3C(CC31)O2', 'CC(C#N)C1CCCO1', 'C.CC12C3CCC1C2C3', 'CC(C)C1OC2C(C)C12', 'C.CC1CC(O)C1(C)O', 'C#CC1CCC(CO)C1', 'C1C2CC3C1OC1C2C31', 'CC1CC2COC3CC123', 'CC1C2C(O)CC13OC23', 'C1=C2COCC1COC2', 'C#CC1C(CO)C2OC12', 'C#CC1NC2CNC2O1', '*.N#CCC1CNCN1', 'CC(O)CNC(C)C#N', 'C.CC1C2CC3(C)C1C23', 'O=C1NC2CC=CC1C2', 'C#CC1CCC(CO)C1', 'C#CC12CC3CC1C3C2', 'CC1CC=CC(C=O)C1', '*.CC1CC(=O)C1C.O', 'O=C1NC2=CC=CC1N2', 'C1=C2COCC2OON1', 'C#CC1CCC(CO)C1', 'CC1=CC2NC1CC2=O', 'C=O.CCCN1CC1C', 'CCC12COC1C21CC1', 'C.CC1(C)CC2CCC21', 'COC1(C)CCC1C.O', 'C#CC12NC34C(O1)C3C24', '*.COC1C2=CC2C1O', 'C.CC1CCCC1CO', 'C#N.NCC1NCCO1', 'CC1OC2CCC(C2)O1', 'C#CC1CCC(CO)C1', 'C.CC1CC2CCC2O1', 'C1OC2C3=C2C1OON3', 'C#CC1CC2C(O)C2O1', 'CC1CC2(C)C3OC1C32', '*.CCC1C(C)C2CC12', 'C#CC1CCC(CO)C1', 'CC(CC=CN)NC=O', 'CC(O)CNC(C)C#N', 'C1=C2OC3COC(C3)C12', 'C1=C2COCC1COC2', 'CCC1(C)CC12CC2=O', 'O=CNC1CC2CC2C1', '*.CCCC(=O)CC#N', 'CC1CCC2C3OC1C23', 'C1CC2(CCC3CC32)O1', 'NOOC1COC2=C=C21', 'C1CC2CC1OC1CC21', 'C#CC1CC2CCC2O1', 'C.CC1(C#N)C2CCN21', 'COC1(C)C(C)CC1O', 'C1CC2CC1OC1CC21', 'CC1OC2COCC12C', 'C#CC1OC2C3C1C23O', 'C1=C2COCC1COC2', 'CCC1CC2C(=O)N12.O', 'CC1C2OC3C4(CC4)C123', 'CCCCC(C)OC=O', 'C.N#CCC1CN1CO', 'CC1C2CC(O)C1C2O', 'C1=C2COCC2OOC1', '*.C#CC1C(C)CC1O', 'CCC(C)N1CC1CO', 'CC1CCCOC2C=C12', 'C.CC12CC3CC1C3C2', 'C.CCOC1C2CC21O', 'C.CC(C)C(O)C1CC1', 'CC1CC2(C)CC2C1O', 'N#CC1CC2C(O)C2O1', 'CC1CC=CCC(=O)N1', 'CC1CCC1(C)OC=O', 'CCNC1CCC(=O)C1', 'CC1CC=CCC(=O)N1', 'C#CC12CCCC1CC2', 'NOOC1COC2C=C21', 'CC1CCCCC(=O)O1', 'CC1CCC1(C)OC=O', '*.N#CCC1C=NCO1', 'N#CC1CC2C(O)C2O1', 'CCOC1CCC1(C)O', 'C1=C2COCC2OON1', 'CC1OCC2(CCO2)O1', 'C#CC1CCCC1.CO', 'CC1CCC1(C)OC=O', 'N#CC1CC2C(N)C2O1', 'N#CC1CCC(CO)C1', '*.CCC(C)(O)CCO', 'C#CC12CC3CC1C3C2', 'CNCCCCNC=O', 'C.C.CCC1OC2CC12', 'C#CC1CC2(CO)NC12', 'CC12CC3CC1C3(C)C2', 'C#CC1CC2C(O)C2O1', 'CC(C)C(O)C1CC1C', 'CC1C2C3C1(C)CC23C', 'C#CCOC1CCC1O', 'C1CC2(CCC3CC32)O1', 'C#CC12CC3C(CC31)O2', 'C.CC1(C#N)C2CCN21', 'CC(C#N)CCCCO', 'O=C1NC2CC=CC1C2', 'CC1CC=CCC(=O)O1', '*.N#CCC1CCCO1', 'COC12COC1CC2C', 'N#CC1CC2C(O)C2N1', 'C1OC2C3CC2C1OO3', 'CC1CC=CC2C(=O)C12', 'C#CC1CCCC1.CO', 'CC(C)C1OC2C(C)C12', 'C.CC1COCC1CO', 'C=O.CCCC1CC1C', 'C#CC1(C)C(C)C12CC2', '*.CC1C2CC13CC23.O', 'CC1OCCOC2CC12', 'CC1CC=CCC(=O)O1', 'C#CC12CC3CC1C3C2', 'C#CC1NC2CNC2O1', 'N#CC1CCC(N)CN1', 'CCC1CC(O)CC1O', 'C.CC1CC2CCC2C1', 'CC1CC2COC3CC123', 'C.CC1COCC1CO', 'CCCN(C)C(C)C#N', '*.N#CCC1CNCN1', 'C1C2C3CC4(CC3O4)C12', 'C#CC12CC3CC1C3C2', 'CC(C)CNC(C)C#N', '*.CC1CC(=O)C1C#N', 'CC(C#N)NCCCO', 'C#CC1CCCC1CC', 'CC1CC2(C)CC2C1O', 'CC1C2C(O)CC13OC23', 'C#CC12C3CCC1C2C3', 'CC(CCCN)NC=O', 'C.CC1CC2CCC2O1', 'N#CC1CC2C(O)C2O1', 'CC1CCCCC(=O)C1', '*.C.CC1(C)CC2CC21', 'OC1CC2CC1C1CC21', 'C#CC12C3CCC1C2C3', '*.N#CCC1CCCN1', '*OCCC1=NC1.CO', 'C.CCC1C(C)C2CC12', 'NC1OC2COC3=CC312', 'N#CC1CC2C(O)C2N1', 'N#CC12CC(CO1)C2N', 'C#CC1CC2C(O)C2O1', 'O=C1NC2CC=CC1C2', 'N#CC1CC2C(O)C2O1', 'C#CC(C)C12CC1CO2', 'CC1OC2CCC2(C)O1', 'C#CC(C)C1(CC)CC1', '*.COC(CO)C1CC1', 'CC(CC=CN)NC=O', 'C#CC1CCCC1.CO', 'C#CC12CC3CC1C3C2', 'OC1CC2CC1C1CC21', 'N#CC1CC2C(O)C2O1', 'CC(C#N)C1CCCO1', 'COC12COC1CC2C', '*.C#CC12CC(CO1)C2', 'C#CC1CCCC1OC', 'C#CCCC(C=O)NO', '*.CN.NCCC1=NC1', 'C#CC12CC3C(CC31)O2', 'OC1C2C3CC14C31CC241', 'CC12CC3CC14OC4C32', 'C#CC1CC(CN)CO1', 'C#CC1CC2(CO)CC12', 'CC1CCCC(C=O)C1', 'C#CC1OC2C3C1C23O', 'CCC1C2CCC12CC', 'CC(C)CC1(C)CCC1', 'CC(O)C1CC(O)C1O', 'C#CC1CC2CC1C2O', 'C=O.CC1CC1CCN', '*.CCC1OC1CCN', 'CC1OC2CC(O)C1C2', 'C#CC1OCC2C(O)C12', 'C#CC12CC3C(C)C1C32', 'CC(C#N)C(C)(O)CO', 'C#CC1CC2C(O)C2O1', '*.CC1C2C3=CC31C2O', 'C#CC(C)C12CC1CO2', 'CC(O)CC1(C)CNC1', 'CCCCC(C)OC=O', 'CCC1C(CC)C2CC12', 'N#CC1CCC(CO)C1', 'CC1C2C(O)CC13OC23', 'C=O.CCCC1CC1C', 'CC1CC=CCC(=O)C1', 'CC1CCC1(C)OC=O', '*.C#CC12CC3CC1C32', 'CCC1CC(C)C(=O)N1', 'CC(C)CC1CC1C=O', 'OCC=C1CNC2OC12', 'CC1CCC1(C)OC=O', 'CC1CCC2(CCC2)C1', '*.COC(CO)C1CC1', 'N#CC1CC2C(O)C2N1', 'CC(O)C1CC(O)C1C', 'CC1CCCC(C=O)C1', 'CC1CC=CCC(=O)N1', 'CC1C2C(O)C(C)(O)C12', 'C.CC(C)(CN)CCO', 'C#CC12OC3CC1C3O2', 'CC1C2C(O)CC13OC23', 'O=C1NC2CC=CC1C2', 'C#CC1OC2C3C1C23O', 'CC.OC1CCNOC1', 'N#CC1CCC(CO)C1', 'N#CC1CCC(CO)C1', 'NC1CC=CC2C(=O)C12', 'N#CC1(CN)NCCO1', '*.C#C.C1C2CC3C1C23', 'N#CC1CC2C(O)C2C1', 'NC1=C2N#CC(CC1)O2', 'C#CC12CC3C(CC31)O2', 'N#CC1CCC(CO)C1', 'CC1CC2CC(O)C1C2', 'C#CC1CCCC1CO', 'CC12CC3CC1C3(C)C2', 'C#CC1CC2C(O)C2O1', 'C.CC1(C#N)CCCN1', 'CCOCC(O)CCO', 'CC.NCCC(=O)CO', 'CC1CC=CCC(=O)N1', 'CC1=CC(C=O)NC1C', 'N#CC1CC2C(O)C2N1', 'C#CCCC(CO)CO', 'CC12C3C4CC1(C3O)C42', '*.C#CC1C(C)CC1C', 'C.CC1CC2CCC2O1', '*.CC1C(CO)C2OC12', 'C#CC1CCC(CO)C1', 'CC(C#N)N(C)C.CN', 'C#CC(C)C(CC)OC', 'N#CC12NC(CO1)C2N', 'CC1CC=CCC(=O)N1', 'CC(CCCN)NC=O', 'CCC(C)C(C)(C)C=O', 'N#CC1CC2C(O)C2O1', 'C#CC12CCC1C21CC1', 'COC1(C)C(C)CC1O', 'CC(C#N)N(C)O.CO', '*.CO.NCCC1CN1', 'CC12C3CC34C3OC1C324', 'CC1CC=CCC(=O)N1', '*.OC12COC1C1CC12', 'CC(O)C1CC(O)C1O', 'C.N#CC12CC(CN1)C2', 'C#CC(C)C1(OC)CC1', 'O=C1NC2CC=CC1C2', 'C#CC12CCC1C2CC', '*.CCC1C2CC3C1C23', 'C#CC1CC2CCC2O1', 'CC1(O)C(N)CC1C=O', 'CC12OCCC1CC2O', '*.CCC1C(C)C2CC12', '*CC(C)(CC)C1CC1', 'C#CC12OC3CC1C3O2', 'C1OC2C3CC2C1OO3', '*.COC1C2=CC2C1O', 'COC12COC1CC2C', 'CC1CCC1(C)OC=O', 'NC1OCCOC2=CC21', 'O=CC12CCC#CC1N2', 'C1CC23COCC2CC13', 'C.CC12C3CCC1C2C3', 'CC12C3CC4(CCC41)C32', 'CC(C#N)C1CCCO1', 'C.OC1COC1C1CC1', 'OC1CC2CC1C1CC21', '*.CC1CC(=O)C1CN', '*.N#CCC1C2CCN12', 'O=C1CC2CCCC1C2', 'CC1CN(C(C)C#N)C1', 'CC1CCC(O)C(C)C1', 'CC1CC1CCNC=O', 'C.C=C(O)CC1CC1.O', 'CC1=CNC1(C)OC=O', 'C.C.CCCC1CC1.O', 'COC12COC1CC2C', '*.CCC1C(C)C2CC12', 'C.CC1CC2CCC2O1', 'OC1CC2CC1C1CC21', 'COC1(C)CCC1C.O', 'CCC1(C)CC2(C)CC12', 'N#CC1CC2C(O)C2N1', 'C=O.CN1CC1CCN', 'C#CC1CC2C(O)C2O1', 'CCC1(C2CC2)CCO1', 'CC12OCCC1CC2O', 'N#CC1CC2C(O)C2N1', 'COC12COC1CC2C', 'N#CC1CC2C(O)C2N1', 'CCC#N.NC=CO.O', 'CC(O)CC1(C)CNC1', 'C#CCC.OCC1CN1', 'CC(C#N)N(C)C.CO', 'CC1CCCC(C=O)C1', 'N#CC12CC3C(CC31)O2', 'CC1CCCOC2C=C12', 'NOOC1COC2=C=C21', 'CC1C2C(O)C23OC13C', 'CC1=CC2C(=O)C2C1N', 'C#CC1CCCC1.CO', 'CC1OOCC(O)C1C', 'N#CC12CC3C(N1)C3O2', 'CC1CC2CCC2(C)C1', 'CC=CC12NCC1C2=O', 'C#CCCC(CO)NO', 'C#CC12OC3CC1C3O2', 'C1CC23CC1C1OC2C13', 'CC12CCCC3OC1C32', 'CC12OCCC1CC2O', 'CCC1CC(O)CCO1', 'CC1CC2CC2(C)C1.O', 'CC1C2OC3C2C32CC12', '*.CCC1C2CC3C1C23', 'CC(C#N)NC1CC1O', 'CC1OCC2(CCO2)O1', 'C#CC1CC2CNC2O1', 'CC(C#N)C(C)(O)C=O', 'C#CC12C3CC4C3C1C42', 'CCCCC(C)NC=O', 'CC=CO.CCC#N.O', 'CC1CCCOC2C=C12', 'CC1CCC1(C)OC=O', 'CC1CCCOC2C=C12', '*.N#CC1C2COC1C2', 'C#CCCC1(CO)CN1', 'O=CNC1CCCNC1', 'C1C2CC3C1OC1C2C31', 'C#CC12CC3CC1C3C2', 'C#CC1CC2CCC2O1', 'C#CC12CC3C(CC31)O2', 'N#CC1CC2C(O)C2O1', 'C1=C2COCC2OOC1', 'C.CC1CCCC1CO', 'CC12CC3CC1(CO)C32', '*.C#N.C1OC2CC1C2', 'CCCN1C(C)C1C=O', 'CC1CCCOC2C=C12', 'N#CC12NC(CO1)C2N', '*C1C2COC1(C#N)C2', 'CCC12CCC1C21CC1', '*.N#CCC1CNCO1', 'OC1CC2CCOC2C1', 'NOCC1COC2C=C12', 'CCC(C)C12CC1OO2', 'C#CC12CCC1C2CC', 'CC(C)C(O)C1CC1C', 'C.CO.NCCC1CN1', 'OCC1=CC2COC1C2', '*.CCC1C(C)C2CC12', 'C#CCOC1C(C)C1O', 'N#CC1CCC(O)CN1', 'CCO.CNC(C)C#N', 'CC(O)CNC(C)C#N', 'N#CC1NC2(CN2)CO1', '*.CCC1C(C)C2CC12', '*.C#N.C1OC2CC1C2', 'CC1OC2(C)C(O)CC12', 'CCC1(C)CC2(C)CC12', '*.CCC(C)(O)CC=O', 'CC1(OC=O)CCC1N', 'C#CC12CC3CC1C3C2', '*.C#CC1C2CC3C1C23', 'CC1CC=CCC(=O)N1', 'CC1=CNC1(C)OC=O', 'C1OC2C3CC2C1OO3', '*.N#CCC1C2CCN12', 'O=C1NC2CC=CC1C2', 'CC(N)CNC(C)C#N', 'O=C1NC2CC=CC1C2', 'CCOOCCC(C)O', 'CCC(C)C1(CO)CC1', 'CC1CC2(C)C3OC1C32', 'C#CC12CC3CC1C3C2', 'C#CC(C)C(C)(C)C=O', 'CC1CC=CCC(=O)N1', 'C.CC1(C#N)CCCN1', 'CC1=CC2C(=O)N2C1C', 'C.CC1C2CC3(C)C1C23', 'N#CC1CC2C(O)C2N1', 'CCOC1CCC(O)C1', 'CC1CC=CC2C(=O)C12', 'N#CC12CC3C(CC31)O2', 'NOOC1COC2C=C21', 'C#CC1CC2C(O)C2O1', 'CC1C2CC(C#N)NC12', 'COC1(C)C(C)CC1O', 'NC1CC=CCC(=O)N1', 'C.NCCC1CN1CO', 'C.CC1C(C)C1(C)C#N', 'CC(C)CNC(C)C#N', 'CC12CC3CC1C3(C)C2', 'C#CC12CC3CC1C3C2', 'C#CC1CCC(CO)C1', 'CC(C#N)C1CCCO1', 'C.CC1CC2OCC12O', 'CC1CCC2(CCO2)C1', 'CC12OCCC1CC2O', 'C#CC1CC2CNC2O1', 'C#CC(C)C12CC1CO2', 'CCCN1C(C)C1C=O', 'CC1(O)C(N)CC1C=O', 'OC1COC2C1=CC2O', 'C#CC1CCC(CO)C1', 'C1OOC2COC3C1=C23', 'N#CC1CCC(O)CN1', 'C#CC1CCC(CO)C1', 'CC1COOC(C)C1C', 'CC1CCCOC2C=C12', 'CCC(CCO)C1CC1', 'CC12OCCC1CC2O', 'C#CC12CC3C(C)C1C32', 'OC1CC2CC1C1CC21', 'CCC12CC(O)CC1O2', 'CC1CC2(C)CC2C1O', 'CC(C#N)C1CCCO1', 'O=C1CC2CC=CC1C2', 'C#CCC.OC1CC1O', 'OC1CC(C2CO2)C1O', 'CC(C#N)C1CCCO1', 'N#CC1CC2C(O)C2N1', 'CCC1C2CCC12CC', '*.N#CCC1C2CCN12', '*.CC1CC(=O)C1CO', 'C#CC1OC2CC1C2O', 'CC1CC2(C=O)CC12C', 'N#CC12CC3C(CC31)O2', 'C.CC12CCC1C21CO1', 'CC1OOC2CC1C2O', 'CC12CCC1CC(=O)O2', 'CC1CC=CC2C(=O)C12', 'OC1CC2CC1C1CC21', 'CCC1(C)C(O)C12CC2', 'CC(C#N)C1(C)CCO1', 'CCCNC(=O)C(C)O', 'CC1CC23CCC2C1C3', 'C#CC12C3CCC1C2C3', 'CC1OCCOC2C=C12', 'CC1CCC2(CCC2)C1', 'CC12CCC1CC(=O)O2', 'CCC1(C)CC2(C)CC12', 'N#CC1CC2C(O)C2N1', 'C#CC(C)C12CC1CO2', 'CC1CC=CCC(=O)N1', 'C=C1COCC1OON', 'CCC(C)N1CC1CO', 'CC12COCC1OC2N', 'C.CC1N(C)C1(C)C#N', 'N#CC1CC2C(O)C2N1', 'C#CC12CC3C(CC31)O2', '*.CCC1C(C)C2CC12', 'C#CC1CCC(CO)C1', 'CC1CCC(CCO)O1', 'CCC12CCC1C21CC1', 'CC(CCCN)NC=O', 'N#CC1CCC(CO)N1', 'CC1CCC2(CCC2)C1', 'CC12CC3CC1C3(C)C2', 'CC12CCC3(C1)OCC23', 'OCC=C1CNC2OC12', 'C1CC2(CCC3CC32)O1', 'CC1CC2CCOC1C2', 'CCC1CC(O)C1(C)O', 'CCCCC(C)OC=O', 'C#CC1CC2C(O)C2O1', '*.C#CC1C2CC3C1C23', 'N#CC12NC3C(CC31)O2', 'CC1CCCCC(=O)O1', '*NCCC1CN1.CO', 'CC12CCC1CC(=O)O2', 'COC12COC1CC2C', 'C#CCOC1C2CC21O', '*C1C2COC1(C#N)C2', '*.CC1CC(=O)C1CN', 'C=C1C2COC1NOO2', 'CC1OC2CCC2(C)O1', 'CC12C3CC1C1(C)C3C21', 'CCC(C)N1C(=O)C1O', '*.CC(=O)CC#N.CN', 'C#CC1OC2CC1C2O', 'C.CC1CC2OCC12O', 'CCC1CCCC12CO2', '*.CCC1C(C)C2CC12', 'C#CC12CC(CO1)C2N', '*.CC1C2C(=O)C1C2O', 'CCC12CC3C(C1C)C32', 'CC1CC2(C)CC12C.O', 'N#CC1CC2C(O)C2N1', 'C#CC1CNC(CO)C1', 'CCC12CCC1C21CC1', 'C1C2C3CC4(CC3O4)C12', 'NC(=O)C(N)N1CC1=O', 'NC1OCCOC2=C=C21', 'OC1CCC2OCCC12', 'OC1CC2CC1C1CC21', 'CC1OC2(C)C(O)CC12', 'C1C2OCC3(CNC3)C12', 'C.OC12COC1C1CC12', 'CC(O)CNC(C)C#N', 'N#CC1OC2C3C1C23O', 'C1=C2C3COC2C1OO3', 'CC12CCC1CC(=O)O2', 'CCC1CC(O)C1(C)O', 'CCCN(C)C(C)C#N', 'N#CC12CC(CO1)C2N', 'N#CC1CC2C(O)C2N1', 'CCC(N)NC(O)C=O', 'C#CC1CCC(CO)C1', 'N#CC1CC2C(O)C2C1', 'CC12CCC1CC(=O)O2', 'CC(C)CC1CC1C=O', 'C1=NC=NCN2CC2C1', 'C#CC1OC2C3C1C23O', 'C#CC1CCCC1CO', 'CC1=CC2CC1NC2=O', 'OC1CC2CC1C1CC21', 'CC=CNC=O.CNF', 'CCC1(C)CC1(C)C=O', 'C#CC12CC3C(CC31)O2', '*.CCC1C(C)C2OC12', 'C.CC12CC3CC1C3C2', 'C.CC1C2CC3(C)C1C23', 'O=C1NC2CC=CC1C2', 'CC1C2CC23C2OCC123', 'CC12CC3CC1C3(C)C2', 'CC12C3CC1C1(C)C3C21', 'C#CC1CC2C(O)C2O1', 'C.CC12CCCC1CC2', 'CC12CCC1CC(=O)O2', 'C.CC12C3CCC1C2C3', 'COC1(C)C(C)CC1O', 'C#CC(C)C1(O)CC1O', 'CCC1(C)CC2(C)CC12', 'C.CC1OC2CCC2O1', '*.C#CC12CC(CO1)C2', 'CC=CC1CCNC1=O', 'O=C1NC2CC=CC1C2', 'C#CC12CC3C(NC31)O2', 'CCC12CC(O)CC1O2', '*.CCC1C(C)C2CC12', 'C1=C2COCC2OOC1', 'C.CC12CC3CC1C3C2', 'CC1CC2COC3CC123', 'C#CC12OC3CC1C3O2', 'CC(C)CC1(C)CCC1', 'C1CC2(C1)CC1C3CC132', 'C.CC12CC3CC1C3C2', 'N#CC12CNC(CO1)N2', 'C#CC1OC2C3C1C23O', 'CC1CC2CCOC1C2', 'CCCC.NC(O)C=O', 'CC1C2C(O)CC13OC23', 'C1OC2C3CC2C1OO3', '*.N#CCC1CNCO1', 'CC(O)CNC(C)C#N', 'CC1C2CC23CC13C.O', 'C#CC12CC3C(CC31)O2', 'C#CC12CC3C(C)C1C32', 'CCC1CC2C(=O)N12.O', 'CC12C3CC4(CCC41)C32', '*.CC12CC3C1CC32.O', 'CC(C)CC1(C)CCC1', 'C.CC(O)C(O)C1CC1', 'CC1OCCOC2CC12', 'C#CC12CC3CC1C3C2', 'CC1C2C(O)CC13OC23', 'CC(O)CNC(C)C#N', 'CC12CC3CC1C3(C)C2', 'CC12OC3CC1OCC32', 'CC1CC=CCC(=O)N1', 'CC(C)C(O)C1CC1C', 'CC1CCC1(C)OC=O', 'CC12CCC1CC(=O)O2', 'C.CC12CC3CC1C3C2', 'CC1CC=CCC(=O)N1', 'CC1CCC1(C)OC=O', 'C#CC12CC3C(CC31)O2', 'CC12CCC3(C1)CC23C', 'CC12CCC1CC(=O)O2', 'C1=C2C3COC2N1OO3', '*.CC1(O)CCC1C=O', 'CC.OC12CONC1C2', 'N#CC1CC2C(O)C2O1', 'CC12C3CC34CC41C2O', 'OCC1=CC2COC1C2', 'CC12CCCC3OC1C32', 'N#CC1CCC(CO)C1', 'O=C1C2C3CC=CC12C3', 'COC1(C)C(C)CC1O', 'CC(C)CCCCC=O', 'N#CC1CC2C(O)C2N1', 'CC1C2C3C1(C)CC23C', 'C.CC12CC3CC1C3C2', 'C.CC1CC2CCC2O1', 'C#CC12C3CC4C3C1C42', 'C1OC2C3CC2C1OO3', 'N#CC12NC(CO1)C2N', 'CC(C#N)C1CCCO1', 'CC1OC2(C)C(O)CC12', '*.CCC1C(C)C2CC12', 'CC1CC=CCC(=O)N1', 'CC1CC=CCC(=O)O1', 'CC1(OC=O)CCC1N', 'CCC(C)C(C)(C)C=O', 'NC1CC=CC2C(=O)N12', '*.CCC1C(C)C2CC12', 'CC12OCCC1CC2O', 'OC1CC2CC1C1CC21', 'C.C#CC12CC3CC1C32', 'CCO.CNC(C)C#N', 'CC12CCC1CC(=O)O2', '*.CC1C(CN)C2OC12', 'C.CCC(OC)C1CC1', 'CC(C)CNC(C)C#N', 'CC12CC=C1CC(=O)O2', 'C#CC(C)C12CC1CO2', 'C1CC2CC1OC1CC21', 'C1OCC23CC4CC12C43', 'C#CC1CC2C(N)C2O1', 'CC1C2C(O)CC13OC23', 'C#CC1CCC(CO)C1', 'C1CC2(C1)CCC1CC12', 'C#CC1OC2CC1C2O', 'CC1OC2CC3OC13C2', '*.CCCC(=O)CCO', 'C.CC12C3CCC1C2C3', '*.NCCC1CN1CO', 'CC(O)CC1(C)CNC1', 'CC1CC=CCC(=O)N1', 'C#CCOC1C2CC21O', 'N#CC1CCC(CO)C1', 'N#CC1CC2C(O)C2N1', 'CCC1(C)CC2(C)CC12', 'C#CC12C3CCC1C2C3', '*.C#CC1C2CC3C1C23', 'C1OCC23CC4CC12C43', '*.CO.NCCC1CN1', 'C.CO.NCCC1CN1', 'N#CC1CCC(CO)C1', 'CCCC1CC1(C)C=O', 'CCON(C)C(C)C#N', 'N#CC1CC2C3ON1C23', 'C.CC12C3CC1C21OC31', 'CC(O)C1CC(O)C1C', 'CCC12CC3C(C)C1C32', 'C#CC(C)C12CC1OO2', 'CC1CC2(C)CCC2O1', 'C.CC12CC3CC1C3C2', 'C1=C2COCC1COC2', 'CCC1(C)C(O)C12CC2', 'C#CC12C3CCC1C2C3', 'C1=C2COCC2OON1', 'C1=C2COCC2OON1', '*.CC1(O)CCC1C=O', 'CCOC1CCC1(C)O', '*.N#CC12CC(CO1)C2', 'C#CC12CCC1C2CC', 'C.CCC1C2CC23CC13', 'CC1C2C3(O)CC14OC234', 'C.CC12C3CCC1C2C3', 'CCC1CC(O)CCO1', 'CC1=CC(C=O)CC1C', 'NC1OCCOC2=C=C21', 'CC12C3CC1C1(C)C3C21', 'N#CC1CCC(CO)C1', '*.CC1CC(O)C1C#N', 'C.CCOC1CCC1O', '*NCCC(C)=O.CN', 'C.CC1CC2CCC2O1', '*.CC1CC(O)C1C#N', 'C#CC1CCC(CO)C1', 'CC1=CC2CC1NC2=O', 'O=C1CC2N3CCCC123', 'C#CC1CCCC1.CO', '*.N#CCC1CCCN1', 'CC1CC=CCC(=O)N1', '*.C#CC1C2CC3C1C23', '*.CO.NCCC1CN1', 'CC1CCCOC2C=C12', 'CC12OCCC1CC2O', '*NCCC(C)=N.CN', 'CCC12CC3C4C1CC342', 'C1CC2CC1OC1CC21', 'CC(C#N)N(C)C.CO', 'CC1CC2(C)CNC2O1', 'C#CC1OC2C3C1C23O', 'OC1CC2CC1C1CC21', 'N#CC1CC(CO)CN1', 'C.CC1CC2OCC12O', '*.N#CCC1CCCN1', 'N#CC1CC2C(O)C2N1', 'CC1CC=CCC(=O)O1', '*.C.CC1CC(C)(C)C1', 'CC(C)CNC(C)C#N', 'CC1OOC2CC1C2C', 'N#CC1CC2C(O)C2O1', 'CC1CCCCC(=O)N1', '*.CNC1C(=O)CC1O', 'CC1CCC2(CCO2)C1', 'C#CC1CC2C(O)C2C1', 'OC1CC2CC1C1CC21', 'CC1OC2(C)C(O)CC12', 'N#CC1CC2C(O)C2N1', 'N#CC1CCC(CO)C1', 'C1=C2COCC2OON1', 'CC1CC23CCO2O1C3', 'C#CC12CCC1C2CC', 'C#CC12C3CCC1C2C3', 'CC1CCOC12CNC2', 'C#CC1OC2CC1C2O', 'C#CC1OC2CCC2O1', 'CC12CCC1CC(=O)O2', 'C.CC1OC2CCC2O1', 'N#CC1(CN)NCCO1', 'CC12OC3CC14OC4C32', 'N#CC1CCC(CO)C1', 'CC1C2C(O)CC13OC23', 'CC1OC2CCC(C2)O1', 'NCOCCOC1=C=C1', 'C#CC1CC2C(O)C2O1', 'N#CC1CC2C(O)C2O1', 'CC(C#N)N(C)C.CO', 'C#CC1OC2C3C1C23O', '*.CCC1C(C)C2CC12', 'NC1=C2N#CC(CC1)O2', 'CC1=CC2CC1NC2=O', 'CC(CN)C(C)(C)C=O', 'C#CC1OC2C3C1C23O', 'OC1COC2C1=CC2O', 'CC1=CC2CC1OC2=O', 'C#CC1(C)C(C)C12CC2', '*.CC1CC(=O)C1C#N', 'C#CC1CC2CNC2O1', 'CN.CNC(C)C#N.O', 'C#CC1CC2C(O)C2O1', 'CC12CCCC3OC1C32', 'CC12OCCC1CC2O', 'O=C1NC2CC=CC1C2', '*.C#CC1C2CC3C1C23', '*.CC1C(CO)C2CC12', 'CCOC1CCC1(C)O', 'CC12CCC1CC(=O)O2', 'C1=C2COCC2OON1', 'CC1CCCOC2CC12', 'C#CC1C(CO)C2OC12', 'CC12OCCC1CC2O', '*.N#CCC1CCCO1', 'CCCCC(C)NC=O', 'C#CC1(C)C(C)C12CC2', 'N#CC1CC2C(O)C2N1', 'C.CC12CC3CC1C3C2', 'N#CC12CC3C(CC31)O2', 'C#CC12C3CC4C3C1C42', 'CCC1CC(O)CC1O', 'C.CC(C)C1OC2CC21', 'CC1CCC1(C)OC=O', 'C#CC1CC2C(O)C2O1', 'CCC1(C)C(C)C2CC21', 'C1=C2COCC2OON1', 'C#CC12CCC1C2CC', 'C.CCC1C2CC23CC13', 'CC1OOCC(O)C1C', '*.CCC1C2CC3C1C23', 'CC1CC=CCC(=O)N1', 'CC1C2C(O)CC13OC23', 'CC12C3CC1OC2CO3', 'CC1CCCOC2C=C12', 'C.CC(O)C(O)C1CC1', '*.NCCC1CN1CN', 'CN.COC1CC(=O)C1', '*.CCC1C2CC3C1C23', 'C#CC(C)C12CC1CO2', 'C#CC12CC3C(CC31)O2', 'CCC1CC(O)CC1O', 'C#CC1OC2CC1C2O', 'C1CC23CC1C1OC2C13', 'C#CC1CC2C(O)C2C1', 'C.CC12CC3CC1C3C2', 'COOC1COC2=C=C21', 'CC12OCCC1CC2O', 'CC1C2CC(O)C1C2O', 'CC1CCCC(C=O)C1', 'CC1CC2(C)CNC2O1', 'CC1CCC2(CCO2)C1', 'CC1CC2(CCC2)CO1', 'CC1CC=CCC(=O)O1', 'CN1CC1CCNC=O', 'N#CC12CC3C(CC31)N2', 'CC(O)CC1(C)CNC1', 'C#CC1CC2CNC2O1', 'CC(CCCN)NC=O', 'C#CC12C3CCC1C2C3', 'C1CC2(CNO2)C2CC12', 'CCC12CCC1C21CC1', '*OC1CC(=O)C1OC', 'CC1CC2CC2(C)C1.O', 'C#CC1OC2C3C1C23O', '*.CCC1C(C)C2OC12', '*.CCC1C(C)C2NC12', 'O=C1C2C3CC=CC12C3', 'COOC1COC2C=C21', 'C1=C2C3COC2C1OO3', 'C#CC1OC2CCC2O1', 'CC1OC2(C)C(O)CC12', 'CC1CCCCC(=O)O1', 'C.CC1CC(O)C1(C)O', 'NC1NC=CC2C(=O)N12', 'COC1(CO)CCC1N', '*.COC1C(O)C2CC21', 'N#CC1CCC(N)CO1', 'N#CC1CC2COC1C2', 'N#CC12CC3C(CC31)O2', 'CC12CC3CC14OC4C32', 'C#CC12OC3CC1C3O2', 'CCC12COC1C21CC1', 'CC1(O)CCC1C=O.N', 'CC12CCC1C1(C)CC21', 'CCC1(O)CCC12CC2', 'C.CCOC1C2CC21O', 'CC(C)C(O)C1CC1C', 'C#CC1CCC(CO)C1', 'CC1CCC1(C)OC=O', 'CC1C2COOC1CO2', 'C#CC1CC2CC1C2O', 'C#CC1OC2C3C1C23O', 'C#CC1CC2(CO)OC12', 'CC1CCC1(C)OC=O', 'C#CC12CC3CC1C3C2', 'CC1C(CO)C2OC12C', 'OC1COC2C1=CC2O', 'C#CC12CCC1C2CC', 'CCC1(C#N)CCCN1', 'OC1CC(C2CO2)C1O', 'C.CC12CC3CC1C3C2', 'C1ONC2=C3C1COC23', 'CC12C3CC1C1(C)C3C21', '*.CC1C(CO)C2CC12', 'N#CC1CC2C(N)C2O1', 'CC12CC3CC1OCC32', 'CC.CC1NOCC1=O', 'CC1CC2CC(O)C1C2', '*.CC1CC(=O)C1C#N', 'C.C.CCC1OC2CC12', 'CC1CC(=O)C1C#N.N', '*.CC1C2C(=O)C1C2O', 'OC1CC2CCOC2C1', 'CCC1(C)CC2(C)CC12', 'C#CC1CC2C(O)C2O1', 'C#CC1CC2COC1C2', 'N#CC1OC2CC1C2O', 'CC1CC=CCC(=O)O1', 'OC1CC2CC1C1CC21', 'C1C2OCC3(CNO3)C12', 'N#CC12CNC(CO1)N2', '*.N#CC12CC(CO1)C2', 'C#CC12CC3C(CC31)O2', 'CC1C(CO)C2OC12C', 'C.CC(O)C(O)C1CC1', 'C.CC1OC2CCC2O1', 'C.CC12CC3CC1C3C2', 'CC1CCC(CCO)C1', 'CC(C#N)NC#CCO', 'C#CC1OC2C3C1C23O', 'C#CC1NC2CNC2O1', 'C.CC1OC2CCC2O1', 'N#CC1CCC(CO)C1', 'N#CC1CCC(N)CN1', 'OC1CC2CC13C1CC213', 'CC(O)C1COOC1C', 'C#CC1CC2CCC2O1', 'C#CC12CC3C(CC31)O2', 'C#CC1CC2CCC2O1', 'CC1CC2(CCC2)CO1', 'C#CC1OC2C3C1C23O', 'C1=C2COCC2OON1', 'C#CC12CCCC1CC2', 'CC1CC=CCC(=O)N1', 'CC1CC(O)C1C#N.N', 'C#CC1CCC(CO)C1', 'CC1=CC2CC1NC2=O', 'C.CC12C3CCC1C2C3', 'CC12C3CC4C35CC41C52', 'CC(C#N)CCCCO', '*.CO.NCCC1CN1', 'CC1N2CCCC12C=O', 'CCC12CC3C1C3(C)C2', 'CC1CCC1(C)OC=O', '*.CCC1C(C)C2CC12', 'C#CC(C)C1(OC)CC1', 'C#CC1(C)C(C)C1CC', 'C1C2OOC12.CCCC', '*.CC1CC(=O)C1CO', 'CCC1(C)CC2(C)CC12', '*C1=C2N#CCC(N1)N2', 'CCC1NC(=O)C(O)N1', 'C.CC1(C)CC(O)C1.N', 'C#CC1CCC(CO)C1', 'N#CC12NC34C(O1)C3C24', 'CC1COC(C)(C#N)N1', 'CCO.CNC(C)C#N', 'N#CC1CC2C(O)C2N1', 'CC1=CC(C=O)CC1C', 'N#CC1CC2CON1C2', 'C#CC12CC3C(CC31)O2', 'CC1CCC2(CCO2)C1', 'NC1CC=CC2C(=O)C12', 'CC1CC=CCC(=O)N1', 'N#CC1CC2C(O)C2N1', 'OC1CC2CC1C1CC21', 'CC1CC=CCC(=O)O1', '*.C#N.C1OC2CC1C2', 'C#CC12C3CC4C3C1C42', '*.CCC1C(C)C2CC12', 'CC1OC2CCC(C2)O1', 'CC1CC=CCC(=O)C1', 'CC(CN)C(C)(C)C=O', 'C#CC1OC2C3C1C23O', 'CC1CCCOC2C=C12', 'CC1C2OC3C4(CC4)C123', 'CCC(C)NC(O)C=O', 'C=C1COCC1OON', 'CC1CC=CCC(=O)N1', 'CC1OC23CC(O2)C13C', '*OC1CC(=O)C1.CN', 'CC1=CC(C=O)CC1C', 'CC1CC=CCC(=O)O1', 'CC1CC=CC2C(=O)C12', '*.CC(CC#N)NCN', 'C1CC2COCC2OO1', 'C.OC1COC1C1CC1', '*.CC1(C#N)CCCN1', 'ONC=C1CNC2OC12', 'O=C1NC2CCCC1C2', 'CC(C#N)C1CCCO1', 'CCC12CC3C1C3(C)C2', 'C1C2CC3C1OC1C2C31', 'COC1C(C)C1(C)C#N', 'CC(C#N)C12CC1CO2', '*.C.CCC1OC2CC12', 'CC12CC3CC14OC4C32', 'CCCC1(C)C2COC21', 'OC1C=C(C2CO2)C1O', 'CC(CCCN)OC=O', 'C#CC12CC3C(CC31)O2', '*.C#C.CC1CC(C)C1', 'CCC(C)N1C(=O)C1O', 'CC1OC2(C)C(O)CC12', 'CCC(C)C(C)(C)C=O', 'C#CC12CCC1C2CC', 'CCCNC=O.CNF', 'CCC1(C)C(O)C12CC2', 'C#CC12CCC1C2CC', 'CCC1(C)CC1(C)C=O', '*.CC1C2C(=O)C1C2O', 'C1CC2CC1OC1CC21', 'CC(CC=O)C(N)C#N', 'CC1OC2(C)C(O)CC12', 'CCC1(C)CC1(C)C=O', 'CC1C2CC(O)C1CO2', 'C#CC(C)C1OC1CO', 'N#CC1CCC(N)CN1', 'CC12OCCC1CC2O', 'C.CO.OCCC1CC1', 'CC12CC=C1CC(=O)O2', 'CC(C=O)C(C)(O)CN', 'CC1CC(=O)C1C#N.N', 'C#CC1NC2CCC2O1', 'CC1CCCOC2C=C12', 'CC(C)C1OC2C(C)C12', 'CC1N2CCCC12C=O', '*.CCC(OC)C1CC1', 'C1CC2(C1)CC1C3CC132', 'CC12CCC1CC(=O)O2', 'CC1COCC2CC1O2', 'C#CC(C)C12CC1CO2', 'C#CC12C3CCC1C2C3', 'CCC1C2NCCC12O', 'N#CC1CC2C(O)C2N1', 'C1=C2C3CCC(C3)OC12', '*.C.CC1C2CC13CC23', 'N#CC1CC(CO)CN1', 'C#CC1CC2(CO)CC12', 'C#CCCC(C=O)NO', 'N#CC12CCC(CO1)N2', 'C1OC2C3CC4CC1C432', '*.CCC1C(C)C2CC12', 'NOOC1COC2=C=C21', 'C#CC1CCCC12CC2', 'CC(C#N)C1CCCO1', 'C#CC1(C)C(C)C1CC', 'CC(O)OC1(C)CNC1', 'C#CC1CCCC1CO', 'C#CC1CC2OC12.CO', 'CC(C)C(O)C1CC1C', 'C#CC12CC3C(CC31)O2', 'N#CC1CC2C(O)C2N1', 'CC1CC=CC(C=O)C1', '*.NCC1C2CN3C1C23', 'C#CCC.OC1NC1O', 'COC1(C)CCC1C.O', 'C#CC1OC2CCC2O1', 'CC1C2CCCC12C#N', 'CC12CC3CC1OCC32', 'C#N.NC1C2COC1C2', 'N#CC1CCC(CO)C1', 'CC1CCC1(C)OC=O', 'OC1CC2CC1C1CC21', 'C.CC(C)C(O)C1CC1', 'C#CCCC(C=O)NC', 'C#CC(C)C1(O)CC1O', 'C#CC1CC2CCC2O1', 'C#CC12CC3C(C)C1C32', 'CC1C2CC23C(O)C13C', 'C#CC12CC3C(CC31)O2', 'CC(CC=CN)OC=O', 'CC1CCCCC(=O)N1', 'C#CC1OC2CC1C2O', '*.COC(CO)C1CC1', '*.CCC1C(C)C2CC12', 'C#CC12CC3C(CC31)O2', 'C.CC1(C#N)CCCO1', 'CC1NOCCOC1N', 'CCC1C2C(C)C3C1C23', 'C.CCC1C(C)C2CC12', 'C#CC1OC2CC1C2O', 'C#CC(C)C(C)(O)C=O', 'CCC(C)N1CC1=O.O', 'C#CC12CCC1C2CC', 'N#CC12CNC(CO1)N2', 'CC1CCC2(CCC2)C1', 'C#CC1CC2(CO)OC12', 'N#CC1CC2C(O)C2N1', 'C#CC12C3CC4C3C1C42', 'CC1CC=CCC(=O)N1', 'N#CC1CCC(CO)C1', 'C1=C2C3CCC(C3)OC12', 'CC1CC(C=O)CC1C', 'C1CC2CC1OC1CC21', 'CCC1CC(O)C1(C)O', 'COC12COC1CC2C', 'CCC1CC(O)CC1O', 'CC1CCC1(C)OC=O', 'C#CC12CC3CC1C3C2', 'CC1CC=CCC(=O)N1', 'C.CC12CCC1C21CC1', 'N#CC1CCC(CO)C1', 'C#CC1CC2CCC2O1', '*.C#CC12CC(CO1)C2', '*.C1#NC2=NCC(C1)N2', 'CC1CC23COC4C2C143', 'C#CC12CC3CC1C3C2', 'CC12OCCC1CC2O', 'N#CC1CC(CO)CN1', 'C1CC2(C1)CCC1CC12', 'CNCCCCN.CO', 'CC1CC=CCC(=O)O1', 'CC(N)CNC(C)C#N', 'CC1CC23CC(O2)C1C3', 'C#CCON1C(C)C1O', 'C#CC12CCC1C2CC', 'CC1OCC2(CCO2)O1', 'C1CC23CC1C1OC2C13', 'C1CC2(C1)CC1C3CC132', 'CC1CCCCC(=O)C1', 'C#CC12C3CCC1C2C3', 'C#CCC.OC1NC1O', 'C#CC1CC2C(O)C2C1', 'CC1=CC23NC1C2C3=O', 'C#CC1(C)C(C)C1CC', 'OC1CC2CC1C1CC21', 'CC1CC2(C)CC2C1O', 'C#CC12CC3C(CC31)O2', 'CCCC1(C=O)NC1C', 'CC(CC=CN)NC=O', 'CCC1(C)C(C)C2CC21', 'C#CC12CC3CC1C3C2', 'CCC1CC(O)CC1O', 'C#CC1CC2C(O)C2O1', 'O=C1NC2CC=CC1C2', 'CC1CCC2(CCO2)C1', '*.N#CCC1CCCN1', 'CC(O)C1CC(O)C1C', 'NC1NC=CCC(=O)N1', 'C#CC1CNC(CO)C1', 'CC1CC=CCC(=O)N1', 'C#CC1(C)C(C)C12CC2', '*.N#CCC1C=NCO1', 'C#CC12OC3CC1C3O2', 'N#CC1CC2C(O)C2N1', 'C#CC(C)C12CC1CO2', 'C#CC1C2OC23C(O)C13', '*.N#CC12CC(CO1)C2', 'C#CC1CCCC1.CO', 'CC1C2C(O)CC13OC23', 'N#CC1NC(CN)CO1', 'CC1CCCCC(=O)O1', 'C1CC2(C1)COC1CC12', 'CC12OCCC1CC2O', 'C#CC12CC3C(CC31)O2', 'CCC1(C)CC2(C)CC12', 'C.CC12C3CC4C3C1C42', 'CCC1CN(OO)C1.N', 'C1C2C3CC4(CC3O4)C12', 'CC1COCC2=C1OC2', '*.CCC1C(C)C2CC12', 'CC(CC1CC1)OC=O', 'CC1CC2(CNO2)CO1', 'C.CC12OCC1CC2O', 'OCC=C1CNCC1O', 'CC1C2CC(O)C1CO2', 'CC1OC2(C)C(O)CC12', 'C#CC12CCC1C2CC', 'N#CC1CC2C(O)C2N1', 'C.CC12CC3CC1C3C2', '*.CC1C(O)CC1(C)C', 'CC1=CC(C=O)CC1C', 'CC(CC=CN)NC=O', 'CC12CCC3(C1)C1CC123', 'C#CC1CCC(CO)C1', '*.CCC1C(C)CC1O', 'CC1CCC(O)C(C)C1', 'C#CC1OC2C3C1C23O', 'CC1C2CC(O)C1CO2', 'C#CC1OC2CC1C2O', 'CC12OCCC1CC2O', 'CC12CC3CC1(CO)C32', 'C#CC12C3CCC1C2C3', 'C#CC1CCC(CO)C1', 'CC1=CC(C=O)CC1C', 'CC1CN(C(C)C#N)C1', '*.CCC1C(C)C2CC12', 'CC(C#N)C1CCCO1', '*.CCC(OC)C1CN1', 'CC(O)CNC(C)C#N', 'C.CC(C)C1OC2CC21', 'CCC1CCC(C#N)N1', 'NC1=C2N=CC(CN1)O2', 'CC(C#N)N(C)C.CN', 'CC1CCC1(C)OC=O', 'CC1CCCCC(=O)O1', '*.CC1C(O)CC1(C)C', '*.C#CC1C(C)CC1O', 'CC(O)C1CC(O)C1C', 'C#CC12CCC1C21CC1', 'CC(C)C1OC2C(C)C12', 'CCC1C2CC3C(C)C312', 'CCC(CNF)NC=O', 'C.CC1C2CCC1OC2', 'CC1CC=CCC(=O)N1', 'CCC1(C)C(O)C1(C)C', 'CCC1CC2C(OO)N12', 'C1=C2COCCCC1C2', 'C#CC12CC3CC1C3C2', 'CC(C)CNC(C)C#N', 'COCC(C)C=CCO', '*.C#N.CC1CCCO1', 'N#CC1CC2C(O)C2N1', 'C#CC1CC2C(O)C2O1', 'C.CN1C(O)C1CC#N', 'C#CC1CC2C(O)C2O1', 'C=C1C2COC1NOO2', 'C#CC12CC3C(CC31)O2', 'C#CC1OC2CC1C2O', 'CC1(C2CC2O)CNC1', 'CCC12CCC1C21CC1', 'C.CC1OC2CCC2O1', 'CCC1(C)CC2(C)CC12', 'OC1CC(C2CO2)C1O', 'C#CC(C)C1(OC)CC1', 'CC1CCC1C=O.N.O', '*.CC1CC(=O)C1C#N', 'NCOC1COC2=C=C21', 'CC1OC2(C)C(O)CC12', 'C#CC1OC2CC1C2O', 'C#CC12CC3C(C)C1C32', '*.COC(CO)C1CC1', 'C#CC1CCC(CO)C1', 'NC1NC=CCC(=O)N1', 'OCC=CC1CCOC1', '*.CCC1C2CC3C1C23', 'CC1CC=CCC(=O)O1', 'N#CC1CC2C(O)C2O1', 'C#CCOC1C2CC21O', 'CC1CC12CC2(C)C=O', 'O=C1CC2CC=CC1C2', '*.CO.OCCC1=NC1', 'CC1CCCC(C=O)C1', 'C#CC1OC2C3C1C23O', 'C#CC1CC2C(O)C2O1', 'CC12CC=C1CC(=O)O2', 'COC1(C)CCC1C.O', '*.C#CC1C(C)C2CC12', 'CC1CCC1(C)OC=O', 'CC12CCC1CC(=O)O2', 'C#CC12OC3CC1C3O2', 'CCN1C2CC(=O)CC21', 'CC1(OC=O)CCC1N', 'CC(C)C1OC2C(C)C12', 'C.CCC1C(C)C2CC12', 'C.CC1OC2CCC2O1', 'O=C1NC2=CC=CC1N2', 'C1OC2C3CC2C1OO3', 'OC1CC2CC1C1CC21', 'C#CC1CC2CNC2O1', 'C#CC1CCC(CO)C1', 'CCCN(C)C(C)C#N', 'CC12CCC1CC(=O)O2', 'C.CCC1(C)C(C)C1C', 'CCCN.NC(O)C=O', 'CC12CCC1CC(=O)O2', 'CC1CC2(C)CNC2O1', 'C#CC1OC2C3C1C23O', 'CC(C#N)C1CCCO1', 'C#CC12CC3C(CC31)O2', 'N#CC12CC3C(N1)C3O2', 'N#CC12CC3C(CC31)O2', '*OCCCCN.CO', 'CC1CCC1(C)OC=O', 'C#CC1OC2CC1C2O', 'CC12CCC1CC(=O)O2', 'N#CC1CCC(CO)C1', 'OC1C=CC2COC1C2', 'CCCC12NC1CC2=O', 'C#CC1OC2CC1C2O', 'CC=CC(C=O)CCN', 'CC(C#N)C1CC1CO', 'C=O.CN1CC1CCN', 'C#CC12CCC1C2CC', 'C.CC12CC3CC1C3C2', 'C#CCOC1NCC1N', 'CC1CC=CCC(=O)N1', '*.CCC1C(C)C2OC12', 'C.CC12CC3CC1C3C2', 'CC(O)CNC(C)C#N', '*.CC1CC(O)C1C=O', 'C#CC(C)C12CC1OO2', 'CC1OC2COC3CC132', 'CC12CCC3(CCC13)C2', 'CCC1CC(O)CCO1', 'C#CC12OC3CC1C3O2', 'C#CC12CC3C(C)C1C32', 'CC1OCCOC2C=C12', 'CC(C)CNC(C)C#N', 'N#CC1CCC(N)=CN1', '*OCCC1=NC1.CO', '*.CCC1C2CC3C1C23', 'C#CC1NC2CNC2O1', '*.CCC1C(C)C2CC12', 'CCOC1CCC1(C)O', 'CC12CCC1CCO2.O', 'C.CC1CC2OCC12O', 'C#CC1OC2CCC2O1', 'CC(C#N)C1CCCO1', 'C1C2C3CC4(CC3O4)C12', 'COC1(C)C(C)CC1O', 'CC12C3C4CC1(C3O)C42', '*C1C2CNC1(C#N)C2', 'C.CC1CC2OCC12O', 'CCOC1CCC(O)C1', 'OCC1=CC2COC1C2', 'CCO.CNC(C)C#N', 'N#CC1CC(CO)CN1', '*.NCCC1CN1CO', 'C1OC2(CNO2)C2CC12', 'C#CC12CC3C(C)C1C32', 'C#CC1(C)C(C)C12CC2', 'C.CC12CC3CC1C3C2', 'CCC1(C)C(O)C12CC2', 'C#CC1CCC(CO)C1', 'N#CC12NC34C(O1)C3C24', 'C.CC1OC2CCC2O1', 'N#CC1CC2C(N)C2O1', 'CC1CCC1(C)OC=O', 'CCCC.O1OC2OC12', 'N#CC1CC2C(O)C2C1', 'CC1CCCOC2C=C12', 'CCC(OC)C(C)C#N', 'N#CC1CC2C(O)C2O1', 'C#CC1CC2CNC2O1', 'CC12CCC1CC(=O)O2', 'N#CC1CC2COC1C2', '*.CC1CC(=O)C1CN', 'C.CC1C2CC3(C)C1C23', 'C#CC1CC2C(O)C2O1', 'CC12C3C4CC1(C3O)C42', 'C#CC12C3CCC1C2C3', 'N#CC1CC2COC1C2', 'CCC1CC2(O)CC2N1', 'C#CC1CCC(CO)C1', 'CC1=CC(C=O)CC1C', 'C.CC1N(C)C1(C)C#N', 'CCC1OC2C(CC)C12', '*.NCCC1C2OCN12', 'C.CCC1C(C)C2CC12', '*.C#CC1C2COC1C2', 'C#CC1OC2CC1C2O', 'O=C1N2C3CC=CC12C3', 'C#CC1OC2CC1C2O', 'C1C2CC3OC(CC13)O2', '*.N#CCC1CCCN1', '*.CC1C(CN)C2NC12', 'C.CCC1C2CCC12C', 'C#CC1CC2CNC2O1', 'CC12CCCC3OC1C32', 'N#CC12NC(CO1)C2N', 'C#CC12CC3C(CC31)O2', 'CC1CC23CC(O2)C1C3', 'C1CC2CC1OC1CC21', 'CC1CCCOC2C=C12', 'O=C1NC2CC=CC1N2', 'O=C1NC2CC=CC1C2', 'C#CC12CC3CC1C3C2', 'CCON(C)C(C)C#N', 'C#CC1CCCC1CC', 'C#CC1CC2CCC2O1', 'N#CC1CC2C(N)C2O1', 'C#CCOC1CCC1N', 'CC12CC3CC1C3(C)C2', 'CC1C2COC1NOO2', 'CC1=CC(C=O)CC1C', '*.CCC1C(C)C2CC12', 'CCCNC=O.CNC', 'O=CNC1CCCNC1', 'CC(O)C1CC(O)C1O', 'N#CC1CC2C(O)C2N1', 'C#CC1CCCC1CO', 'C1C2CC3OC(CC13)O2', 'C.C.CCCC1CC1.O', 'CC12COCC13COC23', '*.N#CCC1CCCO1', 'CCC1(C)C(C)C2CC21', 'C#CC1OC2C3C1C23O', 'OC1CC2C3C1CCN23', 'NOOC1COC2=C=C21', 'C#CC(C)C12CC1CO2', 'N#CC12NC34C(O1)N3C24', 'N#CC1CC2CON1C2', 'OC1CC(C2CO2)C1O', 'CC1CC2CC2(C=O)C1', 'CC(O)CC1(C)CCC1', 'CC12CC34CC1C(O3)C42', 'C.CC1C2OC3C(C)C123', 'CC(=O)CC1(C)CNC1', 'OC1CC2CC1C1CC21', 'C1C2C3CC4(CC3O4)C12', 'CC1CC=CC(C=O)C1', 'CC1CC=CCC(=O)N1', 'C#CC1OC2CC1C2O', 'C#CC12CC3C(CC31)O2', 'C.CCC1C(C)C2CC12', 'O=C1NC2CC=CC1C2', 'CC1OC2(C)C(O)CC12', 'C.OC1COC1C1CC1', 'C1C2OOC3(CNO3)C12', 'C#CC1OC2CC1C2O', 'CCCC1CC1(C)C.O', 'C#CC12CC3C(CC31)O2', 'CCC1OC2C1C2(C)C', 'COC1(C)C(C)CC1O', 'CC1CCCOC2C=C12', 'CC12CCCC3OC1C32', '*.CC1(O)C2CC13CC23', 'C#CC12CCC1C2CC', 'CC(C#N)N1CCCO1', 'CCC12CCC1C21CC1', 'CCCC1(C=O)NC1C', 'CC1CCC1(C)OC=O', 'N#CC12CCC(CC1)N2', '*.N#CCC1CCCO1', 'C.CC1C(CO)C2OC12', 'CC1CCCCC(=O)N1', 'CC12CC=C1CC(=O)O2', 'CC1C2C(O)C(C)(O)C12', 'CC12CCCC3OC1C32', 'CC1OC2CCC2(C)O1', 'C1C2C3CC4(CC3O4)C12', 'CC12C3C4CC1(C3O)C42', 'C.CC1CC2CNC2O1', 'CC1C2OC13C2C3(C)O', 'CCC(=O)NCC(C)=O', '*.CC1C2CC2C1(C)C', 'CCC1(C)CC1(C)C=O', 'CCC1N(C)C1(C)C#N', 'CCOC1CCC(O)C1', 'CC12CC3CC14OC4C32', '*.C#C.C1OC2CC1C2', 'CC1CCCOC2C=C12', 'CC(C=O)C(C)(O)CN', 'OCC1CC2COC1C2', 'C.CC1CC2CCC2O1', 'C#CC(C)C12CC1CO2', 'OC1C=C2C1OC1OC21', 'CC12CC34CC1C3CC24', 'C#CC12OC3CC1C3O2', 'C#CC1CC2CNC2O1', 'C.CC1COCC1CO', 'CC(C#N)N1CCCO1', '*.COC1C2=CC2C1O', '*OC1CC2=NC21.CO', 'CC1CC=CCC(=O)N1', 'OC1CCC2C3CC12O3', 'C#CC12CC3C(C)C1C32', 'C#CC1CC2(CO)CC12', 'N#CC1CCC(CO)C1', 'CC1CC2CCC2(C)C1', 'CC12C3CC4C35CC41C52', 'C.CC1OC2CCC2O1', '*.N#CCC1CNCO1', 'CC1OC2CCC(C2)O1', 'C#CC1CC2(CO)CC12', 'CCOC1CCC(O)C1', 'N#CC1CC2C(O)C2O1', 'CCOC1CCC(O)C1', 'C#CC12CC3CC1C3C2', 'CC1CCC1(C)OC=O', 'CC1CCC1(C)OC=O', 'CC12CC3CC1OCC32', 'C#CC(C)C12CC1OO2', 'OC1CC2CC1C1CC21', 'C#CC(C)C12CC1CO2', '*.CC1C(CN)C2CC12', 'C#CC12CC3CC1C3C2', 'CC12CC3CC1C3(C)C2', 'C.CC1(C#N)C2CCN21', '*.CC1(O)CCC12CC2', '*.CC12CCC1C1OC12', 'N#CC1CC2C(O)C2N1', 'CC1CCC1(C)OC=O', 'N#CC12CC3C(CC31)O2', 'C1COC2C3=C2C(C1)C3', 'CC1CC=CNC(=O)N1', 'C#CC12C3CCC1C2C3', 'C1OCC2CC3CC1=C23', 'CCC1C(CC)C2CC12', '*.N#CCC1CCCO1', 'NC1CC=CC2C(=O)C12', 'NC1CC=CC2C(=O)C12', 'CC.CCC1OC2CC12', 'COC1(CO)CCC1N', '*.CC12CCC1C1CC12', 'CC1OC2CCC(C2)O1', 'CCC1(C#N)CCCO1', 'C#CCOC1CCC1N', 'C.C=C(C)C1OC2CC21', 'COC1(C)C(C)CC1O', 'COC1(C)C(C)CC1O', 'C.CC12CCCC1CC2', 'N#CC1CCC(CO)C1', 'N#CC1CCC(CO)C1', 'C1=C2COCC2OON1', 'CC(O)C1CC(O)C1O', 'CC1CCC1(C)OC=O', 'C#CC(C)C12CC1CO2', 'CC1CCC(C#N)NC1', 'C#CC1OC2C3C1C23N', 'CCC1(C)C(O)C12CC2', 'CC12COCC3OC1C32', 'N#CC1CC2C(O)C2N1', 'CC1CC2(C)CNC2O1', 'N#CC1CC2C(O)C2O1', 'CC(C)C(O)C1CC1C', 'CC1CC=CCC(=O)O1', 'OCC1=CC2COC1C2', 'CC1CC=CC(C=O)C1', 'CC1CCCOC2C=C12', 'C.OC1=COC1C1CC1', 'N#CC12CCC(CC1)N2', 'CC12CCC1CC(=O)O2', 'C#CC(C)C12CC1OO2', 'CC1CC2CC2(C=O)C1', 'NC1CC=CC2C(=O)N12', 'C#CCOC1C2CC21O', 'CCC(C)(O)CC=O.N', 'N#CC12CC(CO1)C2N', 'CC1CCC1(C)OC=O', 'N#CC1CCC(CO)C1', 'CCC12CC(O)CC1O2', 'C1OC2C3CC2C1OO3', 'C#CC(C)C1CC1CO', 'CC1CCCCC(=O)O1', 'CC12OCCC1CC2O', 'CO.NCCCCNO', '*.CCC(OC)C1CC1', 'C#CC1NC2CNC2O1', 'CC1CCC1(C)OC=O', 'COC1(C)CCC1C.O', 'C1CC2CC1OC1CC21', '*.CO.NCCC1CN1', 'N#CC1CC2C(O)C2O1', 'C#CCC.OCC1CN1', '*.CC1C2C(=O)C1C2O', 'CC1CC=CCC(=O)N1', 'C1C2C3CC4(CC3O4)C12', 'CCCC1C(O)C1(C)C', 'CCC12COC1C21CC1', 'N#CC1CC2C(O)C2N1', 'N#CC1CC2C(O)C2O1', 'CCC1N(C)C1(C)C#N', 'CC1CC23OC2C1C3C', 'O=C1NC2CC=CC1C2', '*.CCCC1CN1CO', 'CC1CCC1(C)OC=O', 'CCC12CCC1C21CC1', 'OCCC1CCC2CC12', 'CC1CC=CCC(=O)C1', 'C1=NCNCCCCN1', 'O=C1NC2CCCC1C2', '*.C#CC1C(C)C2OC12', '*.CC1(O)CCC12CO2', 'CC1CC2(C)CCC2O1', 'C.C#CC12CC3CC1C32', 'CCC1C(CO)C2OC12', 'C#CC12CC3C(CC31)O2', '*C1C2COC1(C#N)C2', 'C1C2OCC3(CNO3)C12', 'C1C2CC3C1OC1C2C31', 'C.CC1CC2CCC2O1', 'CC1CC=CCC(=O)N1', 'C#CC1CCC(CO)C1', 'C#CC1CC2CNC2O1', 'CC1CCC1(C)OC=O', 'C.CCC1CC2(C)CC12', 'C#CC1CCC(CO)C1', '*.N#CCC1CCCN1', 'C#CC12CC3C(CC31)O2', 'CC1CC=CCC(=O)N1', 'C.CC1CC(O)C1(C)O', 'C.CC1OC2CCC2O1', 'CC1CCCCC(=O)N1', 'NC1CC=CC2C(=O)N12', 'NCOCCOC1=C=C1', 'OC12CCC3C4OC31C42', 'N#CC1CCC(O)CN1', 'CC1CCC1(C)OC=O', 'CC1CC2COC3CC123', '*.CNCC(=O)CC#N', '*.C#CC12CCC(C1)C2', 'C#CC12CC3C(CC31)O2', 'N#CC12CC(CO1)C2N', 'CC1CCC1(C)OC=O', 'CC12CC3CC1C3(C)C2', 'OC1CC2CC1CCO2', 'CC1CC=CCC(=O)O1', 'CC(O)CNC(C)C#N', '*.CO.NCCC1CN1', 'C#CCC.CNCCO', 'OC1CC2CC1C1CC21', 'C.N#CCC1CCCN1', 'C.CCCC1CC1C.O', 'COC12COC1CC2C', '*C(CC)(CN)ON.O', 'CCCC1(C=O)NC1C', 'C.CCN(C)C(C)C#N', 'CC1CC=CCC(=O)N1', 'COC1(CO)CCC1N', '*.N#CCC1CCCO1', 'C1=C2COCC2OOC1', 'C#CCC.OC1NC1O', 'CCC1(C#N)CCCN1', 'NC1NC=CC2C(=O)N12', 'C#CC1(C)C(O)C12CC2', '*OCCC1=NC1.CO', 'N#CC12CC3C(CC31)O2', 'C.CC1OC2CNC2O1', '*.CCC1C(C)C2CC12', 'C.CC12C3CCC1C2C3', 'CC12C3CC1C1(C)C3C21', 'CCC#N.CN=CO.O', 'CCC1CC(O)CC1O', 'N#CC1CC2C(N)C2O1', 'CCC1(C)CC2(C)CC12', '*.CCC1C(C)C2OC12', 'C.CCCC1CN1C.O', 'CCC1(C)C(O)C1(C)C', 'O=C1NC2CC=CC1C2', 'N#CC1CCC(N)=CN1', 'C.CC12CC3CC1C3C2', 'C#CC1CCCC1CO', 'C1CC2(C1)OCC1CC12', 'CC1OC2(O)C(O)CC12', 'CC1CC23COCC12C3', 'C#CC12CCC1C2CC', 'CC1C2OC3C4(CC4)C123', 'CC1CC=CCC(=O)N1', 'CCC1CC2C(=O)N12.O', 'CC(C#N)C1CCCO1', '*.CCC(C)(C)CCO', 'C#CC(C)C12CC1CO2', 'CC12CC3CC1C3(C)C2', 'C.CC1CC2OCC12O', 'C#CC12CC3CC1C3C2', 'C1=C2C3COC2C1OO3', 'CC12C3CC1OC2CO3', 'C#CC1C(CO)C2OC12', '*.CCC1C(C)C2CC12', 'COC1(C)C(C)CC1O', 'C1=C2C3COC2N1OO3', 'O=C1NC2CC=CC1C2', '*.CC1(C#N)CCCO1', 'CC(O)C1=CC(O)C1O', 'N#CC1CCC(O)CN1', 'O=C1NC2CC=CC1C2', 'C1OC2CC1OC1CC21', 'C#CC12CC3C(C)C1C32', 'CC1C2C3(O)CC14OC234', 'CC1CC=CCC(=O)N1', 'CO.COCCCCN', 'CC12C3CC1C1(C)C3C21', 'C.CCCC(O)C(C)O', 'CC1OCC2(CCO2)O1', 'CCCCC(C)OC=O', 'CC1CC=CCC(=O)N1', 'N#CC1CCC(CO)N1', 'CC1(N2CC2=O)CNC1', '*.CC1C2CC2C1(C)C', 'CC1CC2(C)CCC2O1', 'C#CC12CC3CC1C3C2', 'CC1CCC1(C)OC=O', 'CC1CC=CCC(=O)N1', '*.N#CCC1CN1CN', 'C#CC1CC2CC1C2C', 'CC1CCC1(C)OC=O', 'C=O.CC1CC2CC2C1', 'CC1OC2(C)C(O)CC12', 'CCC1CC(O)C1(C)O', 'CC1CC2(C)CCC2O1', 'CC(CCCN)NC=O', 'C#CC(C)C1(CC)CC1', 'CCC1(C)C(O)C12CC2', 'C#CC12CCC1C2CC', 'N#CC1CC2C(O)C2O1', 'C.CC12C3CCC1C2C3', 'CC(CN)C(C)(C)C=O', 'CC12CCC1CC(=O)O2', 'CC12CCC1CC(=O)O2', '*.N#CCC1C2CCN12', 'CC(O)CC1(C)CNC1', 'CC1CCCOC2C=C12', 'C#CC1OC2CC1C2O', 'C#CC12C3CCC1C2C3', 'C#CC1CC2CCC2O1', 'C1C2OC3CC34C1OC24', 'CC1OC2CCC(C2)O1', 'C#CC1CC2C(O)C2O1', 'CC1CCC1(C)OC=O', '*.C#CC1C2CC3C1C23', 'OC1COC2C(O)CC12', 'COC12COC1CC2C', 'C.CCOC1CCC1O', 'C#CC1CC2C(O)C2O1', 'C#CC1CC2CCC2O1', 'CCC12CC3C1C3(C)C2', 'CC1N2CCCC12C=O', 'CC1OC2CCOC1C2', '*OC1C2N=C2C1OC', 'CC1CC=CCC(=O)N1', 'C#CC1CC2(CO)OC12', '*NCCC1=NC1.CO', 'CCC1(C)CC2(C)CC12', 'N#CC1CC2C(O)C2O1', 'CC(O)CNC(C)C#N', 'CC1OC2COCC12C', 'N#CC12CC(CO1)C2N', '*.N#CC1C2CNC1C2', 'C1CC2(COC3CC32)O1', 'C#CC1CCC(CO)C1', 'N#CC1CC2COC1C2', 'CC1CCCOC2C=C12', 'CCCC.O=C1CC1O', 'C#CC1OC2CC1C2O', 'CC(O)C=O.CCCC', 'COC1(CO)CCC1C', 'C#CC1CCCC1OC', '*.NCCC1C2OCN12', 'C1C2CC3C1OC1C2C31', 'C.CC1CC2OCC12O', 'N#CC1CC2C(O)C2N1', 'N#CC12OC3C4C1C34O2', 'C#CC12CC3C(CC31)O2', 'CC1CC=CCC(=O)N1', 'CCC1C2CCC12CC', 'CCC(C)C(C)(C)CC', 'CC(O)C1CC(O)C1C', 'C#CCOC1CCC1O', 'CC1OOCC(O)C1C', '*.CC1C(O)CC1(C)C', 'CCC1CC2(O)CC2N1', 'CC(C#N)C1CCCO1', 'CC1C2CNC1(C#N)C2', 'C#CC(C)C12CC1OO2', 'COC12COC1CC2C', 'C.CC(C)C(O)C1CC1', 'C1=C2C3COC2C1OO3', 'N#CC12CC3C(CC31)O2', '*.CC1(C#N)CCCO1', 'C.CC1CC2CNC2O1', 'CCC1CC(OO)C1.N', 'C#CC1CCC(CO)C1', 'CC1C=C(CO)CNC1', 'NC1CC=CC2C(=O)C12', '*NCCC1=NC1.CN', 'COC1(C)C(C)CC1O', 'C#CC1NC2CNC2O1', '*.N#CC1C2COC1C2', 'C.CC1C(CO)C2OC12', 'CC1OC2CC(O)C1C2', 'C#CC1CC2CCC2O1', 'CCC1(C)C(O)C12CC2', '*.CC1CC(O)C1C#N', '*.N#CCC1CCCN1', 'C#CC1CC2COC1C2', 'CC1C2C(O)CC13OC23', 'N#CC1CCC(CO)C1', 'CCC12CCC1C21CC1', 'COC1(CO)CCC1N', 'C.CCC1OC2C(C)C12', 'CC1CCC1(C)OC=O', 'OC1C2CC3C#NC12O3', 'C#CC1NC2CNC2O1', 'CCC1=NC(O)CN1.O', 'OC1C=C2C1OC1OC21', 'CC1CCCOC2C=C12', 'CCC12COC1C21CC1', 'N#CC1CC2C(O)C2O1', 'OC1COC2C1=CC2O', 'OC1C=C(C2CO2)C1O', 'N#CC1CCC(CO)C1', 'C#CC12CC3C(C)C1C32', 'CC1OC23COCC12C3', 'N#CC1CC2C(O)C2O1', 'CO.COCCCCN', 'CC1CCC2C3OC1C23', '*.CN.NCCC1=NC1', 'C#CC12CC3C(C)C1C32', 'CC1CCC(CCO)O1', 'CC1CC=CCC(=O)N1', 'CC=CCC(C)OC=O', '*C1=COC(C)N1.C#N', 'C#CC1(O)CC(C)C1N', 'N#CC12CC3C(NC31)O2', 'C1CC2(O1)OCC1CC12', 'CC1CC=CCC(=O)O1', 'C#CC(C)C1(C)COC1', 'CCCCC(C)OC=O', 'CCN1C(C)C1(C)C=O', '*.C.CCC1OC2CC12', 'N#CC12NC34C(O1)N3C24', 'COC1(C)C(C)CC1O', 'C1CC2(CCC3CC32)O1', 'C#CC12C3CC4C3C1C42', 'CC12CCC3C4OC31C42', 'CC12CCCC3OC1C32', 'C#CC1OC2CC1C2O', 'CC12CCC1CC(=O)O2', 'C.CC12CC3CC1C3C2', 'C#CC1OC2CC1C2O', 'C=O.CCCC1CC1C', 'CC12CCC1CC(=O)O2', 'CCC(C)N1CC1O.O', 'CCC(C)C1(OC)CC1', 'C#CC1CC2CNC2O1', 'CC1CCC1(C)OC=O', 'N#CC12CCC(CO1)N2', 'C#CC12CC3C(CC31)O2', 'N#CC12CC3C(CC31)O2', 'OC1CC2CC1C1CC21', 'N#CC1CCC(CO)C1', 'CC12OCCC1CC2O', 'C.CCOCCCCO', 'CCC1(O)CCC12CC2', 'CC1CC2(C)C3OC1C32', 'CC12C3CC1C1(C)C3C21', '*.CO.NCCC1CN1', 'CC1OC2COCC12C', 'CCC1C2C(C)C3C1C23', 'CCC1(C)C(O)C1(C)C', 'CCC12CC3C4(C1)CC324', 'C.CC12CCCC1CC2', 'C#CC12CC3CC1C3C2', 'C1C2OCC3(CNC3)C12', 'C#CCCC(C=O)NC', 'N#CC1CCC(O)CN1', 'CCO.CNC(C)C#N', 'CC12CC3CC1C(O)C32', 'N#CC1NC23CN2C3O1', '*.N#CCC1CCCO1', 'CC12OCCC1CC2O', '*.CO.NCCC1CN1', 'CC1C2C(O)CC13OC23', 'CC1OC2(C)C(O)CC12', 'C#CC12CC3C(C)C1C32', 'CC12CCC1CC(=O)O2', 'CC(C#N)CCCCO', 'CCO.CNC(C)C#N', 'OC1COC2C(O)CC12', '*.CC1CC(CC=O)O1', '*.C#N.CC1NC=CO1', 'CC1CC2CC2(C=O)C1', 'COC1(CO)CCC1N', 'C#CC12CC3C(C)C1C32', 'C#CC1CC2C(O)C2O1', 'COCC1COC2C=C12', 'C#CC1OC2C3C1C23O', 'CC(C)C(O)C1CC1C', '*.CN.NCCC1CN1', 'CC1(OC=O)CCC1N', 'C1OCC23CC4CC12C43', 'C#CC1CC2(CO)CC12', 'CC1C2OC3C4(CC4)C123', 'CC1CCC1(C)OC=O', 'CC1CCC2(CCO2)C1', 'CC12CCC1CC(=O)O2', 'C1CC2CC1OC1CC21', 'N#CC12CCC(CC1)N2', 'CCCCC(C)NC=O', '*.CCC1C(C)C2CC12', 'N#CC1CC2C(O)C2N1', 'C#CC1CCC(CO)C1', 'C.CC12CC3CC1C3C2', 'CC1CC=CC2C(=O)C12', 'CC12CCC1CC(=O)O2', '*.NCCC1C2CCN12', 'CC1(C=O)CC1(C)CN', 'CC(C)CC1(C)CCC1', 'C#N.NC1C2COC1N2', 'OC1C(C2CO2)=CN1O', 'CC12CC3CC1OCC32', 'CC(=O)C1CC2C(=O)N12', '*.CC1(O)CCC1CO', 'C1OCC2COC3C1=C23', 'C#CC1CCCC1CO', 'CC1C2CC23CC13CO', 'CC1CC2(CCO2)CO1', '*.CCC1C2CC3C1C23', 'N#CC12CC3C(CC31)O2', 'N#CC12CC3CC1C3C2', 'CC(C)CC1(C)CCC1', 'C#CCCC(CO)NO', 'CCC1CC(O)CC1O', '*OC12COC1C1=CC12', 'C#CC1CCC(CO)C1', 'CC1CCCCC(=O)C1', 'CO.COCCCCN', 'CC(O)C1CC(O)C1C', '*.CC12CCC1C1CC12', 'C#CC12CC3C(C)C1C32', 'C#CC12CC3C(CC31)O2', 'C#CC1CC2COC1C2', 'C#CC12C3CC4C3C1C42', 'CCC1(C)CC1(C)C=O', 'CCC1C2CC3C(C)C312', '*.N#CCC1C2OCN12', 'N#CC1CC2C(O)C2O1', 'CCC1(C)C(O)C12CC2', 'CC1CCC1(C)OC=O', 'CC1CC23OC2C1C3C', 'CCO.CNC(C)C#N', 'CC(C#N)N(C)C.CO', 'CC(O)CC1(C)CNC1', 'C=O.CC1CC1CCN', 'CC(C#N)NCCCO', 'CC1OC2COCC12C', 'CC1CCC1(C)OC=O', 'C#CC12CC3C(CC31)O2', '*.CCC1C2CC3C1C23', 'N#CC12CCC(CN1)C2', 'C#CC1OC2CC1C2O', 'C1C2C3CC4(CC3O4)C12', 'CCC1CC(O)C1(C)O', 'CC12CC3CC14OC4C32', 'CC12CCC1CC(=O)O2', 'CC1(C)CC2(C)CCC12', 'C.C.CCC1OC2CC12', 'N#CC1CC2C(O)C2O1', 'C#CC1NC2CNC2O1', 'C.CCOC1CCC1O', 'C1C2CC34COCC23C14', 'CCCC.O.OC1CN1', '*.OC12COC1C1=CC12', 'C#CC1CCCC1CO', 'C#CC1CNC(CO)C1', '*.CC1CC(=O)C1CO', 'CC12CC3CC1C3(C)C2', 'CC1CCC2(CCO2)C1', 'C#CCOC1C2CC21O', 'C#CC1CCC(CO)C1', 'CC12C3CC4C35CC41C52', 'CC(O)CC1(C)CNC1', 'C.C.NCCC1CN1.O', 'N#CC1CCC(CO)C1', 'CC(O)CCCC=O.N', '*.CCC1C(C)C2OC12', 'C#CC1CC2C(O)C2O1', 'NC1=C2N=CC(CN1)O2', 'CC12CC3CC1C(O)C32', 'CC1OCCOC2CC12', 'C#CC1CC2C(O)C2O1', 'CC1CC=CCC(=O)N1', 'C.CC1(C#N)CCCN1', 'CC1CC=CCC(=O)N1', '*.CC1C(CN)C2CC12', '*.COC1C(O)C2CC21', 'CC(C)CNC(C)C#N', 'C1=C2COCC2OOC1', '*.CCC1C(C)C2CC12', 'CC12CCC1CC(=O)O2', 'CC1CCC1(C)OC=O', 'C#CC12OC3CC1C3O2', 'C1CC2(CCC3CC32)O1', 'CC1CCC1(C)OC=O', 'C#CC12CCC1C2CC', 'C.CCCC1CC1C.O', 'CC(CCCN)OC=O', 'N#CC1CC2C(O)C2N1', 'CCCC1(C=O)NC1C', 'CCC12CCC1C21CC1', 'CC1OC2COCC12C', 'COON(C)C(C)C#N', 'CC12CC34CC1C3CC24', 'C#CC12CCC1C2CC', 'CC12CC=C1CC(=O)O2', 'C#CC1(C)C(C)C1CC', 'C#CC1CCCC1CO', 'CC1CC2COC3CC123', 'CC1C2C(=O)C23CC13C', 'C#CCOC1C2CC21O', 'C#CC12CC3CC1C3C2', 'N#CC1CCC(O)CN1', 'N#CC1CC2C(N)C2O1', 'C#CC1(C)C(C)C1CC', 'C#CC1CC2C(O)C2O1', 'CC1CC=CCC(=O)N1', 'C#CC12CC3C(CC31)O2', 'C.N#CCC1C2CCN12', 'CC1CCCOC2CC12', 'CC1(C2CC2=O)CNC1', 'C#CC(C)C1CC1CO', 'N#CC12CC3C(N1)C3O2', 'N#CC1CCC(CO)C1', 'CC1OC2(C)C(O)CC12', 'OC1CC(C2CO2)C1O', 'N#CC12CC3C(CC31)N2', 'CC12OCCC1CC2O', 'C#CC1CCCC1OC', 'O=C1C2C3CC=CC12C3', 'O=C1NC2CCCC1C2', '*.CC(N)CCN.CN', 'N#CC1CC2C(O)C2O1', 'N#CC1CCC(CO)C1', 'CCC1(C)CC2(C)CC12', 'C.CC1C2CC3C(C)C123', 'C#CC12CCC1C2CC', 'OC1CC2CC1C1CC21', 'CC1C2COC1(C#N)C2', '*.C#C.C1OC2CC1C2', 'C#CC1CC2C(O)C2O1', 'C.CC1N(C)C1(C)C#N', 'CC(O)C1CC(O)C1C', 'N#CC1CCC(CO)C1', 'C.CC1CC2OCC12O', 'C1OC2CC3CC1C2C3', '*.NCCC1C2OCN12', '*.C#CC12CC3CC1C32', 'C.CC(CC#N)NCN', '*.CO.NCCC1CN1', 'OC1CC2CCOC2C1', 'CC12C3CC4C35CC41C52', 'CC(C#N)NC#CCO', 'CC1=CC2NC1CC2=O', 'CC12C3CC1OC2CO3', 'C1CC2(C1)CCC1CC12', 'CC1CCCCC(=O)C1', '*.CCC1C(C)C2CC12', 'C#CC1CC2CCC2O1', 'C.CCC1CC2(C)CC12', '*.N#CCC1CCCO1', 'CCC1(C)CC2(C)CC12', 'CC(C)C=O.CCCN', 'C#CC1CC2C(O)C2O1', 'CC12C3CCC14CC3C42', 'N#CC1CC2C(O)C2N1', 'N#CC1CC2C(O)C2N1', 'CC12CCC(C1)C2CO', 'C#CC12CC3C(CC31)O2', 'C#CC1NC2CCC2O1', 'CC1CCC2C3OC1C23', 'CC1OC2COC3CC132', 'CC1=CC23CC1N2C3=O', 'CCC12CC(O)CC1O2', 'COC1(C)C(C)CC1O', 'C1OC2CC1OC1CC21', 'NOOCCOC1C=C1', 'CC(CC=CN)NC=O', 'CC1CC2(C)CNC2O1', 'CC1OC2CCC(C2)O1', 'CC12CCC1CC(=O)O2', 'C#CC12C3CCC1C2C3', 'C#CC12CC3CC1C3C2', 'CC12CCC1CC(=O)O2', '*.CC1(O)CCC1C=O', 'CC12CC3CC1C3(C)C2', 'CC1CCCCC(=O)O1', '*.CC1(O)CCC1C=O', 'CC12OCCC1CC2O', 'C.CC12CCC1C21CC1', 'CCC(C)C1(C)CC1=O', 'C#CC(C)C(CC)CC', 'CC1C2OC3C4(CC4)C123', 'C#N.NCC1NCCO1', 'C1CC23CC24CCC14O3', 'N#CC12CC3C(CC31)N2', 'CC1OOC2C=C1C2O', '*.CC1CC(O)C1C#N', '*.CNCC(O)CC=O', 'C.OC12COC1C1=CC12', 'CC1CC=CC(C=O)C1', 'C#CC1CC2CNC2O1', 'CC12OCCC1CC2O', 'C#CC12C3CCC1C2C3', 'C#CC12CC3CC1C3C2', 'CC12CCC1CC(=O)O2', 'CCCCC(C)NC=O', 'CCC(C)C1C(O)C1O', 'OC1CC2CCOC2C1', 'CC1CCC1(C)OC=O', 'CC1OCC2(CCO2)O1', 'OC1CCC2OCCC12', 'C#CC1CCC(CO)C1', 'C1OC2C3CC2C1OO3', 'C#CC(C)C12CC1OO2', 'N#CC12CC3C(CC31)O2', 'CCCCC(C)OC=O', 'C=O.CCCN1CC1C', 'CC1C2C(O)CC13OC23', 'NC1CC=CC2C(=O)C12', 'N#CC1CCC(N)CO1', 'N#CC1CC2C(O)C2C1', 'CC(O)CNC(C)C#N', 'CC1CC=CCC(=O)N1', 'C1=C2C3COC2C1OO3', 'C.CC1(C#N)CCCN1', '*.N#CCC1CCCO1', 'N#CC1CC2C(O)C2N1', '*.N#CC1C2CN3C1C23', 'OC1CC2CC1C1CC21', 'N#CC12CC3C(CC31)N2', '*.CC12OOC13CC2C3', 'N#CC12CC3C(CC31)O2', 'C#CC12CC3C(C)C1C32', 'C1CC2(C1)CCC1CC12', 'CC12CCC1CC(=O)O2', 'CN(C=O)C(C)(O)CN', 'C#CC12CCC1C2CC', 'CC1(O)CCC1C=O.N', 'CC1=CC23NC1C2C3=O', 'C.CC1CC2OCC12O', 'N#CC1CC2C(O)C2O1', 'CCN1C2CC(=O)CC21', 'C1OCC2COC3C1=C23', 'CCC1C2CCC12CC', '*.C#C.C1OC2CC1C2', 'N#CC1CC2C(O)C2O1', 'CC12OC3(C)C(C1O)C23', 'C#CCCC1(CO)CO1', 'CC1CCC1(C)OC=O', '*.CC1(C#N)CCCN1', 'CC12OCCC1CC2O', 'C#CC1CCC(CO)C1', '*.COC(CN)C1CN1', 'C1=C2COCC2OOC1', 'C#CC12CCC1C2CC', 'C#CC1CC2CNC2O1', 'C=O.CN1CC1CCN', '*.NCCC1C2OCN12', 'C#CC12CC3CC1C3C2', 'C.CO.NCCC1CN1', 'CCC1(C)C(O)C12CC2', 'N#CC1CC2C(O)C2C1', 'C#CC1OC2CCC2O1', 'COC1(C)C(C)CC1O', 'C.C.CCC(O)C1CC1', 'CC1C2COC1(C#N)C2', '*.CC1CC(=O)C1CO', '*.C#CC1C(C)CC1O', '*.C.CC1C(C)C2CC12', 'O=C1NC2CC=CC1C2', 'C#CC12C3CCC1C2C3', 'C.CCC1CC2(C)CC12', 'CC12CC3CC1C3(C)C2', 'N#CC1CC2C(O)C2N1', '*.CCC1C(C)C2CC12', 'C#CC(C)C1CC1CO', 'CC12C3C4CC1(C3O)C42', 'C#CC1CCCC1CO', 'N#CC1CCC(CO)C1', '*.N#CC1C2COC1C2', 'C#CC1C2CCC13CC23', 'CC1=CC(C=O)CC1C', 'CC1CC12CC2(C)C=O', 'CC(O)CC1(C)CNC1', 'CCONCCC(C)O', 'C#CC1OC2CC1C2O', '*.COC(CO)C1CO1', 'CC1CC=CCC(=O)N1', 'C.CCC1CC2(C)CC12', 'C1C2OCC3(CNC3)C12', 'C#CC1CC2CCC2O1', '*.C#CC1C2CC3C1C23', 'CCC1CC(C)C(=O)N1', 'CC1CC=CCC(=O)N1', 'CCC1C(C)C1(C)C#N', 'CC1C2COOC1CO2', 'CCOCC(O)CCN', 'OC1CC2CC1C1CC21', 'C#CC1CCC(CO)C1', 'C1CC2CC1OC1CC21', 'CC1CC=CCC(=O)N1', 'CC1OONC(O)C1C', 'OC1CC2CC1C1CC21', 'C.CC1C(CO)C2OC12', 'COC1(C)C(C)CC1O', '*.CC1(O)CCC1C=O', 'N#CC1CCC(CO)C1', 'CC12CCC1CC(=O)O2', 'CCCCOC.CO.O', 'N#CC1CC(CO)CN1', 'CCC1CCOC12CO2', 'C.C.CCC1OC2CC12', 'CCC1C(CC)C2CC12', 'C=C1COCC1OON', 'CC(C)C(O)C1CC1C', 'C.CC(C)CC1CC1.O', 'CC1C2C(O)C(C)(O)C12', 'CCC(C)C12OCC1O2', 'CC(O)C1CC(O)C1O', 'C1C2CC3C1OC1C2C31', 'CCC1CC(O)CC1O', 'N#CC1CCC(O)CN1', 'CC1C2COC1NOO2', 'CC=C(NN)NC=O.N', 'CCC1(ON)COC1.O', 'C#CC1OC2C3C1C23O', 'CC12C3CC1OC2CO3', 'CC12CC3CC1C3(C)C2', 'CNCCCCNC=O', 'C#CCCC(CO)NC', 'CC1OC2CCOC1C2', 'C#CC1CCCC1CC', 'OC1COC2C1=CC2O', 'CCC.CCC1CCC1', 'C#CC12CC3CC1C3C2', 'CC1CCCCC(=O)N1', 'CC1C2COC1(C#N)C2', 'CCC(C)C1(CC)CC1', 'C#CC12OC3CC1C3O2', 'C#CC1CCC(CO)C1', 'C#CC1CNC2C(O)C12', 'CC1CCC2C3OC1C23', 'CC1CC=CC2C(=O)C12', 'C#CC12C3CCC1C2C3', 'C.CCC1OC2C(C)C12', 'C#CC12CCC1C2CC', 'C1=C2COCC2OON1', 'CC=CCC(C)NC=O', 'CCC1CC(O)C1(C)O', '*CC1(C)C(C)C2CC21', 'C.CC(O)C(O)C1CC1', 'NOOC1COC2C=C21', 'C.CC12CCC1C21CO1', 'CC1OC2COCC12C', 'CC1OC2(C)C(O)CC12', 'C.C#CC1C2CC3C1C23', 'C#CC12CC3C(CC31)O2', 'C1CC2COCC2OO1', 'C#CC12CC3CC1C3C2', 'N.O=CCC1(O)COC1', 'NC1=C2N#CC(CC1)N2', 'C#CC1CC2CCC2O1', 'N#CC1CC2C(O)C2N1', 'C1OC2C34CC5CC13C524', 'C#CCC.O.OC1CC1', 'C#CC1CCCC1OC', 'O=C1NC2CC=CC1C2', 'N#CC1CC2C(O)C2N1', '*.CC1CC(O)C1C#N', 'N#CC1CC2C(O)C2N1', 'CC1CC=CCC(=O)O1', 'CC12OCCC1CC2O', 'CCN1C(C)C1(C)C#N', 'CC1CC=CCC(=O)N1', 'CC1CCC1(C)OC=O', 'CC1CC=CC2C(=O)N12', 'CC1CC(=O)C1C#N.N', 'CC(CCCN)NC=O', 'CC12COCC1OC2N', 'CCO.CNC(C)C#N', 'CC(C#N)C12CC1OO2', '*.CO.NCCC1CN1', 'C1C2OCC3(CNO3)C12', 'C#CC1CC2(CO)CC12', 'CC1CCC2(CCC2)C1', 'OC1CC2CC1C1CC21', 'CCCCC(C)OC=O', 'C#CC12CC(C)C(C1)C2', 'C#CC1OC2CC1C2O', 'CCC12CC(O)CC1O2', 'C#CC1CC23COC12C3', 'C#CC(C)C1CC1CO', 'CC1CC(C=O)CC1C', 'NOOC1COC2=C=C21', 'C#N.NCC1NCCO1', '*.CCC1C(C)C2OC12', 'CC12CC3CC1C(O)C32', 'C#CC1CC(CO)CO1', '*.CCC1C(C)C2CC12', 'C.CC(O)CC1CC1.O', 'CCOC1CCC(O)C1', 'COOC(C)C(C)C#N', 'N#CC1CC2C(O)C2N1', 'O=CNC1CCCCC1', 'CC12CC3(CO1)C1CC123', 'C#CC1CC2(CO)OC12', 'COOC(C)C(C)C#N', 'CC12C3CC4C35CC41C52', 'CC1CCC1(C)OC=O', 'C#CC12CC3C(C)C1C32', 'CC(CN)C(C)(C)C=O', 'CC(C)CNC(C)C#N', 'CC1=CC2COC1C2.O', 'CCOCC(O)CCO', 'CC1CC2CCC2(C)C1', 'NC1OCCOC2C=C12', 'O=C1NC2CC=CC1C2', 'N#CC1CC2C(O)C2N1', '*.N#CC1C2CNC1C2', '*.CC(CC#N)NCN', 'CC1N2CCCC12C=O', 'CCCCC(C)OC=O', 'C#CC12C3CCC1C2C3', 'C.CC1(C#N)C2CCN21', 'CC1CCC1(C)OC=O', 'C#CC1CCCC1CO', 'C1CC2(C1)CCC1CC12', 'CC12OCCC1CC2O', 'CC.NCCC(O)CO', 'C.CCONCCCO', 'C#CCOC1C2CC21O', '*.N#CCC1CN1CN', 'CC1CC2OCC12OO', 'C#CC1CC2CNC2O1', 'CC1CCCCC(=O)O1', 'C#CC1OC2C3C1C23O', 'C#CC12CC3C(C)C1C32', 'O=C1NC2CC=CC1C2', 'N#CC1CC2C(O)C2O1', 'CC1CCC1(C)OC=O', 'CC12CC3CC1C3(C)C2', 'C#CC12CCCC1CC2', 'C#CCC.O.OC1CN1', 'N#CC1CC2C(N)C2O1', 'CCC1(C)C2CC23CC13', 'CC1OC2COC3CC132', 'C#CCCC1(CO)CO1', 'COC1(CO)CCC1N', 'CC(C#N)NCCCO', 'C.CC12C3CC1C21OC31', 'CC1CC=CCC(=O)O1', 'CC(O)C1CC(O)C1O', 'CC12CC3CC1C(O)C32', 'CC12OCCC1CC2O', 'CC1CCC1(C)OC=O', 'CC1CCC2(CCC2)C1', 'CC12NC=C1CC(=O)O2', 'CC1C2CC(C#N)NC12', 'CC1NC=CCC(=O)N1', 'C#CC12CC3CC1C3C2', '*.C1=C2OC34CC(C3)C124', 'CC1CC2CC(O)C1C2', 'OC1CCC2C3CC12O3', 'CC(C#N)CCCCO', 'CCC12CC3C1C3(C)C2', 'CC1CC1C1(C)CCC1', 'CCC1CC(O)C1(C)O', 'COC1(C)CCC1C.O', 'C#CC12CC3CC1C3O2', 'CC1OC2CCC(C2)O1', 'CC(O)CNC(C)C#N', 'CC1CC2CCC2(C)C1', '*.N#CCC1CCCO1', 'NC1=C2N#CC(CC1)O2', 'C1=C2C3COC2C1OO3', '*.N#CC1C2CN3C1C23', '*.C#N.C1OC2CC1C2', 'N#CC12CC3C(CC31)O2', 'CCC12COC1C21CC1', 'N#CC12CC3C(CC31)O2', '*.COC(CO)C1=NC1', 'C.CC1CC2OCC12O', 'C#CC1CCCC1CO', 'CC(C#N)C1CC1CO', 'C.CC12C3CC1C21CC31', 'C#CC12OC3CC1C3O2', 'C1C2OC3C4C25CC1C345', 'CC1(O)C(N)CC1C=O', 'C#CC1CCC(CO)C1', 'CC1C2C(O)CC13OC23', '*.N#CCC1CNCN1', 'CC(C)CNC(C)C#N', 'CC1CC2(C)C3OC1C32', 'N#CC1CNC(N)CO1', 'C1CC2(CCC3CC32)O1', 'CCC1OC2C(CC)C12', '*.CC1CC(O)C1C#N', 'NOOC1COC2=C=C21', 'CCC12CCC13CC3C2', 'COC1CCCC1C#N', 'C.CC12C3CCC1C2C3', 'CCC12CCC1C21CC1', 'C#CC12CC3C(C)C1C32', 'CC(CC=CN)NC=O', 'CCCCC(O)CCO', 'C#CC1CC2C(O)C2O1', 'C#CC1OC2CCC2O1', 'C1CC2(C1)CCC1CC12', 'N#CC1OC2C3C1C23N', 'CC(CC=CN)OC=O', '*.CC(=O)CCN.CN', 'CC1(O)CCC1C=O.N', 'CC1(C)CC2(C)CCC12', 'C#CC1CCC(CO)C1', 'CC1CN(C(C)C#N)C1', 'CC1CC=CCC(=O)N1', 'CC1=CC2NC1NC2=O', 'C.CC12C3CC1C21OC31', 'N#CC1CC2C(O)C2O1', 'N#CC1CC2C(O)C2O1', 'CC1CCC1(C)OC=O', 'C#CC12CC3C(C)C1C32', 'CC1CC(=O)C1CO.N', 'NOOC1COC2=C=C21', 'CCC1(C)CC2(C)CC12', 'CC1N2CCCC12C=O', 'C.CC1CC2CCC2O1', 'CCC1CC(O)C1(C)O', 'CC1(O)C(N)CC1C=O', 'C#CC1CCC(CO)C1', 'CC1CC2CC(O)C1C2', 'N#CC12NC(CO1)C2N', 'C#CC12CCC1C2CC', 'CC12CC3CC1C(O)C32', 'C#CC1OC2CC1C2O', 'N#CC1CC2C(O)C2N1', 'C#CC1CC2C(O)C2O1', 'C#CC1CCC(CO)C1', '*.CNCC(=O)CCN', 'CC(O)CC1(C)CNC1', 'C#CC12CC3C(C)C1C32', 'CC1CC=CCC(=O)N1', 'C#CC1CCCC1CC', 'CC1CC=CCC(=O)N1', 'C1OC2C3CC2C1OO3', 'COC1(C)CCC1C.O', 'COC1(CO)CCC1N', 'CCC(C)C(C)(C)C=O', 'CC(C#N)C12CC1CO2', '*.C#N.CC1NC=CO1', 'C#CC1CCCC1CO', 'C#CC(C)C12CC1OO2', '*.CC1C2CC2C1(C)C', 'C.CC1CCCC1CO', 'CCC1(C)CC2(C)CC12', 'C.N#CCC1CNCN1', '*.CC1C2C(O)C13CC23', 'CC1(C=O)CC1CCN', 'NC1CC=CC2C(=O)C12', 'OC1CC2CC1C1CC21', 'CC1CN2C1C2(C)C#N', 'CC12CCC1CC(=O)O2', 'N#CC1CC2C(O)C2N1', 'C#CCOC1C2CC21O', 'C.CC1C2CC3(C)C1C23', 'N#CC12NC(CO1)C2N', 'OC1CC2CC1C1CC21', 'N#CC12CC3C(CC31)N2', 'C.C#CC1(C)C(C)C1C', 'OC1CC2CC1C1CC21', 'C#CC1CCC(CO)C1', 'CC1CC2CC2(C=O)C1', 'CC1OCCOC2=CC21', 'C#CC1CCCC1.CO', 'CC1C2COOC1CO2', 'C#CC1OC2CC1C2O', 'CCN1C2CC(=O)CC21', 'COC1(C)C(C)CC1O', 'C1=C2C3CCC(C3)OC12', 'CCC1(C)C(O)C12CC2', 'C#CC12CC3C(CC31)O2', 'C.OC12COC1C1=CC12', 'CC1CCC1(C)OC=O', 'CC1C(O)CC1C1CO1', 'C#N.NC1C2COC1N2', 'C#CC12OC3CC1C3O2', 'NOOC1COC2=C=C21', 'CC(C#N)C1CCCO1', 'C#CC1NC(CN)CO1', 'N#CC1CC2C(O)C2O1', 'CC1CCC2(CCO2)C1', 'C#CC12CCC1C2CC', 'C1OCC2COC3C1=C23', '*.CCC1C(C)C2CC12', 'OC1CC2CC1C1CC21', 'CC1OC2CCC2(C)O1', 'C#CCOC1C2CC21O', '*.CCC1C(=O)CC1C', 'O=C1NC2CC=CC1C2', 'C.OC12COC1C1CC12', '*NCCC1=NC1.CO', 'C#CC(C)(CN)CCO', 'CC1C2CCC3C1C23C', 'CC1CC2(C)CNC2O1', '*.C#CC1C2CC3C1C23', 'COC12COC1CC2C', 'C#CCC.OCC1CC1', 'CC12CCC1CC(=O)O2', 'COCC(C)C=CCO', 'N#CC12CC3C(CC31)N2', 'C1CC2CC1OC1CC21', '*.CC1C(CO)C2NC12', 'COC1(C)CCC1C.O', 'N#CC1CC2C(O)C2N1', '*.N#CCC1C2OCN12', '*.C#N.CC1NCCO1', '*.CC1(O)CCC1C=O', 'CCC(C)C12COC1C2', 'N#CC1CC2C(O)C2N1', 'N#CC1CC2C(O)C2C1', '*.N#CC12CC(CN1)C2', 'ON1C=C2C3OC3OC21', '*.COC1C2=CC2C1O', 'CCC1CC2C(=O)N12.O', 'C.CCONC1CC1O', 'CC1CC=CCC(=O)N1', 'C#CC12CC3C(CC31)O2', 'N#CC1CC2C(O)C2O1', 'CC(C#N)C(C)CO.O', 'C.CC(O)C(O)C1CC1', 'CC12CC3CC1C3(C)C2', 'CC1CCC(CCO)C1', 'CC1OC2CC(O)C1C2', 'CC(NC=O)NC=CN', 'C#CC12CC3C(CC31)N2', 'C1=C2COCC2OON1', 'C.CC1C2CC3C(C)C123', '*.COC1C2=NC2C1O', 'C1CC2(C1)CC1C3CC132', 'C.CC12C3CC1C21OC31', 'C#CC1CNC(CO)C1', 'CCCCCCNC=O', 'C#CC12C3CCC1C2C3', '*.CC1C(CN)C2OC12', 'N#CC1CC2COC1C2', 'C#CC1OC2C3C1C23O', 'CCC12COC1C21CC1', 'CC(C#N)NCCCO', 'C1CC2(O1)OCC1CC12', 'CC1OC2CCC(C2)O1', 'CC1CC=CCC(=O)N1', '*C1C2COC1(C#N)C2', 'CC1(O)C(N)CC1C=O', 'C#CC(C)C1CCCO1', 'CC1CC2(C)CNC2O1', 'C1OCC2COC3C1=C23', 'C#CC1CC2CC1C2O', 'CC12OCCC1CC2O', 'C.CC1CC2CCC2O1', 'C#CC1CC2C(O)C2O1', 'CC1C2CC23CC13C.O', 'CC1COCCOC1C', 'C1=C2C3COC2C1OO3', 'C#CC12CC(CO1)C2N', 'CC1C(O)CC1C1CO1', 'C#CC(C)C12CC1CO2', 'C.C.CCC(O)C1CC1', 'C#CC1CCC(CO)C1', 'NC12CC1=CC(C=O)C2', 'C#CC1CCCC1CO', 'C#CC(C)C1(OC)CC1', 'N#CC1CC2C(O)C2N1', 'CC(C)(C=O)C1CC1N', 'CC1C2C(O)CC13OC23', 'C.CC12CC3CC1C3O2', 'CC12CC3CC1C(O)C32', 'CC1CCC2(CCC2)C1', 'CCC1CC(O)CC1O', 'CN=CNCCCCN', 'CC1C2C3(O)CC14NC234', 'CC(C)CNC(C)C#N', 'N#CC1OC2C3C1C23N', 'CCC.CNC(C)C#N', 'C#CC12CC3C(C)C1C32', 'C#CC(C)C12CC1CO2', '*CC1(C#N)CCCO1', 'CCC12CC(O)CC1O2', 'C#CC12CC(CO1)C2N', 'C#CCCC(C=O)NC', 'CC(O)CC(C)(C)C.N', '*.CCC1C2CC3C1C23', 'CC1OC2(C)C(O)CC12', 'N#CC1CC2C(N)C2O1', 'C1C2C3CC4(CC3O4)C12', 'C.CC12C3CCC1C2C3', 'CC1CCC1(C)OC=O', 'C1=C2C3COC2N1OO3', 'CC1CC(C=O)CC1C', 'CC12CCC1CC(=O)O2', 'C#CC12CC3C(CC31)O2', 'CC12OCCC1CC2O', 'C#CC12OC3CC1C3O2', 'C.CCOC1C2CC21O', 'C1C2OCC3(CNO3)C12', 'CC1CC2(C)CNC2O1', '*.CC1C2C(=O)C1C2O', 'O=C1NC2CC=CC1C2', 'N#CC1OC2C3C1C23O', 'CCC1C(O)C12OC2C', 'C#CC1CC2(CO)OC12', 'CC(CC=CN)NC=O', 'C#CC1CCC(CO)C1', 'C#CC1OC2CC1C2O', 'O=C1NC2CC=CC1C2', 'C#CC(C)C1(OC)CO1', 'CC(O)CC1(C)CNC1', 'O=C1NC2CC=CC1C2', 'C#CC1ONC2C(O)C12', 'CC1CCCOC2C=C12', 'C#CC12CC3C(CC31)O2', 'CCC1(C)C(O)C1(C)C', '*.N#CCC1C2CCN12', 'N#CC1CCC(CO)C1', 'C#CC(C)C1CCCC1', '*.CCC1C2CC3C1C23', 'N#CC1CCC(CO)C1', 'N#CC12CCC(CC1)N2', 'CC1OC2(C)C(O)CC12', 'CC1CCCCC(=O)C1', 'C#CC12CC3CC1C3C2', 'COC1(C)C(C)CC1O', 'CC(CO)C1(O)CNC1', '*.NCCC1CN1CO', 'CC1=CC23CC1C2C3=O', 'CC1=CC(C=O)NC1C', 'CC1(O)C(N)CC1C=O', 'OC1CC2CC1C1CC21', 'CC(C)CC1(C)CCC1', 'C1C2OC3CC34C1OC24', '*.N#CCC1CNCO1', 'CC1C2C(O)C(C)(O)C12', 'CC1CCC1(C)OC=O', 'CCCC.OCC1CN1', '*.CCC1C(C)C2OC12', 'C#CC1(C)C(C)C1CC', 'C.CCC1CC2(C)CC12', 'N#CC1CC2C(O)C2N1', '*.CCC1C2CC3C1C23', 'CC12CC3CC1CCC32', 'CC1C2C(O)CC13OC23', 'CC(C)C(O)C1CC1C', 'CC12C3CC1OC2CO3', 'CC1OC2COCC12C', 'N#CC12CC3C(CC31)O2', 'N#CC1CCC(CO)C1', 'C#CC12C3CCC1C2C3', 'CCC1CC(O)C1(C)O', 'C#CC1CCCC1CO', 'C.CC1COCC1CO', 'C#CC12C3CC4C3C1C42', 'COC1(CO)CCC1C', 'CC1OC2(O)C1=CC2O', 'C1C2CC3C1OC1C2C31', '*.CCC1C(C)C2CC12', 'C#CC12C3CCC1C2C3', 'C#CC1CCC(CO)C1', 'C.CC1CC(O)C1(C)O', 'C#CC1OC2CC1C2O', 'CC(O)CNC(C)C#N', 'CCC1(C)C(O)C1(C)C', 'C#CC12CC3C(CC31)O2', 'CC1CCC2(CCC2)C1', 'N#CC1CC2C(O)C2O1', 'C#CC12OC3CC1C3O2', 'CCO.CNC(C)C#N', 'N#CC1CC2C(O)C2N1', 'N#CC1CC2C(O)C2N1', 'C#CC(C)C(CC)OC', 'C#CC(C)C12CC1CO2', 'C#CC12CC3CC1C3C2', 'CC1OOC2CC1C2O', 'NOOC1COC2C=C21', '*.COC(CO)C1CC1', '*.C#N.CC1CCCO1', 'C#CC1NC2CNC2O1', 'CCC1CC(O)CCO1', 'C#CC1CC2C(O)C2O1', 'CC12CC3CC1C(O)C32', '*CC1(C#N)NCCO1', 'OC1COC2C1=CC2O', 'CC1C(O)CC1C1CO1', 'CC(C#N)C(C)(O)CO', 'CC12CCC3(CCC13)C2', 'CC1CCCOC2CC12', 'C#CC12CCC1C2CC', 'OCC1CC2COC1C2', 'CCOC1COC2C=C21', 'CC1OC2COCC12C', 'CCC12CC(O)CC1O2', 'CC1(C)CC2(C)CCC12', 'C#CC12CCC1C21CC1', '*.CC12C#CC(O)(C1)C2', 'C#CC1OC2CC1C2O', 'C.C.CCC1OC2CC12', 'C.CCC1CC2(C)CC12', 'C.CCOC1CCC1O', 'CC1CCCOC2C=C12', 'C1OC2(C3CC3)CC1O2', 'CC(C#N)C1CCCO1', 'C.C.NCCC1CC1.O', 'N#CC1CCC(CO)C1', 'C#CC(C)C12CC1OO2', 'C#CC12C3CCC1C2C3', 'OCC1CC2COC1C2', 'CC1CC(C)(C=O)C1C', 'C#CC12CC3C(NC31)O2', 'CC(CC=CN)NC=O', 'C#CC12CC3C(CC31)O2', 'CC12C3C4CC1(C3O)C42', 'C=C1COCC1OOC', '*.CC1CC(O)C1C#N', 'CC12CC34CC1C3CC24', 'CC(CO)C(C)C1CO1', 'OC1C=C(C2CO2)C1O', 'N#CC12CC3C(CC31)O2', 'CC(C#N)C1CCCO1', 'CC1CC=CCC(=O)N1', 'CC(C#N)NC1CC1O', '*.CO.NCCC1CN1', 'CC1CCCC2C(=O)C12', 'CC12OCCC1CC2O', 'C#CCOC1C2CC21O', 'N#CC12CC3C(CC31)N2', 'CC1CCC1(C)OC=O', 'C#CCCC1(C=O)CN1', 'N#CC1CC2C(O)C2N1', 'C1CC2(CCC3CC32)O1', 'C.C.CCC1OC2CC12', 'CC(O)C(O)C1CC1C', 'N#CC1CC2C(O)C2N1', 'C1OC2C3CC2C1OO3', 'CC(=O)NC1(C)CNC1', 'CC12CCC3(C1)CC23C', 'C#CC12CC3CC1C3O2', 'C#CC(C)C1CC1CO', 'C#CCC.OCC1CC1', 'C#CC12CC3C(CC31)O2', 'C#CC12CC3C(CC31)O2', 'OC1CC2CC1C1CC21', 'N#CC1CC2C3ON1C23', 'C.CC1OC2CCC2O1', '*.NCCC1C2CCN12', 'C.CC12CC3CC1C3C2', 'C#CC12CC3CC1C3C2', 'C1=C2COCC2COC1', 'CCC(C#N)NCCN', 'CC12CCC3(CCC13)C2', 'CCC12CCC1C21CC1', '*.C#CC12CC(CO1)C2', 'CC1CC2COC3CC123', 'CC1CCC(CCO)O1', '*.C#CC12CCC(C1)C2', '*.CCC1C(C)C2CC12', 'CCCNC=O.CNC', 'CC12OCCC1CC2O', 'C#CC1CC2C(O)C2C1', '*C1C2COC1(C#N)C2', 'CC12CC3CC1C(O)C32', 'CCC1C2CCC12CC', 'CCNCCCC(C)=O', 'CC1CC=CCC(=O)N1', 'CC1CCC2(CCO2)C1', 'CCC1(C)CC2(C)CC12', 'C1C2CC3C1OC1C2C31', 'CC1OC2(C)C(O)CC12', '*.CC1CC(O)C1C=O', 'COC12COC1CC2C', 'C1OC2CC13C1OCC213', 'CC(=O)C1CC2C(=O)N12', 'CC(O)C1CC(O)C1C', 'C.CCC(OC)C1CC1', 'O=C1NC2CC=CC1C2', 'CC(O)CC1(C)CNC1', 'C#CC1CC2(CO)CC12', 'C#CC12CC3C(CC31)O2', 'CC1CC=CCC(=O)O1', 'NOOC1COC2=C=C21', 'CC12CCC3(CCC13)C2', 'CCC1(C)CC2(C)CC12', 'C.CC12CC3CC1C3C2', 'C1=C2C3COC2C1OO3', 'C1=C2COCC2OOC1', 'C.CC1C2CC3(C)C1C23', 'C.CC1C2CC3(C)C1C23', 'CC1OC2CC(O)C1C2', 'C#CC1CC2CNC2O1', 'CC(C)CNC(C)C#N', 'CC1CC=CCC(=O)N1', 'CC1CN(C(C)C#N)C1', '*.CC1(O)CCC12CC2', 'CC1OCCOC2C=C12', 'CC(O)C1CC(O)C1O', 'CC1CCC(C#N)NC1', 'COCC1COC2C=C12', 'C#CC1CC2C(O)C2O1', 'CC1CN(C(C)C#N)C1', 'C#CC12CC3CC1C3C2', '*.N#CCC1CCCO1', 'NC1OCCOC2C=C12', 'C.CC12COC1C21CC1', 'C#CC12C3CCC1C2C3', 'CC1=CC2CC1NC2=O', 'C.C1C2CC23CC13.CC', 'CC1CC2(C)CCCC12', '*.C#CC1C(C)CC1O', '*.N#CCC1CCCO1', 'O=C1NC2CC=CC1C2', 'CC1CC=CCC(=O)N1', 'CC12C3CC1C1(C)C3C21', '*.N#CC12CC(CO1)C2', 'C#CC12CC3C(CC31)O2', 'CC12CC3CC1C3(C)C2', 'C#CC1CCCC1CO', 'CCC(C)N1C(=O)C1O', 'CC1C2C(O)CC13OC23', 'CCO.CNC(C)C#N', 'CC1CC=CC(C=O)O1', 'CC1=CC(C=O)CC1C', 'C#CC1CCCC1CO', 'CC1CC2CCC2(C)C1', 'C#CC12CCCC1CC2', 'N#CC12CC3C(C1)C3N2', '*.CC1(O)CCC12C=C2', 'CCCCOC.CO.N', 'CCC1(C)C(O)C1(C)C', 'CCON(C)C(C)C#N', 'COC1N(C)C1(C)C#N', 'C.CCC1OC2C(C)C12', 'C#CC12CC3C(CC31)O2', 'C.CC1CCCC1CO', 'C1CC2(C1)CCC1CC12', 'C1OCC23CC(CC12)C3', 'C.CC12CC3CC1C3C2', 'N#CC1CC2C(N)C2O1', 'N#CC1CCC(CO)C1', 'CCC1(C)CC2(C)CC12', 'CCON(C)C(C)C#N', 'C1CC2(CCC3CC32)O1', 'CC1CC=CCC(=O)O1', '*.NCCC1CN1CO', 'OC1CC2CC1C1CC21', 'CN(C)CCCNC=O', 'C#CC12CC3CC1C3C2', '*.N#CC12CCC(C1)C2', 'C.CC12CC3CC1C3C2', 'C1OOC2COC3C1=C23', 'CCC1(C)CC2(C)CC12', 'CC1=CC2CC1OC2=O', 'CCC1CC(O)CC1O', 'C1=C2C3COC2N1OO3', 'CCC1OC2C(CC)C12', 'C1CC2(CCC3CC32)O1', 'C.CCC1C2CCC12C', '*.NCCC1C2OCN12', 'N#CC1CC(CN)CO1', 'CC(N)CNC(C)C#N', 'C#CC12CC3C(C)C1C32', 'C#CC1CCCC1CO', 'CCC1(C)C(O)C12CC2', 'C#CCOC1C2CC21O', '*.CCC1C(C)C2CC12', 'CC12CCC1CC(=O)O2', '*.CCC1C(C)C2CC12', 'C.CC12CC3CC1C3C2', 'C.CC12C3CC4C3C1C42', 'N#CC1CC2C(O)C2O1', 'CCC1(C)C(C)C2CC21', 'CC1CC=CCC(=O)O1', 'N#CC1CCC(N)CN1', 'C.CC(O)C(O)C1CC1', 'C.CC1C2CC3(C)C1C23', '*.CC12CC(=O)C1CO2', 'C#CC12CC(CC)C1C2', 'N#CC1CC2C(O)C2N1', 'CC1CCC1(C)OC=O', 'C#CC1CC2C(O)C2O1', 'N#CC1CC2C(O)C2O1', 'O=C1NC2CC=CC1C2', '*.C#CC12CC3CC1C32', 'CCC1(C)C(O)C12CC2', 'CC(O)C1CC(O)C1O', '*.CC1CC(O)C1C#N', 'C#CC12CC3C(CC31)O2', 'NC1CC=CC2C(=O)C12', 'C.CC1COOCC1C', 'C.NCCCCNC=O', 'C1OOC2COC3C1=C23', 'N#CC1CC2C(O)C2C1', 'C1=C2C3COC2C1OO3', 'C#CC1CCC(CO)C1', 'C#CC12CC3CC1C3C2', 'OC1COC2C1=CC2O', 'CC1CC2(C)C3OC1C32', 'N#CC12CC3C(CC31)O2', 'C#CC1OC2C3C1C23O', 'C#CCC.O=CC1CN1', 'NC1OCCOC2C=C12', '*.CC12CCC1C1OC12', 'OCC1=CC2COC1C2', 'CCC12CCC1C21CC1', 'CC12CCC1CC(=O)O2', 'COC1(C)CCC1C.O', 'OC1CC2CC1C1CC21', 'O=C1NC2CCCC1C2', 'O=C1C2C3CC=CC12C3', 'CC1C2C3C1(C)CC23C', '*.CC(=O)CC#N.CN', 'OC1COC2C(O)CC12', 'C#CC12CC3CC1C3C2', 'OC1CC2CC1CCO2', 'CC1CC=CC2C(=O)C12', 'N#CC1CC2C(O)C2O1', 'CC(O)CC1(C)CCC1', 'OC1C=C2C1OC1OC21', 'CCC12COC1C21CC1', 'C#CC12CC3C(CC31)O2', 'CC12CC3CC1C3(C)C2', 'CC1CCCOC2C=C12', 'CC12OCCC1CC2O', 'CC12CCC1CC(=O)O2', 'COC1(C)C(C)CC1O', 'CC1CC=CCC(=O)O1', 'CC12OCCC1CC2O', 'N#CC12CC3C(CC31)N2', 'C.CC1C2CC3(C)C1C23', 'C#CC1CC2C(O)C2O1', 'C#CC12CC3CC1C3C2', 'CC1C2C(O)CC13OC23', 'NOOC1COC2C=C21', 'C#CC(C)C1(O)CC1=O', 'OC1CC2CCOC2C1', 'N#CC1OC2N3C1C23N', '*.N#CCC1CNCN1', 'CC1=CC2COC1C2.O', '*.CCC1C2CC3C1C23', '*.CC1CC(=O)C1CO', 'COC1(CO)CCC1N', 'C1CC2(C1)CCC1CC12', 'C#CC12OC3CC1C3O2', 'CCO.CNC(C)C#N', 'CC(O)CC1(C)CNC1', '*.N#CCC1CCCN1', 'C=O.CC1CC1(C)CN', 'N#CC1CC2C(O)C2O1', 'CCCC1(C=O)NC1C', 'N#CC1CCC(CO)C1', 'C#CC1CCC(CO)C1', 'O=C1CC2CC=CC1C2', 'N#CC1CCC(N)CN1', 'C#CC1CCCC1.CO', 'C1=C2COCC2OON1', '*C1C2COC1(C#N)C2', 'C#CC(C)C12CC1CO2', 'C#CC12CC3CC1C3C2', 'C#CC12C3CCC1C2C3', 'CC12OCCC1CC2O', 'CCC(C)C(C)(C)C=O', 'COC12COC1CC2C', 'C#CCCC(CO)NC', 'CCC1CC(O)CC1O', 'C#CC12CCCC1CC2', '*.N#CCC1CCCN1', 'C#N.NC1C2COC1C2', 'O=C1CC2CCCC1C2', 'CCC1(C)CC2(C)CC12', 'OCCC1CCC2CC12', '*.N#CCC1CCCN1', 'CCN1C(C)C1(C)C=O', '*.CC1C(CN)C2OC12', 'CCC1(C)CCC12CC2', 'CC(O)C1CC(O)C1O', 'OC1COC2C1=CC2O', '*.CC1C2C(O)C13CC23', 'CC1OC2(C)C(O)CC12', 'CC1CCCOC2CC12', 'CCC1(C)CC(C)(C)C1', 'C#CC1CCC(CO)C1', 'C#CC12CCC1C21CC1', 'CC1CC=CCC(=O)O1', 'CC(O)C=O.CCCN', 'CC1CC2CC2(C=O)C1', 'CCC1(C)C(C)C2CC21', '*C1C2COC1(C#N)C2', 'C#CC1CCC(CO)C1', 'CCC1CC(O)CC1O', 'CC1=CC(C=O)CC1C', 'C#CC1CC2C(O)C2O1', 'C#CC12OC3CC1C3O2', 'CC(O)CNC(C)C#N', 'C#CC12CC3C(CC31)O2', 'CC(O)CNC(C)C#N', 'N#CC1CC2C(O)C2N1', '*.C#N.C1OC2CC1C2', 'C1=C2C3COC2N1OO3', '*.CC1CC(=O)C1CO', 'C1=C2C3CCC(C3)OC12', 'C1=C2C3CCC(C3)OC12', 'O=CNC1CCCNC1', 'CCCNC=O.CNF', 'C.CCC1CC2(C)CC12', 'C#CC12CCC1C2CC', 'C.CCC1C2CC23CC13', '*.CC1C2C(O)C13CC23', 'N#CC1CC2C(O)C2O1', 'C#CC1CCC(CO)C1', 'C#CC1CCC(CO)C1', 'C#CC1OC2C3C1C23O', 'CCC1C(C)C1(C)C#N', '*.CCC1C(C)C2CC12', 'CC1C2COC1NOO2', '*.CC1C(CO)C2OC12', 'CC1CCCC2C(=O)C12', '*.N#CCC1CCCN1', 'N#CC12CC3C(CC31)N2', 'N#CC1(CN)NCCO1', '*.CCCC(=O)CC#N', 'CCCC.O.OC1CN1', 'C1=C2C3COC2C1OO3', '*.CCC1C(C)C2CC12', 'CC1=CC2CC1NC2=O', 'C1OC2C3CC2C1OO3', 'C#CC1CC2CNC2O1', 'C.CC12CC3CC1C3C2', 'CCCN.NCCO.O', 'CC1CCC2(CCC2)C1', 'C.OCC(O)CC1CC1', 'CCC1CC(O)C1(C)O', 'C#CC1CC2C(O)C2O1', 'N.O=C1CC=NC=NF1', 'CC1CCCCC(=O)O1', 'OC1CC2CCOC2C1', 'C.N#CCC1CNCN1', 'C#CC(C)C12CC1CO2', 'CCO.CNC(C)C#N', 'CC1CC23CCC2C1C3', 'CC1OC2CC3OC13C2', '*.COC(CO)C1CC1', 'CC(CC=CN)NC=O', 'CC1CC=CCC(=O)C1', 'N#CC1CC2C(O)C2N1', 'C#CC12C3CC4C3C1C42', 'CC1CCC2C3OC1C23', 'C#CC(C)C1(C)COC1', 'CC1CCC1(C)OC=O', 'CC1CCCCC(=O)C1', 'CC1=CC2C(=O)C2C1N', 'CCC1OC2C1C21CC1', 'CC1OC2COCC12C', 'C.CC1CC2CCC2O1', 'NC1OC2COC3=CC312', 'C.CC1(O)C2OC13CC23', 'CC1CC=CCC(=O)N1', '*.OC12COC1C1=CC12', 'CC1CCCOC2C=C12', 'CC(C)CNC(C)C#N', 'C=C1C2COC1NOO2', 'N#CC1CC2C(O)C2O1', 'CCCCC(C)NC=O', 'CCC12COC1C21CC1', 'CC1CCC2C3OC1C23', 'C1OCC2COC3C1=C23', 'CCO.CNC(C)C#N', 'CC=CCC(C)NC=O', 'C#CC12CCC1C2CC', 'CC1C2C(O)CC13OC23', 'CCC1(C)C2CC23CC13', 'CC12CC3CC1OCC32', 'C#CC12CCC1C2CC', '*.CCC1C2CN3C1C23', 'C1=C2C3COC2C1OO3', 'C#CCCC1(CO)CN1', 'CC1CC2COC3CC123', '*.C#N.CC1CCCO1', 'CC12CC3CC14OC4C32', 'N#CC12NC(CO1)C2N', 'CCC1CC(O)C1(C)O', 'C.CC1(C#N)C2CCN21', 'CC1COCC1OON', '*.CC1(C)CCC1CO', 'CC(C#N)C12CC1CO2', 'C#CC1CC2C(O)C2O1', 'C1OC2C3CC2C1OO3', 'OC1CC2CC1C1CC21', 'N#CC1CCC(CO)C1', 'C1C2CC3C1OC1C2C31', 'N#CC1CC2COC1C2', '*.C#CC12CC3CC1C32', 'CC1C2CC(O)C1C2O', 'CC1C2OC3C2C32CC12', 'N#CC1CC2C(O)C2N1', 'CC12CC3CC1C(O)C32', '*CC1(C)C(C)C2CC21', 'C#CC12CC3C(C)C1C32', '*.COC(CO)C1=NC1', 'CC(O)C1=CC(O)C1O', 'C#CC12CC3C(CC31)O2', '*C1C2COC1(C#N)C2', 'CCC12CC3C1C3(C)C2', '*.CCC1C2CC3C1C23', 'CC12CC3CC1C(O)C32', 'CC1CC=CCC(=O)N1', 'CC1CCCOC2C=C12', 'C1CC2CC1OC1CC21', 'C#CC1CC2CNC2O1', 'CC1(OC=O)CCC1N', 'N#CC1CCC(CO)C1', 'CC(C)C(O)C1CC1C', 'N#CC1CC2COC1C2', 'C.CCC1(C)CC2CC21', 'C#CC1CC2C(O)C2O1', 'C1=C2C3COC2C1OO3', 'CC(O)C1COCC1C', 'N#CC12NC3C(CC31)O2', 'C.CCC1CC2(C)CC12', 'CC1C2COC1NOO2', 'C#CCOC1C(C)C1O', 'CCC1CC(O)CC1O', 'C1C2C3CC4(CC3O4)C12', '*.CC1CC(O)C1C#N', 'N#CC1CC2C(O)C2O1', '*C1C2COC1(C#N)C2', 'CC(C#N)N(C)C.CO', '*.CC1C(CO)C2CC12', 'CCC1CC2C(CO)N12', '*.CC1C(CO)C2OC12', 'OC1CC2CC1C1CC21', 'COC1(CO)CCC1C', 'C#CC1CC2C(N)C2O1', '*.CCC1C2CC3C1C23', '*OCCC1=NC1.CO', 'CCCC(=O)CC#N.N', '*.N#CCC1C=NCO1', 'C#CC12CC3C(C)C1C32', 'NC1=C2N=CC(CC1)O2', 'N#CC12CNC(=CO1)N2', 'OC1CC2CC1C1CC21', 'CC12CCC3(CCC13)C2', 'CC1CN(C(C)C#N)C1', 'CC(O)C12CC(O1)C2C', '*.CC1CC(=O)C1C#N', 'CC1CC2(CCO2)CO1', 'CC(C)C1OC2C(C)C12', 'CC1CCC1(C)OC=O', 'C#CC12CC3CC1C3C2', 'CCC12COC1C21CC1', 'CC=CC(C=O)CCN', 'NOOC1COC2=C=C21', 'CC(O)NC1(C)CNC1', 'CCC1(C)C(O)C12CC2', 'C.CC(O)C(O)C1CC1', 'C.CCC1OC2C(C)C12', 'CC1C2C(O)CC13OC23', 'CC1OC2(C)C(O)CC12', 'C#CC1CC2C(O)C2O1', 'CC1CCCC(C=O)C1', 'C1C2CC3C1OC1C2C31', 'CC1CCC2(CCC2)C1', 'C1CC23CC24C1CC4O3', 'CCOC1CCC1(C)O', 'C#CC1CC2C(O)C2O1', 'NOOC1COC2=C=C21', 'CCOC(C)C(C)C#N', 'N#CC1CC2C(O)C2C1', 'CC12CCC1CC(=O)O2', 'CC(C)CNC(C)C#N', '*.C#CC1C(C)C2CC12', 'C.CC1CC2OCC12O', 'C#CC12CC3C(CC31)O2', 'CCC1CCCC12CO2', 'C#CC1CCC(CO)C1', 'COCC1C=CCOC1', 'CC1C2C(O)CC13OC23', 'C1COCC2CC(C1)O2', 'CC(=O)C1NCC(=O)N1', 'C#CCOC1C2CC21O', 'N#CC1CCC(O)CN1', 'C1CC23CC4C5(CC425)C13', 'C1ONC2=C3C1COC23', '*.C#CC1C(C)CC1O', 'CC1C2CC23CC13C.O', 'C.CC12CCCC1CC2', 'C#CC1CC23COC12C3', 'CC1C2CNC1(C#N)C2', 'C=O.CC(C)C1CC1N']\n",
            "<class 'PIL.PngImagePlugin.PngImageFile'>\n"
          ]
        }
      ],
      "source": [
        "# Тут начинаются задания\n",
        "mols = samples(data, model, session, model.sample_z(n_samples), sample=True)\n",
        "mols  = [mol.GetMol() for mol in mols if mol is not None]\n",
        "smiles = [Chem.MolToSmiles(mol) for mol in mols]\n",
        "\n",
        "print(smiles)\n",
        "pic = mols2grid_image(mols[:6], 2)\n",
        "pic.show()\n",
        "print(type(pic))"
      ],
      "metadata": {
        "pycharm": {
          "name": "#%%\n"
        },
        "id": "x87EYa70O2lC",
        "colab": {
          "base_uri": "https://localhost:8080/"
        },
        "outputId": "849b0add-301a-40a4-f8a7-202b0fec35fd"
      }
    },
    {
      "cell_type": "markdown",
      "source": [
        "### Проверим активность к herg"
      ],
      "metadata": {
        "id": "O05yESE8LpRG"
      }
    },
    {
      "cell_type": "code",
      "source": [
        "from rdkit.Chem import MACCSkeys, AllChem, DataStructs\n",
        "from rdkit.Avalon.pyAvalonTools import GetAvalonFP\n",
        "from rdkit import Chem\n",
        "import joblib\n",
        "import pandas as pd\n",
        "\n",
        "filename = os.path.join(drive_main_path, 'herg_model.joblib.pkl')\n",
        "herg_model = joblib.load(filename)\n",
        "\n",
        "\n",
        "def mols_to_x(mols):\n",
        "  X = []\n",
        "  for i in range(len(mols)):\n",
        "    arr = np.zeros((1,), dtype=int)\n",
        "    descr = AllChem.GetHashedAtomPairFingerprint(mols[i])\n",
        "    DataStructs.ConvertToNumpyArray(descr, arr)\n",
        "    X.append(arr)\n",
        "  X = np.stack(X, axis=0)\n",
        "  return X"
      ],
      "metadata": {
        "id": "ifrPbCl7efn6"
      },
      "execution_count": null,
      "outputs": []
    },
    {
      "cell_type": "code",
      "source": [
        "activity = herg_model.predict(mols_to_x(mols))\n",
        "np.unique(activity)"
      ],
      "metadata": {
        "colab": {
          "base_uri": "https://localhost:8080/"
        },
        "id": "zhnRaytclXrl",
        "outputId": "8e2f1110-b200-4eff-caee-0bf770338e91"
      },
      "execution_count": null,
      "outputs": [
        {
          "output_type": "execute_result",
          "data": {
            "text/plain": [
              "array([0])"
            ]
          },
          "metadata": {},
          "execution_count": 9
        }
      ]
    },
    {
      "cell_type": "code",
      "source": [
        "activity = herg_model.predict_proba(mols_to_x(mols))\n",
        "df = pd.DataFrame(activity)\n",
        "activity_mols = df[df[1]>0.02]\n",
        "activity_mols"
      ],
      "metadata": {
        "colab": {
          "base_uri": "https://localhost:8080/",
          "height": 394
        },
        "id": "CJrt3EC6ln3S",
        "outputId": "4a990d24-55f9-49e7-f344-fa54bd233dbe"
      },
      "execution_count": null,
      "outputs": [
        {
          "output_type": "execute_result",
          "data": {
            "text/plain": [
              "          0      1\n",
              "63    0.970  0.030\n",
              "416   0.978  0.022\n",
              "1308  0.976  0.024\n",
              "1333  0.976  0.024\n",
              "1636  0.970  0.030\n",
              "2285  0.966  0.034\n",
              "2328  0.968  0.032\n",
              "2408  0.970  0.030\n",
              "3044  0.966  0.034\n",
              "3132  0.970  0.030\n",
              "3395  0.978  0.022"
            ],
            "text/html": [
              "\n",
              "  <div id=\"df-9e0f8eb6-4959-46cd-9cbc-2b4d6ba5f0a1\">\n",
              "    <div class=\"colab-df-container\">\n",
              "      <div>\n",
              "<style scoped>\n",
              "    .dataframe tbody tr th:only-of-type {\n",
              "        vertical-align: middle;\n",
              "    }\n",
              "\n",
              "    .dataframe tbody tr th {\n",
              "        vertical-align: top;\n",
              "    }\n",
              "\n",
              "    .dataframe thead th {\n",
              "        text-align: right;\n",
              "    }\n",
              "</style>\n",
              "<table border=\"1\" class=\"dataframe\">\n",
              "  <thead>\n",
              "    <tr style=\"text-align: right;\">\n",
              "      <th></th>\n",
              "      <th>0</th>\n",
              "      <th>1</th>\n",
              "    </tr>\n",
              "  </thead>\n",
              "  <tbody>\n",
              "    <tr>\n",
              "      <th>63</th>\n",
              "      <td>0.970</td>\n",
              "      <td>0.030</td>\n",
              "    </tr>\n",
              "    <tr>\n",
              "      <th>416</th>\n",
              "      <td>0.978</td>\n",
              "      <td>0.022</td>\n",
              "    </tr>\n",
              "    <tr>\n",
              "      <th>1308</th>\n",
              "      <td>0.976</td>\n",
              "      <td>0.024</td>\n",
              "    </tr>\n",
              "    <tr>\n",
              "      <th>1333</th>\n",
              "      <td>0.976</td>\n",
              "      <td>0.024</td>\n",
              "    </tr>\n",
              "    <tr>\n",
              "      <th>1636</th>\n",
              "      <td>0.970</td>\n",
              "      <td>0.030</td>\n",
              "    </tr>\n",
              "    <tr>\n",
              "      <th>2285</th>\n",
              "      <td>0.966</td>\n",
              "      <td>0.034</td>\n",
              "    </tr>\n",
              "    <tr>\n",
              "      <th>2328</th>\n",
              "      <td>0.968</td>\n",
              "      <td>0.032</td>\n",
              "    </tr>\n",
              "    <tr>\n",
              "      <th>2408</th>\n",
              "      <td>0.970</td>\n",
              "      <td>0.030</td>\n",
              "    </tr>\n",
              "    <tr>\n",
              "      <th>3044</th>\n",
              "      <td>0.966</td>\n",
              "      <td>0.034</td>\n",
              "    </tr>\n",
              "    <tr>\n",
              "      <th>3132</th>\n",
              "      <td>0.970</td>\n",
              "      <td>0.030</td>\n",
              "    </tr>\n",
              "    <tr>\n",
              "      <th>3395</th>\n",
              "      <td>0.978</td>\n",
              "      <td>0.022</td>\n",
              "    </tr>\n",
              "  </tbody>\n",
              "</table>\n",
              "</div>\n",
              "      <button class=\"colab-df-convert\" onclick=\"convertToInteractive('df-9e0f8eb6-4959-46cd-9cbc-2b4d6ba5f0a1')\"\n",
              "              title=\"Convert this dataframe to an interactive table.\"\n",
              "              style=\"display:none;\">\n",
              "        \n",
              "  <svg xmlns=\"http://www.w3.org/2000/svg\" height=\"24px\"viewBox=\"0 0 24 24\"\n",
              "       width=\"24px\">\n",
              "    <path d=\"M0 0h24v24H0V0z\" fill=\"none\"/>\n",
              "    <path d=\"M18.56 5.44l.94 2.06.94-2.06 2.06-.94-2.06-.94-.94-2.06-.94 2.06-2.06.94zm-11 1L8.5 8.5l.94-2.06 2.06-.94-2.06-.94L8.5 2.5l-.94 2.06-2.06.94zm10 10l.94 2.06.94-2.06 2.06-.94-2.06-.94-.94-2.06-.94 2.06-2.06.94z\"/><path d=\"M17.41 7.96l-1.37-1.37c-.4-.4-.92-.59-1.43-.59-.52 0-1.04.2-1.43.59L10.3 9.45l-7.72 7.72c-.78.78-.78 2.05 0 2.83L4 21.41c.39.39.9.59 1.41.59.51 0 1.02-.2 1.41-.59l7.78-7.78 2.81-2.81c.8-.78.8-2.07 0-2.86zM5.41 20L4 18.59l7.72-7.72 1.47 1.35L5.41 20z\"/>\n",
              "  </svg>\n",
              "      </button>\n",
              "      \n",
              "  <style>\n",
              "    .colab-df-container {\n",
              "      display:flex;\n",
              "      flex-wrap:wrap;\n",
              "      gap: 12px;\n",
              "    }\n",
              "\n",
              "    .colab-df-convert {\n",
              "      background-color: #E8F0FE;\n",
              "      border: none;\n",
              "      border-radius: 50%;\n",
              "      cursor: pointer;\n",
              "      display: none;\n",
              "      fill: #1967D2;\n",
              "      height: 32px;\n",
              "      padding: 0 0 0 0;\n",
              "      width: 32px;\n",
              "    }\n",
              "\n",
              "    .colab-df-convert:hover {\n",
              "      background-color: #E2EBFA;\n",
              "      box-shadow: 0px 1px 2px rgba(60, 64, 67, 0.3), 0px 1px 3px 1px rgba(60, 64, 67, 0.15);\n",
              "      fill: #174EA6;\n",
              "    }\n",
              "\n",
              "    [theme=dark] .colab-df-convert {\n",
              "      background-color: #3B4455;\n",
              "      fill: #D2E3FC;\n",
              "    }\n",
              "\n",
              "    [theme=dark] .colab-df-convert:hover {\n",
              "      background-color: #434B5C;\n",
              "      box-shadow: 0px 1px 3px 1px rgba(0, 0, 0, 0.15);\n",
              "      filter: drop-shadow(0px 1px 2px rgba(0, 0, 0, 0.3));\n",
              "      fill: #FFFFFF;\n",
              "    }\n",
              "  </style>\n",
              "\n",
              "      <script>\n",
              "        const buttonEl =\n",
              "          document.querySelector('#df-9e0f8eb6-4959-46cd-9cbc-2b4d6ba5f0a1 button.colab-df-convert');\n",
              "        buttonEl.style.display =\n",
              "          google.colab.kernel.accessAllowed ? 'block' : 'none';\n",
              "\n",
              "        async function convertToInteractive(key) {\n",
              "          const element = document.querySelector('#df-9e0f8eb6-4959-46cd-9cbc-2b4d6ba5f0a1');\n",
              "          const dataTable =\n",
              "            await google.colab.kernel.invokeFunction('convertToInteractive',\n",
              "                                                     [key], {});\n",
              "          if (!dataTable) return;\n",
              "\n",
              "          const docLinkHtml = 'Like what you see? Visit the ' +\n",
              "            '<a target=\"_blank\" href=https://colab.research.google.com/notebooks/data_table.ipynb>data table notebook</a>'\n",
              "            + ' to learn more about interactive tables.';\n",
              "          element.innerHTML = '';\n",
              "          dataTable['output_type'] = 'display_data';\n",
              "          await google.colab.output.renderOutput(dataTable, element);\n",
              "          const docLink = document.createElement('div');\n",
              "          docLink.innerHTML = docLinkHtml;\n",
              "          element.appendChild(docLink);\n",
              "        }\n",
              "      </script>\n",
              "    </div>\n",
              "  </div>\n",
              "  "
            ]
          },
          "metadata": {},
          "execution_count": 10
        }
      ]
    },
    {
      "cell_type": "code",
      "source": [
        "len(activity_mols)"
      ],
      "metadata": {
        "colab": {
          "base_uri": "https://localhost:8080/"
        },
        "id": "WI_fZZ4EuJnr",
        "outputId": "d777c27a-da7b-485e-f8d0-d7faa2cb31ff"
      },
      "execution_count": null,
      "outputs": [
        {
          "output_type": "execute_result",
          "data": {
            "text/plain": [
              "11"
            ]
          },
          "metadata": {},
          "execution_count": 20
        }
      ]
    },
    {
      "cell_type": "code",
      "source": [
        "activ_mols_lst = list(activity_mols.index)\n",
        "activ_mols_lst"
      ],
      "metadata": {
        "colab": {
          "base_uri": "https://localhost:8080/"
        },
        "id": "XIDIEWFiOFem",
        "outputId": "a884a5a8-6bff-473a-ed87-c7e2d53e6436"
      },
      "execution_count": null,
      "outputs": [
        {
          "output_type": "execute_result",
          "data": {
            "text/plain": [
              "[63, 416, 1308, 1333, 1636, 2285, 2328, 2408, 3044, 3132, 3395]"
            ]
          },
          "metadata": {},
          "execution_count": 11
        }
      ]
    },
    {
      "cell_type": "markdown",
      "source": [
        "### Проверим LogP(mol)\n",
        "\n",
        "Все примеры сгенерированных молекул"
      ],
      "metadata": {
        "id": "rXBHcumpLt-E"
      }
    },
    {
      "cell_type": "code",
      "source": [
        "from utils.molecular_metrics import MolecularMetrics\n",
        "from rdkit import RDLogger\n",
        "from rdkit.Chem import Crippen\n",
        "\n",
        "def water_octanol_partition_coefficient_scores(mols, norm=False):\n",
        "    scores = [MolecularMetrics._avoid_sanitization_error(lambda: Crippen.MolLogP(mol)) if mol is not None else None for mol in mols]\n",
        "    scores = np.array(list(map(lambda x: -3 if x is None else x, scores)))  # заменяем на -3 если None\n",
        "\n",
        "    scores = [1 if -0.4 <= x <=5.6 else 0 for x in scores]\n",
        "    # print(scores)\n",
        "\n",
        "    return np.array(scores)"
      ],
      "metadata": {
        "id": "5zRrgMT1L2Jv"
      },
      "execution_count": null,
      "outputs": []
    },
    {
      "cell_type": "code",
      "source": [
        "df_logP = pd.DataFrame(water_octanol_partition_coefficient_scores(mols, norm=False))\n",
        "df_logP.shape[0]"
      ],
      "metadata": {
        "colab": {
          "base_uri": "https://localhost:8080/"
        },
        "id": "secd6IhSMe3b",
        "outputId": "c991b9f5-4798-44f5-d388-e827730d98a0"
      },
      "execution_count": null,
      "outputs": [
        {
          "output_type": "execute_result",
          "data": {
            "text/plain": [
              "3738"
            ]
          },
          "metadata": {},
          "execution_count": 13
        }
      ]
    },
    {
      "cell_type": "code",
      "source": [
        "df_logP.value_counts()"
      ],
      "metadata": {
        "colab": {
          "base_uri": "https://localhost:8080/"
        },
        "id": "7D92w1P5NxMc",
        "outputId": "d3c0eaf2-d31b-4c90-b59a-e79cb13b2615"
      },
      "execution_count": null,
      "outputs": [
        {
          "output_type": "execute_result",
          "data": {
            "text/plain": [
              "1    3360\n",
              "0     378\n",
              "dtype: int64"
            ]
          },
          "metadata": {},
          "execution_count": 14
        }
      ]
    },
    {
      "cell_type": "code",
      "source": [
        "df_logP.value_counts() / df_logP.shape[0]"
      ],
      "metadata": {
        "colab": {
          "base_uri": "https://localhost:8080/"
        },
        "id": "FWxS_gOPNMrP",
        "outputId": "3173d1d0-5975-4320-c63a-90cd347d28df"
      },
      "execution_count": null,
      "outputs": [
        {
          "output_type": "execute_result",
          "data": {
            "text/plain": [
              "1    0.898876\n",
              "0    0.101124\n",
              "dtype: float64"
            ]
          },
          "metadata": {},
          "execution_count": 15
        }
      ]
    },
    {
      "cell_type": "markdown",
      "source": [
        "Молекулы, для которых вероятность активности больше двух процентов"
      ],
      "metadata": {
        "id": "64ClyipnN7oI"
      }
    },
    {
      "cell_type": "code",
      "source": [
        "activ_mols = []\n",
        "activ_mols = [mols[k] for k in activ_mols_lst]\n",
        "df_logP_activ = pd.DataFrame(water_octanol_partition_coefficient_scores(activ_mols, norm=False))\n",
        "df_logP_activ['mol_index'] = activ_mols_lst\n",
        "df_logP_activ"
      ],
      "metadata": {
        "id": "u0J4s7mtOCWK",
        "colab": {
          "base_uri": "https://localhost:8080/",
          "height": 394
        },
        "outputId": "9376c2e6-6d47-4ebd-f451-87590b8a129e"
      },
      "execution_count": null,
      "outputs": [
        {
          "output_type": "execute_result",
          "data": {
            "text/plain": [
              "    0  mol_index\n",
              "0   1         63\n",
              "1   1        416\n",
              "2   1       1308\n",
              "3   1       1333\n",
              "4   1       1636\n",
              "5   0       2285\n",
              "6   0       2328\n",
              "7   1       2408\n",
              "8   0       3044\n",
              "9   1       3132\n",
              "10  1       3395"
            ],
            "text/html": [
              "\n",
              "  <div id=\"df-256ff30f-a5a6-4cdb-8c90-5ee99141d2cd\">\n",
              "    <div class=\"colab-df-container\">\n",
              "      <div>\n",
              "<style scoped>\n",
              "    .dataframe tbody tr th:only-of-type {\n",
              "        vertical-align: middle;\n",
              "    }\n",
              "\n",
              "    .dataframe tbody tr th {\n",
              "        vertical-align: top;\n",
              "    }\n",
              "\n",
              "    .dataframe thead th {\n",
              "        text-align: right;\n",
              "    }\n",
              "</style>\n",
              "<table border=\"1\" class=\"dataframe\">\n",
              "  <thead>\n",
              "    <tr style=\"text-align: right;\">\n",
              "      <th></th>\n",
              "      <th>0</th>\n",
              "      <th>mol_index</th>\n",
              "    </tr>\n",
              "  </thead>\n",
              "  <tbody>\n",
              "    <tr>\n",
              "      <th>0</th>\n",
              "      <td>1</td>\n",
              "      <td>63</td>\n",
              "    </tr>\n",
              "    <tr>\n",
              "      <th>1</th>\n",
              "      <td>1</td>\n",
              "      <td>416</td>\n",
              "    </tr>\n",
              "    <tr>\n",
              "      <th>2</th>\n",
              "      <td>1</td>\n",
              "      <td>1308</td>\n",
              "    </tr>\n",
              "    <tr>\n",
              "      <th>3</th>\n",
              "      <td>1</td>\n",
              "      <td>1333</td>\n",
              "    </tr>\n",
              "    <tr>\n",
              "      <th>4</th>\n",
              "      <td>1</td>\n",
              "      <td>1636</td>\n",
              "    </tr>\n",
              "    <tr>\n",
              "      <th>5</th>\n",
              "      <td>0</td>\n",
              "      <td>2285</td>\n",
              "    </tr>\n",
              "    <tr>\n",
              "      <th>6</th>\n",
              "      <td>0</td>\n",
              "      <td>2328</td>\n",
              "    </tr>\n",
              "    <tr>\n",
              "      <th>7</th>\n",
              "      <td>1</td>\n",
              "      <td>2408</td>\n",
              "    </tr>\n",
              "    <tr>\n",
              "      <th>8</th>\n",
              "      <td>0</td>\n",
              "      <td>3044</td>\n",
              "    </tr>\n",
              "    <tr>\n",
              "      <th>9</th>\n",
              "      <td>1</td>\n",
              "      <td>3132</td>\n",
              "    </tr>\n",
              "    <tr>\n",
              "      <th>10</th>\n",
              "      <td>1</td>\n",
              "      <td>3395</td>\n",
              "    </tr>\n",
              "  </tbody>\n",
              "</table>\n",
              "</div>\n",
              "      <button class=\"colab-df-convert\" onclick=\"convertToInteractive('df-256ff30f-a5a6-4cdb-8c90-5ee99141d2cd')\"\n",
              "              title=\"Convert this dataframe to an interactive table.\"\n",
              "              style=\"display:none;\">\n",
              "        \n",
              "  <svg xmlns=\"http://www.w3.org/2000/svg\" height=\"24px\"viewBox=\"0 0 24 24\"\n",
              "       width=\"24px\">\n",
              "    <path d=\"M0 0h24v24H0V0z\" fill=\"none\"/>\n",
              "    <path d=\"M18.56 5.44l.94 2.06.94-2.06 2.06-.94-2.06-.94-.94-2.06-.94 2.06-2.06.94zm-11 1L8.5 8.5l.94-2.06 2.06-.94-2.06-.94L8.5 2.5l-.94 2.06-2.06.94zm10 10l.94 2.06.94-2.06 2.06-.94-2.06-.94-.94-2.06-.94 2.06-2.06.94z\"/><path d=\"M17.41 7.96l-1.37-1.37c-.4-.4-.92-.59-1.43-.59-.52 0-1.04.2-1.43.59L10.3 9.45l-7.72 7.72c-.78.78-.78 2.05 0 2.83L4 21.41c.39.39.9.59 1.41.59.51 0 1.02-.2 1.41-.59l7.78-7.78 2.81-2.81c.8-.78.8-2.07 0-2.86zM5.41 20L4 18.59l7.72-7.72 1.47 1.35L5.41 20z\"/>\n",
              "  </svg>\n",
              "      </button>\n",
              "      \n",
              "  <style>\n",
              "    .colab-df-container {\n",
              "      display:flex;\n",
              "      flex-wrap:wrap;\n",
              "      gap: 12px;\n",
              "    }\n",
              "\n",
              "    .colab-df-convert {\n",
              "      background-color: #E8F0FE;\n",
              "      border: none;\n",
              "      border-radius: 50%;\n",
              "      cursor: pointer;\n",
              "      display: none;\n",
              "      fill: #1967D2;\n",
              "      height: 32px;\n",
              "      padding: 0 0 0 0;\n",
              "      width: 32px;\n",
              "    }\n",
              "\n",
              "    .colab-df-convert:hover {\n",
              "      background-color: #E2EBFA;\n",
              "      box-shadow: 0px 1px 2px rgba(60, 64, 67, 0.3), 0px 1px 3px 1px rgba(60, 64, 67, 0.15);\n",
              "      fill: #174EA6;\n",
              "    }\n",
              "\n",
              "    [theme=dark] .colab-df-convert {\n",
              "      background-color: #3B4455;\n",
              "      fill: #D2E3FC;\n",
              "    }\n",
              "\n",
              "    [theme=dark] .colab-df-convert:hover {\n",
              "      background-color: #434B5C;\n",
              "      box-shadow: 0px 1px 3px 1px rgba(0, 0, 0, 0.15);\n",
              "      filter: drop-shadow(0px 1px 2px rgba(0, 0, 0, 0.3));\n",
              "      fill: #FFFFFF;\n",
              "    }\n",
              "  </style>\n",
              "\n",
              "      <script>\n",
              "        const buttonEl =\n",
              "          document.querySelector('#df-256ff30f-a5a6-4cdb-8c90-5ee99141d2cd button.colab-df-convert');\n",
              "        buttonEl.style.display =\n",
              "          google.colab.kernel.accessAllowed ? 'block' : 'none';\n",
              "\n",
              "        async function convertToInteractive(key) {\n",
              "          const element = document.querySelector('#df-256ff30f-a5a6-4cdb-8c90-5ee99141d2cd');\n",
              "          const dataTable =\n",
              "            await google.colab.kernel.invokeFunction('convertToInteractive',\n",
              "                                                     [key], {});\n",
              "          if (!dataTable) return;\n",
              "\n",
              "          const docLinkHtml = 'Like what you see? Visit the ' +\n",
              "            '<a target=\"_blank\" href=https://colab.research.google.com/notebooks/data_table.ipynb>data table notebook</a>'\n",
              "            + ' to learn more about interactive tables.';\n",
              "          element.innerHTML = '';\n",
              "          dataTable['output_type'] = 'display_data';\n",
              "          await google.colab.output.renderOutput(dataTable, element);\n",
              "          const docLink = document.createElement('div');\n",
              "          docLink.innerHTML = docLinkHtml;\n",
              "          element.appendChild(docLink);\n",
              "        }\n",
              "      </script>\n",
              "    </div>\n",
              "  </div>\n",
              "  "
            ]
          },
          "metadata": {},
          "execution_count": 16
        }
      ]
    },
    {
      "cell_type": "code",
      "source": [
        "len(df_logP_activ[df_logP_activ[0] == 1])"
      ],
      "metadata": {
        "colab": {
          "base_uri": "https://localhost:8080/"
        },
        "id": "iQNUd754vEQB",
        "outputId": "68169f43-9580-481d-a60c-edbde94ba72c"
      },
      "execution_count": null,
      "outputs": [
        {
          "output_type": "execute_result",
          "data": {
            "text/plain": [
              "8"
            ]
          },
          "metadata": {},
          "execution_count": 21
        }
      ]
    },
    {
      "cell_type": "code",
      "source": [
        "idx = df_logP_activ[df_logP_activ[0] == 1]['mol_index'].values\n",
        "result_mols = [mols[k] for k in idx]"
      ],
      "metadata": {
        "id": "ZuMx5ENK7ESz"
      },
      "execution_count": null,
      "outputs": []
    },
    {
      "cell_type": "code",
      "source": [
        "from rdkit.Chem.Draw import IPythonConsole\n",
        "from rdkit.Chem import Draw\n",
        "IPythonConsole.ipython_useSVG=True\n"
      ],
      "metadata": {
        "id": "0gVFM4WY8jxv"
      },
      "execution_count": null,
      "outputs": []
    },
    {
      "cell_type": "code",
      "source": [
        "Draw.MolsToGridImage(result_mols)"
      ],
      "metadata": {
        "id": "mSjjR6Vs-YwB",
        "outputId": "6f4861d0-2c63-4ce7-bcd1-ba6605ff9393",
        "colab": {
          "base_uri": "https://localhost:8080/",
          "height": 622
        }
      },
      "execution_count": null,
      "outputs": [
        {
          "output_type": "execute_result",
          "data": {
            "text/plain": [
              "<IPython.core.display.SVG object>"
            ],
            "image/svg+xml": "<svg baseProfile=\"full\" height=\"600px\" version=\"1.1\" viewBox=\"0 0 600 600\" width=\"600px\" xml:space=\"preserve\" xmlns=\"http://www.w3.org/2000/svg\" xmlns:rdkit=\"http://www.rdkit.org/xml\" xmlns:xlink=\"http://www.w3.org/1999/xlink\">\n<!-- END OF HEADER -->\n<rect height=\"600.0\" style=\"opacity:1.0;fill:#FFFFFF;stroke:none\" width=\"600.0\" x=\"0.0\" y=\"0.0\"> </rect>\n<path class=\"bond-0 atom-4 atom-1\" d=\"M 159.8,76.0 L 158.8,63.8\" style=\"fill:none;fill-rule:evenodd;stroke:#0000FF;stroke-width:2.0px;stroke-linecap:butt;stroke-linejoin:miter;stroke-opacity:1\"/>\n<path class=\"bond-0 atom-4 atom-1\" d=\"M 158.8,63.8 L 157.9,51.7\" style=\"fill:none;fill-rule:evenodd;stroke:#000000;stroke-width:2.0px;stroke-linecap:butt;stroke-linejoin:miter;stroke-opacity:1\"/>\n<path class=\"bond-1 atom-5 atom-0\" d=\"M 139.8,129.7 L 130.1,136.4\" style=\"fill:none;fill-rule:evenodd;stroke:#000000;stroke-width:2.0px;stroke-linecap:butt;stroke-linejoin:miter;stroke-opacity:1\"/>\n<path class=\"bond-1 atom-5 atom-0\" d=\"M 130.1,136.4 L 120.3,143.1\" style=\"fill:none;fill-rule:evenodd;stroke:#FF0000;stroke-width:2.0px;stroke-linecap:butt;stroke-linejoin:miter;stroke-opacity:1\"/>\n<path class=\"bond-1 atom-5 atom-0\" d=\"M 136.5,124.8 L 126.7,131.5\" style=\"fill:none;fill-rule:evenodd;stroke:#000000;stroke-width:2.0px;stroke-linecap:butt;stroke-linejoin:miter;stroke-opacity:1\"/>\n<path class=\"bond-1 atom-5 atom-0\" d=\"M 126.7,131.5 L 117.0,138.2\" style=\"fill:none;fill-rule:evenodd;stroke:#FF0000;stroke-width:2.0px;stroke-linecap:butt;stroke-linejoin:miter;stroke-opacity:1\"/>\n<path class=\"bond-2 atom-6 atom-4\" d=\"M 135.9,97.8 L 145.9,90.9\" style=\"fill:none;fill-rule:evenodd;stroke:#000000;stroke-width:2.0px;stroke-linecap:butt;stroke-linejoin:miter;stroke-opacity:1\"/>\n<path class=\"bond-2 atom-6 atom-4\" d=\"M 145.9,90.9 L 156.0,84.0\" style=\"fill:none;fill-rule:evenodd;stroke:#0000FF;stroke-width:2.0px;stroke-linecap:butt;stroke-linejoin:miter;stroke-opacity:1\"/>\n<path class=\"bond-3 atom-6 atom-5\" d=\"M 135.9,97.8 L 138.2,127.2\" style=\"fill:none;fill-rule:evenodd;stroke:#000000;stroke-width:2.0px;stroke-linecap:butt;stroke-linejoin:miter;stroke-opacity:1\"/>\n<path class=\"bond-4 atom-7 atom-3\" d=\"M 109.2,85.1 L 84.9,101.8\" style=\"fill:none;fill-rule:evenodd;stroke:#000000;stroke-width:2.0px;stroke-linecap:butt;stroke-linejoin:miter;stroke-opacity:1\"/>\n<path class=\"bond-5 atom-7 atom-6\" d=\"M 109.2,85.1 L 135.9,97.8\" style=\"fill:none;fill-rule:evenodd;stroke:#000000;stroke-width:2.0px;stroke-linecap:butt;stroke-linejoin:miter;stroke-opacity:1\"/>\n<path class=\"bond-6 atom-8 atom-2\" d=\"M 58.3,89.1 L 31.7,76.4\" style=\"fill:none;fill-rule:evenodd;stroke:#000000;stroke-width:2.0px;stroke-linecap:butt;stroke-linejoin:miter;stroke-opacity:1\"/>\n<path class=\"bond-6 atom-8 atom-2\" d=\"M 51.8,92.5 L 29.1,81.7\" style=\"fill:none;fill-rule:evenodd;stroke:#000000;stroke-width:2.0px;stroke-linecap:butt;stroke-linejoin:miter;stroke-opacity:1\"/>\n<path class=\"bond-6 atom-8 atom-2\" d=\"M 56.8,81.9 L 34.2,71.1\" style=\"fill:none;fill-rule:evenodd;stroke:#000000;stroke-width:2.0px;stroke-linecap:butt;stroke-linejoin:miter;stroke-opacity:1\"/>\n<path class=\"bond-7 atom-8 atom-3\" d=\"M 58.3,89.1 L 84.9,101.8\" style=\"fill:none;fill-rule:evenodd;stroke:#000000;stroke-width:2.0px;stroke-linecap:butt;stroke-linejoin:miter;stroke-opacity:1\"/>\n<path class=\"atom-0\" d=\"M 110.0 144.0 Q 110.0 141.9, 111.0 140.8 Q 112.0 139.7, 113.8 139.7 Q 115.7 139.7, 116.7 140.8 Q 117.7 141.9, 117.7 144.0 Q 117.7 146.0, 116.7 147.1 Q 115.7 148.3, 113.8 148.3 Q 112.0 148.3, 111.0 147.1 Q 110.0 146.0, 110.0 144.0 M 113.8 147.3 Q 115.1 147.3, 115.8 146.5 Q 116.5 145.6, 116.5 144.0 Q 116.5 142.3, 115.8 141.5 Q 115.1 140.7, 113.8 140.7 Q 112.6 140.7, 111.9 141.5 Q 111.2 142.3, 111.2 144.0 Q 111.2 145.6, 111.9 146.5 Q 112.6 147.3, 113.8 147.3 \" fill=\"#FF0000\"/>\n<path class=\"atom-4\" d=\"M 158.3 76.9 L 161.1 81.4 Q 161.3 81.8, 161.8 82.6 Q 162.2 83.4, 162.2 83.4 L 162.2 76.9 L 163.3 76.9 L 163.3 85.3 L 162.2 85.3 L 159.3 80.5 Q 158.9 79.9, 158.6 79.2 Q 158.2 78.6, 158.1 78.4 L 158.1 85.3 L 157.0 85.3 L 157.0 76.9 L 158.3 76.9 \" fill=\"#0000FF\"/>\n<path class=\"atom-4\" d=\"M 164.3 76.9 L 165.5 76.9 L 165.5 80.5 L 169.7 80.5 L 169.7 76.9 L 170.9 76.9 L 170.9 85.3 L 169.7 85.3 L 169.7 81.4 L 165.5 81.4 L 165.5 85.3 L 164.3 85.3 L 164.3 76.9 \" fill=\"#0000FF\"/>\n<path class=\"bond-0 atom-1 atom-0\" d=\"M 229.8,90.6 L 219.4,83.9\" style=\"fill:none;fill-rule:evenodd;stroke:#0000FF;stroke-width:2.0px;stroke-linecap:butt;stroke-linejoin:miter;stroke-opacity:1\"/>\n<path class=\"bond-0 atom-1 atom-0\" d=\"M 219.4,83.9 L 209.1,77.3\" style=\"fill:none;fill-rule:evenodd;stroke:#000000;stroke-width:2.0px;stroke-linecap:butt;stroke-linejoin:miter;stroke-opacity:1\"/>\n<path class=\"bond-1 atom-3 atom-1\" d=\"M 260.1,79.6 L 249.1,85.4\" style=\"fill:none;fill-rule:evenodd;stroke:#000000;stroke-width:2.0px;stroke-linecap:butt;stroke-linejoin:miter;stroke-opacity:1\"/>\n<path class=\"bond-1 atom-3 atom-1\" d=\"M 249.1,85.4 L 238.1,91.1\" style=\"fill:none;fill-rule:evenodd;stroke:#0000FF;stroke-width:2.0px;stroke-linecap:butt;stroke-linejoin:miter;stroke-opacity:1\"/>\n<path class=\"bond-2 atom-4 atom-1\" d=\"M 232.6,122.7 L 233.2,110.5\" style=\"fill:none;fill-rule:evenodd;stroke:#000000;stroke-width:2.0px;stroke-linecap:butt;stroke-linejoin:miter;stroke-opacity:1\"/>\n<path class=\"bond-2 atom-4 atom-1\" d=\"M 233.2,110.5 L 233.7,98.4\" style=\"fill:none;fill-rule:evenodd;stroke:#0000FF;stroke-width:2.0px;stroke-linecap:butt;stroke-linejoin:miter;stroke-opacity:1\"/>\n<path class=\"bond-3 atom-6 atom-2\" d=\"M 362.2,84.3 L 351.2,90.0\" style=\"fill:none;fill-rule:evenodd;stroke:#000000;stroke-width:2.0px;stroke-linecap:butt;stroke-linejoin:miter;stroke-opacity:1\"/>\n<path class=\"bond-3 atom-6 atom-2\" d=\"M 351.2,90.0 L 340.2,95.7\" style=\"fill:none;fill-rule:evenodd;stroke:#0000FF;stroke-width:2.0px;stroke-linecap:butt;stroke-linejoin:miter;stroke-opacity:1\"/>\n<path class=\"bond-4 atom-6 atom-5\" d=\"M 363.8,81.8 L 373.8,88.2\" style=\"fill:none;fill-rule:evenodd;stroke:#000000;stroke-width:2.0px;stroke-linecap:butt;stroke-linejoin:miter;stroke-opacity:1\"/>\n<path class=\"bond-4 atom-6 atom-5\" d=\"M 373.8,88.2 L 383.9,94.6\" style=\"fill:none;fill-rule:evenodd;stroke:#FF0000;stroke-width:2.0px;stroke-linecap:butt;stroke-linejoin:miter;stroke-opacity:1\"/>\n<path class=\"bond-4 atom-6 atom-5\" d=\"M 360.6,86.8 L 370.7,93.2\" style=\"fill:none;fill-rule:evenodd;stroke:#000000;stroke-width:2.0px;stroke-linecap:butt;stroke-linejoin:miter;stroke-opacity:1\"/>\n<path class=\"bond-4 atom-6 atom-5\" d=\"M 370.7,93.2 L 380.7,99.6\" style=\"fill:none;fill-rule:evenodd;stroke:#FF0000;stroke-width:2.0px;stroke-linecap:butt;stroke-linejoin:miter;stroke-opacity:1\"/>\n<path class=\"bond-5 atom-7 atom-3\" d=\"M 285.0,95.5 L 260.1,79.6\" style=\"fill:none;fill-rule:evenodd;stroke:#000000;stroke-width:2.0px;stroke-linecap:butt;stroke-linejoin:miter;stroke-opacity:1\"/>\n<path class=\"bond-6 atom-8 atom-2\" d=\"M 311.2,82.0 L 321.5,88.6\" style=\"fill:none;fill-rule:evenodd;stroke:#000000;stroke-width:2.0px;stroke-linecap:butt;stroke-linejoin:miter;stroke-opacity:1\"/>\n<path class=\"bond-6 atom-8 atom-2\" d=\"M 321.5,88.6 L 331.9,95.2\" style=\"fill:none;fill-rule:evenodd;stroke:#0000FF;stroke-width:2.0px;stroke-linecap:butt;stroke-linejoin:miter;stroke-opacity:1\"/>\n<path class=\"bond-7 atom-8 atom-7\" d=\"M 311.2,82.0 L 285.0,95.5\" style=\"fill:none;fill-rule:evenodd;stroke:#000000;stroke-width:2.0px;stroke-linecap:butt;stroke-linejoin:miter;stroke-opacity:1\"/>\n<path class=\"atom-1\" d=\"M 232.1 89.0 L 234.8 93.5 Q 235.1 93.9, 235.5 94.7 Q 236.0 95.5, 236.0 95.5 L 236.0 89.0 L 237.1 89.0 L 237.1 97.4 L 236.0 97.4 L 233.0 92.6 Q 232.7 92.0, 232.3 91.3 Q 232.0 90.7, 231.9 90.5 L 231.9 97.4 L 230.8 97.4 L 230.8 89.0 L 232.1 89.0 \" fill=\"#0000FF\"/>\n<path class=\"atom-2\" d=\"M 334.2 93.7 L 336.9 98.1 Q 337.2 98.5, 337.6 99.3 Q 338.1 100.1, 338.1 100.2 L 338.1 93.7 L 339.2 93.7 L 339.2 102.0 L 338.1 102.0 L 335.1 97.2 Q 334.8 96.6, 334.4 96.0 Q 334.1 95.3, 333.9 95.1 L 333.9 102.0 L 332.9 102.0 L 332.9 93.7 L 334.2 93.7 \" fill=\"#0000FF\"/>\n<path class=\"atom-2\" d=\"M 332.8 102.9 L 333.9 102.9 L 333.9 106.4 L 338.2 106.4 L 338.2 102.9 L 339.3 102.9 L 339.3 111.2 L 338.2 111.2 L 338.2 107.4 L 333.9 107.4 L 333.9 111.2 L 332.8 111.2 L 332.8 102.9 \" fill=\"#0000FF\"/>\n<path class=\"atom-5\" d=\"M 383.2 100.2 Q 383.2 98.2, 384.2 97.1 Q 385.2 96.0, 387.1 96.0 Q 388.9 96.0, 389.9 97.1 Q 390.9 98.2, 390.9 100.2 Q 390.9 102.2, 389.9 103.4 Q 388.9 104.5, 387.1 104.5 Q 385.2 104.5, 384.2 103.4 Q 383.2 102.2, 383.2 100.2 M 387.1 103.6 Q 388.3 103.6, 389.0 102.7 Q 389.7 101.9, 389.7 100.2 Q 389.7 98.6, 389.0 97.7 Q 388.3 96.9, 387.1 96.9 Q 385.8 96.9, 385.1 97.7 Q 384.4 98.5, 384.4 100.2 Q 384.4 101.9, 385.1 102.7 Q 385.8 103.6, 387.1 103.6 \" fill=\"#FF0000\"/>\n<path class=\"bond-0 atom-3 atom-0\" d=\"M 460.3,114.8 L 435.7,131.0\" style=\"fill:none;fill-rule:evenodd;stroke:#000000;stroke-width:2.0px;stroke-linecap:butt;stroke-linejoin:miter;stroke-opacity:1\"/>\n<path class=\"bond-1 atom-3 atom-1\" d=\"M 457.4,115.0 L 456.7,102.8\" style=\"fill:none;fill-rule:evenodd;stroke:#000000;stroke-width:2.0px;stroke-linecap:butt;stroke-linejoin:miter;stroke-opacity:1\"/>\n<path class=\"bond-1 atom-3 atom-1\" d=\"M 456.7,102.8 L 456.0,90.7\" style=\"fill:none;fill-rule:evenodd;stroke:#0000FF;stroke-width:2.0px;stroke-linecap:butt;stroke-linejoin:miter;stroke-opacity:1\"/>\n<path class=\"bond-1 atom-3 atom-1\" d=\"M 463.3,114.6 L 462.6,102.5\" style=\"fill:none;fill-rule:evenodd;stroke:#000000;stroke-width:2.0px;stroke-linecap:butt;stroke-linejoin:miter;stroke-opacity:1\"/>\n<path class=\"bond-1 atom-3 atom-1\" d=\"M 462.6,102.5 L 461.9,90.3\" style=\"fill:none;fill-rule:evenodd;stroke:#0000FF;stroke-width:2.0px;stroke-linecap:butt;stroke-linejoin:miter;stroke-opacity:1\"/>\n<path class=\"bond-2 atom-5 atom-4\" d=\"M 503.9,65.7 L 491.2,65.7\" style=\"fill:none;fill-rule:evenodd;stroke:#0000FF;stroke-width:2.0px;stroke-linecap:butt;stroke-linejoin:miter;stroke-opacity:1\"/>\n<path class=\"bond-2 atom-5 atom-4\" d=\"M 491.2,65.7 L 478.5,65.7\" style=\"fill:none;fill-rule:evenodd;stroke:#000000;stroke-width:2.0px;stroke-linecap:butt;stroke-linejoin:miter;stroke-opacity:1\"/>\n<path class=\"bond-3 atom-6 atom-2\" d=\"M 561.5,109.5 L 551.7,115.9\" style=\"fill:none;fill-rule:evenodd;stroke:#191919;stroke-width:2.0px;stroke-linecap:butt;stroke-linejoin:miter;stroke-opacity:1\"/>\n<path class=\"bond-3 atom-6 atom-2\" d=\"M 551.7,115.9 L 541.8,122.4\" style=\"fill:none;fill-rule:evenodd;stroke:#0000FF;stroke-width:2.0px;stroke-linecap:butt;stroke-linejoin:miter;stroke-opacity:1\"/>\n<path class=\"bond-4 atom-7 atom-3\" d=\"M 486.7,128.1 L 460.3,114.8\" style=\"fill:none;fill-rule:evenodd;stroke:#000000;stroke-width:2.0px;stroke-linecap:butt;stroke-linejoin:miter;stroke-opacity:1\"/>\n<path class=\"bond-5 atom-8 atom-2\" d=\"M 511.3,111.9 L 522.4,117.5\" style=\"fill:none;fill-rule:evenodd;stroke:#000000;stroke-width:2.0px;stroke-linecap:butt;stroke-linejoin:miter;stroke-opacity:1\"/>\n<path class=\"bond-5 atom-8 atom-2\" d=\"M 522.4,117.5 L 533.6,123.0\" style=\"fill:none;fill-rule:evenodd;stroke:#0000FF;stroke-width:2.0px;stroke-linecap:butt;stroke-linejoin:miter;stroke-opacity:1\"/>\n<path class=\"bond-6 atom-8 atom-7\" d=\"M 511.3,111.9 L 486.7,128.1\" style=\"fill:none;fill-rule:evenodd;stroke:#000000;stroke-width:2.0px;stroke-linecap:butt;stroke-linejoin:miter;stroke-opacity:1\"/>\n<path class=\"atom-1\" d=\"M 456.8 81.2 L 459.5 85.6 Q 459.8 86.0, 460.2 86.8 Q 460.7 87.6, 460.7 87.7 L 460.7 81.2 L 461.8 81.2 L 461.8 89.5 L 460.7 89.5 L 457.7 84.7 Q 457.4 84.1, 457.0 83.5 Q 456.7 82.8, 456.6 82.6 L 456.6 89.5 L 455.5 89.5 L 455.5 81.2 L 456.8 81.2 \" fill=\"#0000FF\"/>\n<path class=\"atom-1\" d=\"M 462.8 81.2 L 463.9 81.2 L 463.9 84.7 L 468.2 84.7 L 468.2 81.2 L 469.3 81.2 L 469.3 89.5 L 468.2 89.5 L 468.2 85.7 L 463.9 85.7 L 463.9 89.5 L 462.8 89.5 L 462.8 81.2 \" fill=\"#0000FF\"/>\n<path class=\"atom-2\" d=\"M 535.8 120.9 L 538.6 125.4 Q 538.9 125.8, 539.3 126.6 Q 539.7 127.4, 539.8 127.4 L 539.8 120.9 L 540.9 120.9 L 540.9 129.3 L 539.7 129.3 L 536.8 124.5 Q 536.4 123.9, 536.1 123.2 Q 535.7 122.6, 535.6 122.4 L 535.6 129.3 L 534.5 129.3 L 534.5 120.9 L 535.8 120.9 \" fill=\"#0000FF\"/>\n<path class=\"atom-2\" d=\"M 534.4 130.1 L 535.6 130.1 L 535.6 133.7 L 539.8 133.7 L 539.8 130.1 L 541.0 130.1 L 541.0 138.5 L 539.8 138.5 L 539.8 134.6 L 535.6 134.6 L 535.6 138.5 L 534.4 138.5 L 534.4 130.1 \" fill=\"#0000FF\"/>\n<path class=\"atom-5\" d=\"M 506.1 61.5 L 508.9 65.9 Q 509.2 66.4, 509.6 67.2 Q 510.0 67.9, 510.1 68.0 L 510.1 61.5 L 511.2 61.5 L 511.2 69.9 L 510.0 69.9 L 507.1 65.0 Q 506.7 64.5, 506.4 63.8 Q 506.0 63.2, 505.9 63.0 L 505.9 69.9 L 504.8 69.9 L 504.8 61.5 L 506.1 61.5 \" fill=\"#0000FF\"/>\n<path class=\"atom-5\" d=\"M 512.1 61.5 L 513.3 61.5 L 513.3 65.1 L 517.5 65.1 L 517.5 61.5 L 518.7 61.5 L 518.7 69.9 L 517.5 69.9 L 517.5 66.0 L 513.3 66.0 L 513.3 69.9 L 512.1 69.9 L 512.1 61.5 \" fill=\"#0000FF\"/>\n<path class=\"atom-5\" d=\"M 519.7 69.6 Q 519.9 69.0, 520.4 68.8 Q 520.9 68.5, 521.5 68.5 Q 522.4 68.5, 522.8 68.9 Q 523.3 69.4, 523.3 70.2 Q 523.3 71.0, 522.7 71.7 Q 522.1 72.5, 520.9 73.4 L 523.4 73.4 L 523.4 74.0 L 519.7 74.0 L 519.7 73.5 Q 520.7 72.8, 521.3 72.2 Q 521.9 71.7, 522.2 71.2 Q 522.5 70.7, 522.5 70.2 Q 522.5 69.7, 522.3 69.4 Q 522.0 69.1, 521.5 69.1 Q 521.1 69.1, 520.8 69.3 Q 520.5 69.4, 520.3 69.8 L 519.7 69.6 \" fill=\"#0000FF\"/>\n<path class=\"atom-6\" d=\"M 560.8 108.0 L 562.0 106.7 L 560.4 106.4 L 560.6 105.6 L 562.1 106.3 L 561.9 104.7 L 562.8 104.7 L 562.5 106.3 L 564.1 105.6 L 564.3 106.4 L 562.7 106.7 L 563.9 108.0 L 563.1 108.5 L 562.3 106.9 L 561.5 108.5 L 560.8 108.0 \" fill=\"#191919\"/>\n<path class=\"bond-0 atom-2 atom-1\" d=\"M 89.0,292.8 L 91.5,304.6\" style=\"fill:none;fill-rule:evenodd;stroke:#000000;stroke-width:2.0px;stroke-linecap:butt;stroke-linejoin:miter;stroke-opacity:1\"/>\n<path class=\"bond-0 atom-2 atom-1\" d=\"M 91.5,304.6 L 94.0,316.5\" style=\"fill:none;fill-rule:evenodd;stroke:#FF0000;stroke-width:2.0px;stroke-linecap:butt;stroke-linejoin:miter;stroke-opacity:1\"/>\n<path class=\"bond-1 atom-3 atom-0\" d=\"M 76.6,298.7 L 92.7,274.0\" style=\"fill:none;fill-rule:evenodd;stroke:#000000;stroke-width:2.0px;stroke-linecap:butt;stroke-linejoin:miter;stroke-opacity:1\"/>\n<path class=\"bond-2 atom-3 atom-1\" d=\"M 76.6,298.7 L 83.8,307.6\" style=\"fill:none;fill-rule:evenodd;stroke:#000000;stroke-width:2.0px;stroke-linecap:butt;stroke-linejoin:miter;stroke-opacity:1\"/>\n<path class=\"bond-2 atom-3 atom-1\" d=\"M 83.8,307.6 L 90.9,316.5\" style=\"fill:none;fill-rule:evenodd;stroke:#FF0000;stroke-width:2.0px;stroke-linecap:butt;stroke-linejoin:miter;stroke-opacity:1\"/>\n<path class=\"bond-3 atom-4 atom-1\" d=\"M 119.2,316.6 L 100.0,320.6\" style=\"fill:none;fill-rule:evenodd;stroke:#FF0000;stroke-width:2.0px;stroke-linecap:butt;stroke-linejoin:miter;stroke-opacity:1\"/>\n<path class=\"bond-4 atom-5 atom-0\" d=\"M 117.9,286.7 L 92.7,274.0\" style=\"fill:none;fill-rule:evenodd;stroke:#000000;stroke-width:2.0px;stroke-linecap:butt;stroke-linejoin:miter;stroke-opacity:1\"/>\n<path class=\"bond-5 atom-5 atom-2\" d=\"M 117.9,286.7 L 89.0,292.8\" style=\"fill:none;fill-rule:evenodd;stroke:#000000;stroke-width:2.0px;stroke-linecap:butt;stroke-linejoin:miter;stroke-opacity:1\"/>\n<path class=\"bond-6 atom-5 atom-4\" d=\"M 117.9,286.7 L 120.4,298.5\" style=\"fill:none;fill-rule:evenodd;stroke:#000000;stroke-width:2.0px;stroke-linecap:butt;stroke-linejoin:miter;stroke-opacity:1\"/>\n<path class=\"bond-6 atom-5 atom-4\" d=\"M 120.4,298.5 L 122.9,310.3\" style=\"fill:none;fill-rule:evenodd;stroke:#FF0000;stroke-width:2.0px;stroke-linecap:butt;stroke-linejoin:miter;stroke-opacity:1\"/>\n<path class=\"bond-7 atom-6 atom-4\" d=\"M 152.9,309.4 L 140.8,312.0\" style=\"fill:none;fill-rule:evenodd;stroke:#000000;stroke-width:2.0px;stroke-linecap:butt;stroke-linejoin:miter;stroke-opacity:1\"/>\n<path class=\"bond-7 atom-6 atom-4\" d=\"M 140.8,312.0 L 128.8,314.5\" style=\"fill:none;fill-rule:evenodd;stroke:#FF0000;stroke-width:2.0px;stroke-linecap:butt;stroke-linejoin:miter;stroke-opacity:1\"/>\n<path class=\"bond-8 atom-7 atom-5\" d=\"M 146.7,280.6 L 117.9,286.7\" style=\"fill:none;fill-rule:evenodd;stroke:#000000;stroke-width:2.0px;stroke-linecap:butt;stroke-linejoin:miter;stroke-opacity:1\"/>\n<path class=\"bond-9 atom-7 atom-6\" d=\"M 146.7,280.6 L 152.9,309.4\" style=\"fill:none;fill-rule:evenodd;stroke:#000000;stroke-width:2.0px;stroke-linecap:butt;stroke-linejoin:miter;stroke-opacity:1\"/>\n<path class=\"bond-10 atom-8 atom-3\" d=\"M 47.1,300.3 L 76.6,298.7\" style=\"fill:none;fill-rule:evenodd;stroke:#000000;stroke-width:2.0px;stroke-linecap:butt;stroke-linejoin:miter;stroke-opacity:1\"/>\n<path class=\"atom-1\" d=\"M 91.3 321.7 Q 91.3 319.7, 92.3 318.6 Q 93.3 317.4, 95.1 317.4 Q 97.0 317.4, 98.0 318.6 Q 99.0 319.7, 99.0 321.7 Q 99.0 323.7, 98.0 324.9 Q 97.0 326.0, 95.1 326.0 Q 93.3 326.0, 92.3 324.9 Q 91.3 323.7, 91.3 321.7 M 95.1 325.1 Q 96.4 325.1, 97.1 324.2 Q 97.8 323.4, 97.8 321.7 Q 97.8 320.0, 97.1 319.2 Q 96.4 318.4, 95.1 318.4 Q 93.9 318.4, 93.2 319.2 Q 92.5 320.0, 92.5 321.7 Q 92.5 323.4, 93.2 324.2 Q 93.9 325.1, 95.1 325.1 \" fill=\"#FF0000\"/>\n<path class=\"atom-4\" d=\"M 120.2 315.6 Q 120.2 313.6, 121.2 312.4 Q 122.2 311.3, 124.0 311.3 Q 125.9 311.3, 126.9 312.4 Q 127.8 313.6, 127.8 315.6 Q 127.8 317.6, 126.8 318.7 Q 125.8 319.9, 124.0 319.9 Q 122.2 319.9, 121.2 318.7 Q 120.2 317.6, 120.2 315.6 M 124.0 318.9 Q 125.3 318.9, 126.0 318.1 Q 126.7 317.2, 126.7 315.6 Q 126.7 313.9, 126.0 313.1 Q 125.3 312.3, 124.0 312.3 Q 122.7 312.3, 122.0 313.1 Q 121.4 313.9, 121.4 315.6 Q 121.4 317.2, 122.0 318.1 Q 122.7 318.9, 124.0 318.9 \" fill=\"#FF0000\"/>\n<path class=\"bond-0 atom-4 atom-1\" d=\"M 359.8,276.0 L 358.8,263.8\" style=\"fill:none;fill-rule:evenodd;stroke:#0000FF;stroke-width:2.0px;stroke-linecap:butt;stroke-linejoin:miter;stroke-opacity:1\"/>\n<path class=\"bond-0 atom-4 atom-1\" d=\"M 358.8,263.8 L 357.9,251.7\" style=\"fill:none;fill-rule:evenodd;stroke:#000000;stroke-width:2.0px;stroke-linecap:butt;stroke-linejoin:miter;stroke-opacity:1\"/>\n<path class=\"bond-1 atom-5 atom-0\" d=\"M 339.8,329.7 L 330.1,336.4\" style=\"fill:none;fill-rule:evenodd;stroke:#000000;stroke-width:2.0px;stroke-linecap:butt;stroke-linejoin:miter;stroke-opacity:1\"/>\n<path class=\"bond-1 atom-5 atom-0\" d=\"M 330.1,336.4 L 320.3,343.1\" style=\"fill:none;fill-rule:evenodd;stroke:#FF0000;stroke-width:2.0px;stroke-linecap:butt;stroke-linejoin:miter;stroke-opacity:1\"/>\n<path class=\"bond-1 atom-5 atom-0\" d=\"M 336.5,324.8 L 326.7,331.5\" style=\"fill:none;fill-rule:evenodd;stroke:#000000;stroke-width:2.0px;stroke-linecap:butt;stroke-linejoin:miter;stroke-opacity:1\"/>\n<path class=\"bond-1 atom-5 atom-0\" d=\"M 326.7,331.5 L 317.0,338.2\" style=\"fill:none;fill-rule:evenodd;stroke:#FF0000;stroke-width:2.0px;stroke-linecap:butt;stroke-linejoin:miter;stroke-opacity:1\"/>\n<path class=\"bond-2 atom-6 atom-4\" d=\"M 335.9,297.8 L 345.9,290.9\" style=\"fill:none;fill-rule:evenodd;stroke:#000000;stroke-width:2.0px;stroke-linecap:butt;stroke-linejoin:miter;stroke-opacity:1\"/>\n<path class=\"bond-2 atom-6 atom-4\" d=\"M 345.9,290.9 L 356.0,284.0\" style=\"fill:none;fill-rule:evenodd;stroke:#0000FF;stroke-width:2.0px;stroke-linecap:butt;stroke-linejoin:miter;stroke-opacity:1\"/>\n<path class=\"bond-3 atom-6 atom-5\" d=\"M 335.9,297.8 L 338.2,327.2\" style=\"fill:none;fill-rule:evenodd;stroke:#000000;stroke-width:2.0px;stroke-linecap:butt;stroke-linejoin:miter;stroke-opacity:1\"/>\n<path class=\"bond-4 atom-7 atom-3\" d=\"M 309.2,285.1 L 284.9,301.8\" style=\"fill:none;fill-rule:evenodd;stroke:#000000;stroke-width:2.0px;stroke-linecap:butt;stroke-linejoin:miter;stroke-opacity:1\"/>\n<path class=\"bond-5 atom-7 atom-6\" d=\"M 309.2,285.1 L 335.9,297.8\" style=\"fill:none;fill-rule:evenodd;stroke:#000000;stroke-width:2.0px;stroke-linecap:butt;stroke-linejoin:miter;stroke-opacity:1\"/>\n<path class=\"bond-6 atom-8 atom-2\" d=\"M 258.3,289.1 L 231.7,276.4\" style=\"fill:none;fill-rule:evenodd;stroke:#000000;stroke-width:2.0px;stroke-linecap:butt;stroke-linejoin:miter;stroke-opacity:1\"/>\n<path class=\"bond-6 atom-8 atom-2\" d=\"M 251.8,292.5 L 229.1,281.7\" style=\"fill:none;fill-rule:evenodd;stroke:#000000;stroke-width:2.0px;stroke-linecap:butt;stroke-linejoin:miter;stroke-opacity:1\"/>\n<path class=\"bond-6 atom-8 atom-2\" d=\"M 256.8,281.9 L 234.2,271.1\" style=\"fill:none;fill-rule:evenodd;stroke:#000000;stroke-width:2.0px;stroke-linecap:butt;stroke-linejoin:miter;stroke-opacity:1\"/>\n<path class=\"bond-7 atom-8 atom-3\" d=\"M 258.3,289.1 L 284.9,301.8\" style=\"fill:none;fill-rule:evenodd;stroke:#000000;stroke-width:2.0px;stroke-linecap:butt;stroke-linejoin:miter;stroke-opacity:1\"/>\n<path class=\"atom-0\" d=\"M 310.0 344.0 Q 310.0 341.9, 311.0 340.8 Q 312.0 339.7, 313.8 339.7 Q 315.7 339.7, 316.7 340.8 Q 317.7 341.9, 317.7 344.0 Q 317.7 346.0, 316.7 347.1 Q 315.7 348.3, 313.8 348.3 Q 312.0 348.3, 311.0 347.1 Q 310.0 346.0, 310.0 344.0 M 313.8 347.3 Q 315.1 347.3, 315.8 346.5 Q 316.5 345.6, 316.5 344.0 Q 316.5 342.3, 315.8 341.5 Q 315.1 340.7, 313.8 340.7 Q 312.6 340.7, 311.9 341.5 Q 311.2 342.3, 311.2 344.0 Q 311.2 345.6, 311.9 346.5 Q 312.6 347.3, 313.8 347.3 \" fill=\"#FF0000\"/>\n<path class=\"atom-4\" d=\"M 358.3 276.9 L 361.1 281.4 Q 361.3 281.8, 361.8 282.6 Q 362.2 283.4, 362.2 283.4 L 362.2 276.9 L 363.3 276.9 L 363.3 285.3 L 362.2 285.3 L 359.3 280.5 Q 358.9 279.9, 358.6 279.2 Q 358.2 278.6, 358.1 278.4 L 358.1 285.3 L 357.0 285.3 L 357.0 276.9 L 358.3 276.9 \" fill=\"#0000FF\"/>\n<path class=\"atom-4\" d=\"M 364.3 276.9 L 365.5 276.9 L 365.5 280.5 L 369.7 280.5 L 369.7 276.9 L 370.9 276.9 L 370.9 285.3 L 369.7 285.3 L 369.7 281.4 L 365.5 281.4 L 365.5 285.3 L 364.3 285.3 L 364.3 276.9 \" fill=\"#0000FF\"/>\n<path class=\"bond-0 atom-4 atom-1\" d=\"M 559.8,276.0 L 558.8,263.8\" style=\"fill:none;fill-rule:evenodd;stroke:#0000FF;stroke-width:2.0px;stroke-linecap:butt;stroke-linejoin:miter;stroke-opacity:1\"/>\n<path class=\"bond-0 atom-4 atom-1\" d=\"M 558.8,263.8 L 557.9,251.7\" style=\"fill:none;fill-rule:evenodd;stroke:#000000;stroke-width:2.0px;stroke-linecap:butt;stroke-linejoin:miter;stroke-opacity:1\"/>\n<path class=\"bond-1 atom-5 atom-0\" d=\"M 539.8,329.7 L 530.1,336.4\" style=\"fill:none;fill-rule:evenodd;stroke:#000000;stroke-width:2.0px;stroke-linecap:butt;stroke-linejoin:miter;stroke-opacity:1\"/>\n<path class=\"bond-1 atom-5 atom-0\" d=\"M 530.1,336.4 L 520.3,343.1\" style=\"fill:none;fill-rule:evenodd;stroke:#FF0000;stroke-width:2.0px;stroke-linecap:butt;stroke-linejoin:miter;stroke-opacity:1\"/>\n<path class=\"bond-1 atom-5 atom-0\" d=\"M 536.5,324.8 L 526.7,331.5\" style=\"fill:none;fill-rule:evenodd;stroke:#000000;stroke-width:2.0px;stroke-linecap:butt;stroke-linejoin:miter;stroke-opacity:1\"/>\n<path class=\"bond-1 atom-5 atom-0\" d=\"M 526.7,331.5 L 517.0,338.2\" style=\"fill:none;fill-rule:evenodd;stroke:#FF0000;stroke-width:2.0px;stroke-linecap:butt;stroke-linejoin:miter;stroke-opacity:1\"/>\n<path class=\"bond-2 atom-6 atom-4\" d=\"M 535.9,297.8 L 545.9,290.9\" style=\"fill:none;fill-rule:evenodd;stroke:#000000;stroke-width:2.0px;stroke-linecap:butt;stroke-linejoin:miter;stroke-opacity:1\"/>\n<path class=\"bond-2 atom-6 atom-4\" d=\"M 545.9,290.9 L 556.0,284.0\" style=\"fill:none;fill-rule:evenodd;stroke:#0000FF;stroke-width:2.0px;stroke-linecap:butt;stroke-linejoin:miter;stroke-opacity:1\"/>\n<path class=\"bond-3 atom-6 atom-5\" d=\"M 535.9,297.8 L 538.2,327.2\" style=\"fill:none;fill-rule:evenodd;stroke:#000000;stroke-width:2.0px;stroke-linecap:butt;stroke-linejoin:miter;stroke-opacity:1\"/>\n<path class=\"bond-4 atom-7 atom-3\" d=\"M 509.2,285.1 L 484.9,301.8\" style=\"fill:none;fill-rule:evenodd;stroke:#000000;stroke-width:2.0px;stroke-linecap:butt;stroke-linejoin:miter;stroke-opacity:1\"/>\n<path class=\"bond-5 atom-7 atom-6\" d=\"M 509.2,285.1 L 535.9,297.8\" style=\"fill:none;fill-rule:evenodd;stroke:#000000;stroke-width:2.0px;stroke-linecap:butt;stroke-linejoin:miter;stroke-opacity:1\"/>\n<path class=\"bond-6 atom-8 atom-2\" d=\"M 458.3,289.1 L 431.7,276.4\" style=\"fill:none;fill-rule:evenodd;stroke:#000000;stroke-width:2.0px;stroke-linecap:butt;stroke-linejoin:miter;stroke-opacity:1\"/>\n<path class=\"bond-6 atom-8 atom-2\" d=\"M 451.8,292.5 L 429.1,281.7\" style=\"fill:none;fill-rule:evenodd;stroke:#000000;stroke-width:2.0px;stroke-linecap:butt;stroke-linejoin:miter;stroke-opacity:1\"/>\n<path class=\"bond-6 atom-8 atom-2\" d=\"M 456.8,281.9 L 434.2,271.1\" style=\"fill:none;fill-rule:evenodd;stroke:#000000;stroke-width:2.0px;stroke-linecap:butt;stroke-linejoin:miter;stroke-opacity:1\"/>\n<path class=\"bond-7 atom-8 atom-3\" d=\"M 458.3,289.1 L 484.9,301.8\" style=\"fill:none;fill-rule:evenodd;stroke:#000000;stroke-width:2.0px;stroke-linecap:butt;stroke-linejoin:miter;stroke-opacity:1\"/>\n<path class=\"atom-0\" d=\"M 510.0 344.0 Q 510.0 341.9, 511.0 340.8 Q 512.0 339.7, 513.8 339.7 Q 515.7 339.7, 516.7 340.8 Q 517.7 341.9, 517.7 344.0 Q 517.7 346.0, 516.7 347.1 Q 515.7 348.3, 513.8 348.3 Q 512.0 348.3, 511.0 347.1 Q 510.0 346.0, 510.0 344.0 M 513.8 347.3 Q 515.1 347.3, 515.8 346.5 Q 516.5 345.6, 516.5 344.0 Q 516.5 342.3, 515.8 341.5 Q 515.1 340.7, 513.8 340.7 Q 512.6 340.7, 511.9 341.5 Q 511.2 342.3, 511.2 344.0 Q 511.2 345.6, 511.9 346.5 Q 512.6 347.3, 513.8 347.3 \" fill=\"#FF0000\"/>\n<path class=\"atom-4\" d=\"M 558.3 276.9 L 561.1 281.4 Q 561.3 281.8, 561.8 282.6 Q 562.2 283.4, 562.2 283.4 L 562.2 276.9 L 563.3 276.9 L 563.3 285.3 L 562.2 285.3 L 559.3 280.5 Q 558.9 279.9, 558.6 279.2 Q 558.2 278.6, 558.1 278.4 L 558.1 285.3 L 557.0 285.3 L 557.0 276.9 L 558.3 276.9 \" fill=\"#0000FF\"/>\n<path class=\"atom-4\" d=\"M 564.3 276.9 L 565.5 276.9 L 565.5 280.5 L 569.7 280.5 L 569.7 276.9 L 570.9 276.9 L 570.9 285.3 L 569.7 285.3 L 569.7 281.4 L 565.5 281.4 L 565.5 285.3 L 564.3 285.3 L 564.3 276.9 \" fill=\"#0000FF\"/>\n<path class=\"bond-0 atom-4 atom-1\" d=\"M 159.8,476.0 L 158.8,463.8\" style=\"fill:none;fill-rule:evenodd;stroke:#0000FF;stroke-width:2.0px;stroke-linecap:butt;stroke-linejoin:miter;stroke-opacity:1\"/>\n<path class=\"bond-0 atom-4 atom-1\" d=\"M 158.8,463.8 L 157.9,451.7\" style=\"fill:none;fill-rule:evenodd;stroke:#000000;stroke-width:2.0px;stroke-linecap:butt;stroke-linejoin:miter;stroke-opacity:1\"/>\n<path class=\"bond-1 atom-5 atom-0\" d=\"M 139.8,529.7 L 130.1,536.4\" style=\"fill:none;fill-rule:evenodd;stroke:#000000;stroke-width:2.0px;stroke-linecap:butt;stroke-linejoin:miter;stroke-opacity:1\"/>\n<path class=\"bond-1 atom-5 atom-0\" d=\"M 130.1,536.4 L 120.3,543.1\" style=\"fill:none;fill-rule:evenodd;stroke:#FF0000;stroke-width:2.0px;stroke-linecap:butt;stroke-linejoin:miter;stroke-opacity:1\"/>\n<path class=\"bond-1 atom-5 atom-0\" d=\"M 136.5,524.8 L 126.7,531.5\" style=\"fill:none;fill-rule:evenodd;stroke:#000000;stroke-width:2.0px;stroke-linecap:butt;stroke-linejoin:miter;stroke-opacity:1\"/>\n<path class=\"bond-1 atom-5 atom-0\" d=\"M 126.7,531.5 L 117.0,538.2\" style=\"fill:none;fill-rule:evenodd;stroke:#FF0000;stroke-width:2.0px;stroke-linecap:butt;stroke-linejoin:miter;stroke-opacity:1\"/>\n<path class=\"bond-2 atom-6 atom-4\" d=\"M 135.9,497.8 L 145.9,490.9\" style=\"fill:none;fill-rule:evenodd;stroke:#000000;stroke-width:2.0px;stroke-linecap:butt;stroke-linejoin:miter;stroke-opacity:1\"/>\n<path class=\"bond-2 atom-6 atom-4\" d=\"M 145.9,490.9 L 156.0,484.0\" style=\"fill:none;fill-rule:evenodd;stroke:#0000FF;stroke-width:2.0px;stroke-linecap:butt;stroke-linejoin:miter;stroke-opacity:1\"/>\n<path class=\"bond-3 atom-6 atom-5\" d=\"M 135.9,497.8 L 138.2,527.2\" style=\"fill:none;fill-rule:evenodd;stroke:#000000;stroke-width:2.0px;stroke-linecap:butt;stroke-linejoin:miter;stroke-opacity:1\"/>\n<path class=\"bond-4 atom-7 atom-3\" d=\"M 109.2,485.1 L 84.9,501.8\" style=\"fill:none;fill-rule:evenodd;stroke:#000000;stroke-width:2.0px;stroke-linecap:butt;stroke-linejoin:miter;stroke-opacity:1\"/>\n<path class=\"bond-5 atom-7 atom-6\" d=\"M 109.2,485.1 L 135.9,497.8\" style=\"fill:none;fill-rule:evenodd;stroke:#000000;stroke-width:2.0px;stroke-linecap:butt;stroke-linejoin:miter;stroke-opacity:1\"/>\n<path class=\"bond-6 atom-8 atom-2\" d=\"M 58.3,489.1 L 31.7,476.4\" style=\"fill:none;fill-rule:evenodd;stroke:#000000;stroke-width:2.0px;stroke-linecap:butt;stroke-linejoin:miter;stroke-opacity:1\"/>\n<path class=\"bond-6 atom-8 atom-2\" d=\"M 51.8,492.5 L 29.1,481.7\" style=\"fill:none;fill-rule:evenodd;stroke:#000000;stroke-width:2.0px;stroke-linecap:butt;stroke-linejoin:miter;stroke-opacity:1\"/>\n<path class=\"bond-6 atom-8 atom-2\" d=\"M 56.8,481.9 L 34.2,471.1\" style=\"fill:none;fill-rule:evenodd;stroke:#000000;stroke-width:2.0px;stroke-linecap:butt;stroke-linejoin:miter;stroke-opacity:1\"/>\n<path class=\"bond-7 atom-8 atom-3\" d=\"M 58.3,489.1 L 84.9,501.8\" style=\"fill:none;fill-rule:evenodd;stroke:#000000;stroke-width:2.0px;stroke-linecap:butt;stroke-linejoin:miter;stroke-opacity:1\"/>\n<path class=\"atom-0\" d=\"M 110.0 544.0 Q 110.0 541.9, 111.0 540.8 Q 112.0 539.7, 113.8 539.7 Q 115.7 539.7, 116.7 540.8 Q 117.7 541.9, 117.7 544.0 Q 117.7 546.0, 116.7 547.1 Q 115.7 548.3, 113.8 548.3 Q 112.0 548.3, 111.0 547.1 Q 110.0 546.0, 110.0 544.0 M 113.8 547.3 Q 115.1 547.3, 115.8 546.5 Q 116.5 545.6, 116.5 544.0 Q 116.5 542.3, 115.8 541.5 Q 115.1 540.7, 113.8 540.7 Q 112.6 540.7, 111.9 541.5 Q 111.2 542.3, 111.2 544.0 Q 111.2 545.6, 111.9 546.5 Q 112.6 547.3, 113.8 547.3 \" fill=\"#FF0000\"/>\n<path class=\"atom-4\" d=\"M 158.3 476.9 L 161.1 481.4 Q 161.3 481.8, 161.8 482.6 Q 162.2 483.4, 162.2 483.4 L 162.2 476.9 L 163.3 476.9 L 163.3 485.3 L 162.2 485.3 L 159.3 480.5 Q 158.9 479.9, 158.6 479.2 Q 158.2 478.6, 158.1 478.4 L 158.1 485.3 L 157.0 485.3 L 157.0 476.9 L 158.3 476.9 \" fill=\"#0000FF\"/>\n<path class=\"atom-4\" d=\"M 164.3 476.9 L 165.5 476.9 L 165.5 480.5 L 169.7 480.5 L 169.7 476.9 L 170.9 476.9 L 170.9 485.3 L 169.7 485.3 L 169.7 481.4 L 165.5 481.4 L 165.5 485.3 L 164.3 485.3 L 164.3 476.9 \" fill=\"#0000FF\"/>\n<path class=\"bond-0 atom-1 atom-0\" d=\"M 229.8,490.6 L 219.4,483.9\" style=\"fill:none;fill-rule:evenodd;stroke:#0000FF;stroke-width:2.0px;stroke-linecap:butt;stroke-linejoin:miter;stroke-opacity:1\"/>\n<path class=\"bond-0 atom-1 atom-0\" d=\"M 219.4,483.9 L 209.1,477.3\" style=\"fill:none;fill-rule:evenodd;stroke:#000000;stroke-width:2.0px;stroke-linecap:butt;stroke-linejoin:miter;stroke-opacity:1\"/>\n<path class=\"bond-1 atom-3 atom-1\" d=\"M 260.1,479.6 L 249.1,485.4\" style=\"fill:none;fill-rule:evenodd;stroke:#000000;stroke-width:2.0px;stroke-linecap:butt;stroke-linejoin:miter;stroke-opacity:1\"/>\n<path class=\"bond-1 atom-3 atom-1\" d=\"M 249.1,485.4 L 238.1,491.1\" style=\"fill:none;fill-rule:evenodd;stroke:#0000FF;stroke-width:2.0px;stroke-linecap:butt;stroke-linejoin:miter;stroke-opacity:1\"/>\n<path class=\"bond-2 atom-4 atom-1\" d=\"M 232.6,522.7 L 233.2,510.5\" style=\"fill:none;fill-rule:evenodd;stroke:#000000;stroke-width:2.0px;stroke-linecap:butt;stroke-linejoin:miter;stroke-opacity:1\"/>\n<path class=\"bond-2 atom-4 atom-1\" d=\"M 233.2,510.5 L 233.7,498.4\" style=\"fill:none;fill-rule:evenodd;stroke:#0000FF;stroke-width:2.0px;stroke-linecap:butt;stroke-linejoin:miter;stroke-opacity:1\"/>\n<path class=\"bond-3 atom-6 atom-2\" d=\"M 362.2,484.3 L 351.2,490.0\" style=\"fill:none;fill-rule:evenodd;stroke:#000000;stroke-width:2.0px;stroke-linecap:butt;stroke-linejoin:miter;stroke-opacity:1\"/>\n<path class=\"bond-3 atom-6 atom-2\" d=\"M 351.2,490.0 L 340.2,495.7\" style=\"fill:none;fill-rule:evenodd;stroke:#0000FF;stroke-width:2.0px;stroke-linecap:butt;stroke-linejoin:miter;stroke-opacity:1\"/>\n<path class=\"bond-4 atom-6 atom-5\" d=\"M 363.8,481.8 L 373.8,488.2\" style=\"fill:none;fill-rule:evenodd;stroke:#000000;stroke-width:2.0px;stroke-linecap:butt;stroke-linejoin:miter;stroke-opacity:1\"/>\n<path class=\"bond-4 atom-6 atom-5\" d=\"M 373.8,488.2 L 383.9,494.6\" style=\"fill:none;fill-rule:evenodd;stroke:#FF0000;stroke-width:2.0px;stroke-linecap:butt;stroke-linejoin:miter;stroke-opacity:1\"/>\n<path class=\"bond-4 atom-6 atom-5\" d=\"M 360.6,486.8 L 370.7,493.2\" style=\"fill:none;fill-rule:evenodd;stroke:#000000;stroke-width:2.0px;stroke-linecap:butt;stroke-linejoin:miter;stroke-opacity:1\"/>\n<path class=\"bond-4 atom-6 atom-5\" d=\"M 370.7,493.2 L 380.7,499.6\" style=\"fill:none;fill-rule:evenodd;stroke:#FF0000;stroke-width:2.0px;stroke-linecap:butt;stroke-linejoin:miter;stroke-opacity:1\"/>\n<path class=\"bond-5 atom-7 atom-3\" d=\"M 285.0,495.5 L 260.1,479.6\" style=\"fill:none;fill-rule:evenodd;stroke:#000000;stroke-width:2.0px;stroke-linecap:butt;stroke-linejoin:miter;stroke-opacity:1\"/>\n<path class=\"bond-6 atom-8 atom-2\" d=\"M 311.2,482.0 L 321.5,488.6\" style=\"fill:none;fill-rule:evenodd;stroke:#000000;stroke-width:2.0px;stroke-linecap:butt;stroke-linejoin:miter;stroke-opacity:1\"/>\n<path class=\"bond-6 atom-8 atom-2\" d=\"M 321.5,488.6 L 331.9,495.2\" style=\"fill:none;fill-rule:evenodd;stroke:#0000FF;stroke-width:2.0px;stroke-linecap:butt;stroke-linejoin:miter;stroke-opacity:1\"/>\n<path class=\"bond-7 atom-8 atom-7\" d=\"M 311.2,482.0 L 285.0,495.5\" style=\"fill:none;fill-rule:evenodd;stroke:#000000;stroke-width:2.0px;stroke-linecap:butt;stroke-linejoin:miter;stroke-opacity:1\"/>\n<path class=\"atom-1\" d=\"M 232.1 489.0 L 234.8 493.5 Q 235.1 493.9, 235.5 494.7 Q 236.0 495.5, 236.0 495.5 L 236.0 489.0 L 237.1 489.0 L 237.1 497.4 L 236.0 497.4 L 233.0 492.6 Q 232.7 492.0, 232.3 491.3 Q 232.0 490.7, 231.9 490.5 L 231.9 497.4 L 230.8 497.4 L 230.8 489.0 L 232.1 489.0 \" fill=\"#0000FF\"/>\n<path class=\"atom-2\" d=\"M 334.2 493.7 L 336.9 498.1 Q 337.2 498.5, 337.6 499.3 Q 338.1 500.1, 338.1 500.2 L 338.1 493.7 L 339.2 493.7 L 339.2 502.0 L 338.1 502.0 L 335.1 497.2 Q 334.8 496.6, 334.4 496.0 Q 334.1 495.3, 333.9 495.1 L 333.9 502.0 L 332.9 502.0 L 332.9 493.7 L 334.2 493.7 \" fill=\"#0000FF\"/>\n<path class=\"atom-2\" d=\"M 332.8 502.9 L 333.9 502.9 L 333.9 506.4 L 338.2 506.4 L 338.2 502.9 L 339.3 502.9 L 339.3 511.2 L 338.2 511.2 L 338.2 507.4 L 333.9 507.4 L 333.9 511.2 L 332.8 511.2 L 332.8 502.9 \" fill=\"#0000FF\"/>\n<path class=\"atom-5\" d=\"M 383.2 500.2 Q 383.2 498.2, 384.2 497.1 Q 385.2 496.0, 387.1 496.0 Q 388.9 496.0, 389.9 497.1 Q 390.9 498.2, 390.9 500.2 Q 390.9 502.2, 389.9 503.4 Q 388.9 504.5, 387.1 504.5 Q 385.2 504.5, 384.2 503.4 Q 383.2 502.2, 383.2 500.2 M 387.1 503.6 Q 388.3 503.6, 389.0 502.7 Q 389.7 501.9, 389.7 500.2 Q 389.7 498.6, 389.0 497.7 Q 388.3 496.9, 387.1 496.9 Q 385.8 496.9, 385.1 497.7 Q 384.4 498.5, 384.4 500.2 Q 384.4 501.9, 385.1 502.7 Q 385.8 503.6, 387.1 503.6 \" fill=\"#FF0000\"/>\n</svg>"
          },
          "metadata": {},
          "execution_count": 19
        }
      ]
    }
  ],
  "metadata": {
    "kernelspec": {
      "display_name": "Python 3",
      "language": "python",
      "name": "python3"
    },
    "language_info": {
      "codemirror_mode": {
        "name": "ipython",
        "version": 2
      },
      "file_extension": ".py",
      "mimetype": "text/x-python",
      "name": "python",
      "nbconvert_exporter": "python",
      "pygments_lexer": "ipython2",
      "version": "2.7.6"
    },
    "colab": {
      "provenance": [],
      "collapsed_sections": []
    }
  },
  "nbformat": 4,
  "nbformat_minor": 0
}