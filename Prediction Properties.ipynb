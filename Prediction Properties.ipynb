{
  "cells": [
    {
      "cell_type": "markdown",
      "source": [
        "![](https://drive.google.com/uc?export=view&id=12mnS6S9Pq9gPk1T5JVZWQAUJQ4M2U2k9)"
      ],
      "metadata": {
        "id": "ZHctAd9h6SSd"
      }
    },
    {
      "cell_type": "markdown",
      "source": [
        "![og.png](data:image/png;base64,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)"
      ],
      "metadata": {
        "id": "P3xwqOH16Yqo"
      }
    },
    {
      "cell_type": "markdown",
      "metadata": {
        "collapsed": true,
        "pycharm": {
          "name": "#%% md\n"
        },
        "id": "QxpoPEDr5dn_"
      },
      "source": [
        "Датасеты: bulk_id.csv\n",
        "\n",
        "\n",
        "Что нужно сделать?\n",
        "Нужно провести полный процесс тренировки модели, включающий работу с датасетом (выбор метода векторизации и расчет соответствующих векторов), выбор оптимального алгоритма обучения (критерии могут разниться)."
      ]
    },
    {
      "cell_type": "code",
      "source": [
        "from google.colab import drive\n",
        "drive.mount('/content/drive')\n",
        "!pip install pymatgen ase dscribe matminer megnet"
      ],
      "metadata": {
        "colab": {
          "base_uri": "https://localhost:8080/"
        },
        "id": "ZcGt4siFGLmI",
        "outputId": "1ec7866a-6e2b-49f5-eb14-0bb755965e4d"
      },
      "execution_count": null,
      "outputs": [
        {
          "output_type": "stream",
          "name": "stdout",
          "text": [
            "Drive already mounted at /content/drive; to attempt to forcibly remount, call drive.mount(\"/content/drive\", force_remount=True).\n",
            "Requirement already satisfied: pymatgen in /usr/local/lib/python3.7/dist-packages (2022.0.17)\n",
            "Requirement already satisfied: ase in /usr/local/lib/python3.7/dist-packages (3.22.1)\n",
            "Requirement already satisfied: dscribe in /usr/local/lib/python3.7/dist-packages (1.2.1)\n",
            "Requirement already satisfied: matminer in /usr/local/lib/python3.7/dist-packages (0.7.4)\n",
            "Requirement already satisfied: megnet in /usr/local/lib/python3.7/dist-packages (1.3.0)\n",
            "Requirement already satisfied: tabulate in /usr/local/lib/python3.7/dist-packages (from pymatgen) (0.8.9)\n",
            "Requirement already satisfied: spglib>=1.9.9.44 in /usr/local/lib/python3.7/dist-packages (from pymatgen) (1.16.3)\n",
            "Requirement already satisfied: networkx>=2.2 in /usr/local/lib/python3.7/dist-packages (from pymatgen) (2.6.3)\n",
            "Requirement already satisfied: uncertainties>=3.1.4 in /usr/local/lib/python3.7/dist-packages (from pymatgen) (3.1.6)\n",
            "Requirement already satisfied: requests in /usr/local/lib/python3.7/dist-packages (from pymatgen) (2.27.1)\n",
            "Requirement already satisfied: plotly>=4.5.0 in /usr/local/lib/python3.7/dist-packages (from pymatgen) (5.5.0)\n",
            "Requirement already satisfied: numpy>=1.20.1 in /usr/local/lib/python3.7/dist-packages (from pymatgen) (1.21.5)\n",
            "Requirement already satisfied: matplotlib>=1.5 in /usr/local/lib/python3.7/dist-packages (from pymatgen) (3.2.2)\n",
            "Requirement already satisfied: ruamel.yaml>=0.15.6 in /usr/local/lib/python3.7/dist-packages (from pymatgen) (0.17.21)\n",
            "Requirement already satisfied: scipy>=1.5.0 in /usr/local/lib/python3.7/dist-packages (from pymatgen) (1.7.3)\n",
            "Requirement already satisfied: sympy in /usr/local/lib/python3.7/dist-packages (from pymatgen) (1.10.1)\n",
            "Requirement already satisfied: palettable>=3.1.1 in /usr/local/lib/python3.7/dist-packages (from pymatgen) (3.3.0)\n",
            "Requirement already satisfied: pandas in /usr/local/lib/python3.7/dist-packages (from pymatgen) (1.3.5)\n",
            "Requirement already satisfied: typing-extensions>=3.7.4.3 in /usr/local/lib/python3.7/dist-packages (from pymatgen) (3.10.0.2)\n",
            "Requirement already satisfied: monty>=3.0.2 in /usr/local/lib/python3.7/dist-packages (from pymatgen) (2022.3.12)\n",
            "Requirement already satisfied: kiwisolver>=1.0.1 in /usr/local/lib/python3.7/dist-packages (from matplotlib>=1.5->pymatgen) (1.4.0)\n",
            "Requirement already satisfied: cycler>=0.10 in /usr/local/lib/python3.7/dist-packages (from matplotlib>=1.5->pymatgen) (0.11.0)\n",
            "Requirement already satisfied: python-dateutil>=2.1 in /usr/local/lib/python3.7/dist-packages (from matplotlib>=1.5->pymatgen) (2.8.2)\n",
            "Requirement already satisfied: pyparsing!=2.0.4,!=2.1.2,!=2.1.6,>=2.0.1 in /usr/local/lib/python3.7/dist-packages (from matplotlib>=1.5->pymatgen) (3.0.7)\n",
            "Requirement already satisfied: six in /usr/local/lib/python3.7/dist-packages (from plotly>=4.5.0->pymatgen) (1.16.0)\n",
            "Requirement already satisfied: tenacity>=6.2.0 in /usr/local/lib/python3.7/dist-packages (from plotly>=4.5.0->pymatgen) (8.0.1)\n",
            "Requirement already satisfied: ruamel.yaml.clib>=0.2.6 in /usr/local/lib/python3.7/dist-packages (from ruamel.yaml>=0.15.6->pymatgen) (0.2.6)\n",
            "Requirement already satisfied: future in /usr/local/lib/python3.7/dist-packages (from uncertainties>=3.1.4->pymatgen) (0.18.2)\n",
            "Requirement already satisfied: pybind11>=2.4 in /usr/local/lib/python3.7/dist-packages (from dscribe) (2.9.1)\n",
            "Requirement already satisfied: scikit-learn in /usr/local/lib/python3.7/dist-packages (from dscribe) (1.0.2)\n",
            "Requirement already satisfied: joblib>=1.0.0 in /usr/local/lib/python3.7/dist-packages (from dscribe) (1.1.0)\n",
            "Requirement already satisfied: sparse in /usr/local/lib/python3.7/dist-packages (from dscribe) (0.13.0)\n",
            "Requirement already satisfied: tqdm>=4.62.0 in /usr/local/lib/python3.7/dist-packages (from matminer) (4.63.0)\n",
            "Requirement already satisfied: jsonschema>=3.2.0 in /usr/local/lib/python3.7/dist-packages (from matminer) (4.3.3)\n",
            "Requirement already satisfied: pymongo>=3.12.0 in /usr/local/lib/python3.7/dist-packages (from matminer) (4.0.2)\n",
            "Requirement already satisfied: pint>=0.17 in /usr/local/lib/python3.7/dist-packages (from matminer) (0.18)\n",
            "Requirement already satisfied: importlib-metadata in /usr/local/lib/python3.7/dist-packages (from jsonschema>=3.2.0->matminer) (4.11.3)\n",
            "Requirement already satisfied: attrs>=17.4.0 in /usr/local/lib/python3.7/dist-packages (from jsonschema>=3.2.0->matminer) (21.4.0)\n",
            "Requirement already satisfied: pyrsistent!=0.17.0,!=0.17.1,!=0.17.2,>=0.14.0 in /usr/local/lib/python3.7/dist-packages (from jsonschema>=3.2.0->matminer) (0.18.1)\n",
            "Requirement already satisfied: importlib-resources>=1.4.0 in /usr/local/lib/python3.7/dist-packages (from jsonschema>=3.2.0->matminer) (5.4.0)\n",
            "Requirement already satisfied: zipp>=3.1.0 in /usr/local/lib/python3.7/dist-packages (from importlib-resources>=1.4.0->jsonschema>=3.2.0->matminer) (3.7.0)\n",
            "Requirement already satisfied: pytz>=2017.3 in /usr/local/lib/python3.7/dist-packages (from pandas->pymatgen) (2018.9)\n",
            "Requirement already satisfied: packaging in /usr/local/lib/python3.7/dist-packages (from pint>=0.17->matminer) (21.3)\n",
            "Requirement already satisfied: urllib3<1.27,>=1.21.1 in /usr/local/lib/python3.7/dist-packages (from requests->pymatgen) (1.24.3)\n",
            "Requirement already satisfied: idna<4,>=2.5 in /usr/local/lib/python3.7/dist-packages (from requests->pymatgen) (2.10)\n",
            "Requirement already satisfied: certifi>=2017.4.17 in /usr/local/lib/python3.7/dist-packages (from requests->pymatgen) (2021.10.8)\n",
            "Requirement already satisfied: charset-normalizer~=2.0.0 in /usr/local/lib/python3.7/dist-packages (from requests->pymatgen) (2.0.12)\n",
            "Requirement already satisfied: threadpoolctl>=2.0.0 in /usr/local/lib/python3.7/dist-packages (from scikit-learn->dscribe) (3.1.0)\n",
            "Requirement already satisfied: mpmath>=0.19 in /usr/local/lib/python3.7/dist-packages (from sympy->pymatgen) (1.2.1)\n",
            "Requirement already satisfied: numba>=0.49 in /usr/local/lib/python3.7/dist-packages (from sparse->dscribe) (0.51.2)\n",
            "Requirement already satisfied: setuptools in /usr/local/lib/python3.7/dist-packages (from numba>=0.49->sparse->dscribe) (57.4.0)\n",
            "Requirement already satisfied: llvmlite<0.35,>=0.34.0.dev0 in /usr/local/lib/python3.7/dist-packages (from numba>=0.49->sparse->dscribe) (0.34.0)\n"
          ]
        }
      ]
    },
    {
      "cell_type": "code",
      "execution_count": null,
      "metadata": {
        "pycharm": {
          "name": "#%%\n"
        },
        "id": "1Xk7p9df5doL"
      },
      "outputs": [],
      "source": [
        "import numpy as np\n",
        "import pandas as pd\n",
        "from itertools import product, repeat\n",
        "from pymatgen.core import Element, Structure\n",
        "from tqdm import tqdm\n",
        "from matminer.utils.data import MagpieData\n",
        "from matplotlib import pyplot as plt\n",
        "\n",
        "import warnings\n",
        "warnings.filterwarnings('ignore') # игнорируем предупреждения"
      ]
    },
    {
      "cell_type": "markdown",
      "metadata": {
        "id": "7tJkwP545doQ"
      },
      "source": [
        "<h4>Пример использования библиотек pymatgen и matminer для получение feature-вектора, содержащего информацию об атомных массах элементов в структуре</h4>\n",
        "\n",
        "Вы можете использовать подобный подход, или добавить больше информации из упомянутых (или любых других) библиотек"
      ]
    },
    {
      "cell_type": "code",
      "execution_count": null,
      "metadata": {
        "id": "oqIpidEE5doT"
      },
      "outputs": [],
      "source": [
        "ELEMENTAL_PROPERTIES = [\n",
        "    \"AtomicWeight\",\n",
        "]\n",
        "\n",
        "\n",
        "def get_magpie_properties():\n",
        "    MD = MagpieData()\n",
        "    all_elem_values = []\n",
        "\n",
        "    for e in ELEMENTAL_PROPERTIES:\n",
        "        elem_values = []\n",
        "        for z in range(1, 93):\n",
        "            elem_values.append(\n",
        "                MD.get_elemental_property(Element.from_Z(z), e)\n",
        "            )\n",
        "        all_elem_values.append(dict(zip([str(Element.from_Z(z)) for z in range(1, 93)], elem_values)))\n",
        "\n",
        "    return dict(zip(ELEMENTAL_PROPERTIES, all_elem_values))\n",
        "\n",
        "\n",
        "\n",
        "def get_descriptors(structure):\n",
        "\n",
        "    feature_vector = []\n",
        "    \n",
        "    for e in ELEMENTAL_PROPERTIES:\n",
        "        temp_descrs = []\n",
        "        for i in structure:\n",
        "            temp_descrs.append(MAGPIE_PROPERTIES[e][str(i.specie)])    \n",
        "        feature_vector.append((min(temp_descrs)+min(temp_descrs))/len(temp_descrs))\n",
        "        feature_vector.append(min(temp_descrs))\n",
        "        feature_vector.append(max(temp_descrs))\n",
        "        \n",
        "    return np.array(feature_vector)\n",
        "\n",
        "\n",
        "MAGPIE_PROPERTIES = get_magpie_properties()"
      ]
    },
    {
      "cell_type": "code",
      "execution_count": null,
      "metadata": {
        "pycharm": {
          "name": "#%%\n"
        },
        "id": "ivOlv-Eh5doW",
        "colab": {
          "base_uri": "https://localhost:8080/",
          "height": 142
        },
        "outputId": "dcda6818-9f3f-460d-8d6f-f7620f82b63b"
      },
      "outputs": [
        {
          "output_type": "execute_result",
          "data": {
            "text/plain": [
              "  material_id       K_VRH\n",
              "0    mp-10003  194.268884\n",
              "1    mp-10010  175.449907\n",
              "2    mp-10015  295.077545"
            ],
            "text/html": [
              "\n",
              "  <div id=\"df-94f6e6d1-b416-49d0-aa05-3a2d24735f08\">\n",
              "    <div class=\"colab-df-container\">\n",
              "      <div>\n",
              "<style scoped>\n",
              "    .dataframe tbody tr th:only-of-type {\n",
              "        vertical-align: middle;\n",
              "    }\n",
              "\n",
              "    .dataframe tbody tr th {\n",
              "        vertical-align: top;\n",
              "    }\n",
              "\n",
              "    .dataframe thead th {\n",
              "        text-align: right;\n",
              "    }\n",
              "</style>\n",
              "<table border=\"1\" class=\"dataframe\">\n",
              "  <thead>\n",
              "    <tr style=\"text-align: right;\">\n",
              "      <th></th>\n",
              "      <th>material_id</th>\n",
              "      <th>K_VRH</th>\n",
              "    </tr>\n",
              "  </thead>\n",
              "  <tbody>\n",
              "    <tr>\n",
              "      <th>0</th>\n",
              "      <td>mp-10003</td>\n",
              "      <td>194.268884</td>\n",
              "    </tr>\n",
              "    <tr>\n",
              "      <th>1</th>\n",
              "      <td>mp-10010</td>\n",
              "      <td>175.449907</td>\n",
              "    </tr>\n",
              "    <tr>\n",
              "      <th>2</th>\n",
              "      <td>mp-10015</td>\n",
              "      <td>295.077545</td>\n",
              "    </tr>\n",
              "  </tbody>\n",
              "</table>\n",
              "</div>\n",
              "      <button class=\"colab-df-convert\" onclick=\"convertToInteractive('df-94f6e6d1-b416-49d0-aa05-3a2d24735f08')\"\n",
              "              title=\"Convert this dataframe to an interactive table.\"\n",
              "              style=\"display:none;\">\n",
              "        \n",
              "  <svg xmlns=\"http://www.w3.org/2000/svg\" height=\"24px\"viewBox=\"0 0 24 24\"\n",
              "       width=\"24px\">\n",
              "    <path d=\"M0 0h24v24H0V0z\" fill=\"none\"/>\n",
              "    <path d=\"M18.56 5.44l.94 2.06.94-2.06 2.06-.94-2.06-.94-.94-2.06-.94 2.06-2.06.94zm-11 1L8.5 8.5l.94-2.06 2.06-.94-2.06-.94L8.5 2.5l-.94 2.06-2.06.94zm10 10l.94 2.06.94-2.06 2.06-.94-2.06-.94-.94-2.06-.94 2.06-2.06.94z\"/><path d=\"M17.41 7.96l-1.37-1.37c-.4-.4-.92-.59-1.43-.59-.52 0-1.04.2-1.43.59L10.3 9.45l-7.72 7.72c-.78.78-.78 2.05 0 2.83L4 21.41c.39.39.9.59 1.41.59.51 0 1.02-.2 1.41-.59l7.78-7.78 2.81-2.81c.8-.78.8-2.07 0-2.86zM5.41 20L4 18.59l7.72-7.72 1.47 1.35L5.41 20z\"/>\n",
              "  </svg>\n",
              "      </button>\n",
              "      \n",
              "  <style>\n",
              "    .colab-df-container {\n",
              "      display:flex;\n",
              "      flex-wrap:wrap;\n",
              "      gap: 12px;\n",
              "    }\n",
              "\n",
              "    .colab-df-convert {\n",
              "      background-color: #E8F0FE;\n",
              "      border: none;\n",
              "      border-radius: 50%;\n",
              "      cursor: pointer;\n",
              "      display: none;\n",
              "      fill: #1967D2;\n",
              "      height: 32px;\n",
              "      padding: 0 0 0 0;\n",
              "      width: 32px;\n",
              "    }\n",
              "\n",
              "    .colab-df-convert:hover {\n",
              "      background-color: #E2EBFA;\n",
              "      box-shadow: 0px 1px 2px rgba(60, 64, 67, 0.3), 0px 1px 3px 1px rgba(60, 64, 67, 0.15);\n",
              "      fill: #174EA6;\n",
              "    }\n",
              "\n",
              "    [theme=dark] .colab-df-convert {\n",
              "      background-color: #3B4455;\n",
              "      fill: #D2E3FC;\n",
              "    }\n",
              "\n",
              "    [theme=dark] .colab-df-convert:hover {\n",
              "      background-color: #434B5C;\n",
              "      box-shadow: 0px 1px 3px 1px rgba(0, 0, 0, 0.15);\n",
              "      filter: drop-shadow(0px 1px 2px rgba(0, 0, 0, 0.3));\n",
              "      fill: #FFFFFF;\n",
              "    }\n",
              "  </style>\n",
              "\n",
              "      <script>\n",
              "        const buttonEl =\n",
              "          document.querySelector('#df-94f6e6d1-b416-49d0-aa05-3a2d24735f08 button.colab-df-convert');\n",
              "        buttonEl.style.display =\n",
              "          google.colab.kernel.accessAllowed ? 'block' : 'none';\n",
              "\n",
              "        async function convertToInteractive(key) {\n",
              "          const element = document.querySelector('#df-94f6e6d1-b416-49d0-aa05-3a2d24735f08');\n",
              "          const dataTable =\n",
              "            await google.colab.kernel.invokeFunction('convertToInteractive',\n",
              "                                                     [key], {});\n",
              "          if (!dataTable) return;\n",
              "\n",
              "          const docLinkHtml = 'Like what you see? Visit the ' +\n",
              "            '<a target=\"_blank\" href=https://colab.research.google.com/notebooks/data_table.ipynb>data table notebook</a>'\n",
              "            + ' to learn more about interactive tables.';\n",
              "          element.innerHTML = '';\n",
              "          dataTable['output_type'] = 'display_data';\n",
              "          await google.colab.output.renderOutput(dataTable, element);\n",
              "          const docLink = document.createElement('div');\n",
              "          docLink.innerHTML = docLinkHtml;\n",
              "          element.appendChild(docLink);\n",
              "        }\n",
              "      </script>\n",
              "    </div>\n",
              "  </div>\n",
              "  "
            ]
          },
          "metadata": {},
          "execution_count": 4
        }
      ],
      "source": [
        "\"\"\"\n",
        "Тут должен быть ваш код для загрузки датасета из файла bulk_id.csv и архиве bulk_cifs.zip, содержащей структуры.\n",
        "\n",
        "Структуры должны быть преобразованы в одномерные массивы, содержащие информацию об их химическом составе и\n",
        "кристаллографической структуре.\n",
        "\n",
        "На выходе ожидаются двухмерный массив features (признаковое описание) и\n",
        "одномерный массив modulus (список значений модулей сжатия), пригодные для дальнейшего обучения моделей.\n",
        "\n",
        "Порядок структур должен соответствовать колонке material_id в файле bulk_id.csv\n",
        "\"\"\"\n",
        "\n",
        "# import zipfile\n",
        "# with zipfile.ZipFile(\"/content/drive/MyDrive/bulk_cifs.zip\", 'r') as zip_ref:\n",
        "#     zip_ref.extractall(\"/content/drive/MyDrive/\")\n",
        "df = pd.read_csv('/content/drive/MyDrive/bulk_prop.csv')\n",
        "df.head(3)"
      ]
    },
    {
      "cell_type": "code",
      "source": [
        "df.info()"
      ],
      "metadata": {
        "colab": {
          "base_uri": "https://localhost:8080/"
        },
        "id": "pmex-Y-0Q_ia",
        "outputId": "35843df3-9f07-4e1c-919b-e120841939b3"
      },
      "execution_count": null,
      "outputs": [
        {
          "output_type": "stream",
          "name": "stdout",
          "text": [
            "<class 'pandas.core.frame.DataFrame'>\n",
            "RangeIndex: 1180 entries, 0 to 1179\n",
            "Data columns (total 2 columns):\n",
            " #   Column       Non-Null Count  Dtype  \n",
            "---  ------       --------------  -----  \n",
            " 0   material_id  1180 non-null   object \n",
            " 1   K_VRH        1180 non-null   float64\n",
            "dtypes: float64(1), object(1)\n",
            "memory usage: 18.6+ KB\n"
          ]
        }
      ]
    },
    {
      "cell_type": "code",
      "source": [
        "structures = [] # инициализируем список\n",
        "\n",
        "for material_id in df['material_id']:\n",
        "    # заполняем список объектами pymatgen.core.structure.Structure\n",
        "    structures.append(Structure.from_file(f'/content/drive/MyDrive/bulk_cifs/{material_id}.cif'))"
      ],
      "metadata": {
        "id": "hoQr5v5WJY5I"
      },
      "execution_count": null,
      "outputs": []
    },
    {
      "cell_type": "code",
      "source": [
        "X = []\n",
        "y = df['K_VRH'].values\n",
        "\n",
        "for i in range(len(structures)):\n",
        "  X.append(get_descriptors(structures[i]))"
      ],
      "metadata": {
        "id": "kfpfuPvDITcT"
      },
      "execution_count": null,
      "outputs": []
    },
    {
      "cell_type": "markdown",
      "metadata": {
        "id": "OuFtX81r5doY"
      },
      "source": [
        "#### Разобьем датасет на тренировочную и тестовую часть и воспользуемся кросс-валидацией, чтобы избежать переобучения\n"
      ]
    },
    {
      "cell_type": "markdown",
      "metadata": {
        "id": "_jZTVqhB5doY"
      },
      "source": [
        "Для воспроизводимости результатов, не изменяйте разбиение исходной выборки, установленное ниже (посредством **random_state**)."
      ]
    },
    {
      "cell_type": "code",
      "execution_count": null,
      "metadata": {
        "id": "PXS0hkkZ5doZ"
      },
      "outputs": [],
      "source": [
        "from math import sqrt\n",
        "from sklearn.metrics import r2_score, mean_squared_error, mean_absolute_error\n",
        "from sklearn.model_selection import KFold, cross_val_score, train_test_split\n",
        "from sklearn.preprocessing import MinMaxScaler\n",
        "from sklearn.feature_selection import VarianceThreshold\n",
        "\n",
        "X_train, X_test, y_train, y_test = train_test_split(X, y, test_size=0.2, random_state=42) \n",
        "\n",
        "scaler = MinMaxScaler() # инициализируем экземпляр класса MinMaxScaler\n",
        "scaler.fit(X_train) # получаем параметры MinMaxScaler исходя из обучающей выборки\n",
        "X_train = scaler.transform(X_train) # нормируем обучающую выборку\n",
        "X_test = scaler.transform(X_test) # нормируем тестовую выборку"
      ]
    },
    {
      "cell_type": "markdown",
      "metadata": {
        "id": "X1i5dPkG5doa"
      },
      "source": [
        "#### Натренируем выбранную вами модель"
      ]
    },
    {
      "cell_type": "markdown",
      "metadata": {
        "id": "hAL9PLe-5dob"
      },
      "source": [
        "Примеры алгоритмов, которыми вы может воспользоваться (но которыми не стоит ограничиваться)."
      ]
    },
    {
      "cell_type": "code",
      "execution_count": null,
      "metadata": {
        "id": "Q8CLP-du5doc"
      },
      "outputs": [],
      "source": [
        "from sklearn.linear_model import LinearRegression, Ridge\n",
        "from sklearn.neighbors import KNeighborsRegressor\n",
        "from sklearn.ensemble import RandomForestRegressor\n",
        "\n",
        "\n",
        "def get_regression_metrics(y_true, y_pred):\n",
        "    metrics = {} # инициализируем словарь и рассчитываем основные регрессионные метрики\n",
        "    metrics['R^2'] = round(r2_score(y_true, y_pred), 3) # коэффициент детерминации с точностью в 3 знака в дробной части\n",
        "    metrics['MAE'] = round(mean_absolute_error(y_true, y_pred), 3) # MAE с точностью в 3 знака в дробной части\n",
        "    metrics['RMSE'] = round(np.sqrt(mean_squared_error(y_true, y_pred)), 3) # RMSE с точностью в 3 знака пв дробной части\n",
        "    return metrics # возвращаем словарь со всеми метриками"
      ]
    },
    {
      "cell_type": "code",
      "source": [
        "model = LinearRegression() \n",
        "model.fit(X_train, y_train)\n",
        "print(model)\n",
        "print('train ', get_regression_metrics(y_train, model.predict(X_train)))\n",
        "print('test ', get_regression_metrics(y_test, model.predict(X_test)))"
      ],
      "metadata": {
        "colab": {
          "base_uri": "https://localhost:8080/"
        },
        "id": "derN-VkskPM3",
        "outputId": "b5222ada-f095-4e2d-913d-1aabd3912218"
      },
      "execution_count": null,
      "outputs": [
        {
          "output_type": "stream",
          "name": "stdout",
          "text": [
            "LinearRegression()\n",
            "train  {'R^2': 0.034, 'MAE': 59.38, 'RMSE': 71.531}\n",
            "test  {'R^2': 0.005, 'MAE': 59.549, 'RMSE': 70.351}\n"
          ]
        }
      ]
    },
    {
      "cell_type": "code",
      "source": [
        "model = Ridge(alpha=0.01)\n",
        "model.fit(X_train, y_train)\n",
        "print(model)\n",
        "print('train ', get_regression_metrics(y_train, model.predict(X_train)))\n",
        "print('test ', get_regression_metrics(y_test, model.predict(X_test)))"
      ],
      "metadata": {
        "colab": {
          "base_uri": "https://localhost:8080/"
        },
        "id": "J82_TG0kpH30",
        "outputId": "93640e1d-5181-408c-8127-143a37a734b3"
      },
      "execution_count": null,
      "outputs": [
        {
          "output_type": "stream",
          "name": "stdout",
          "text": [
            "Ridge(alpha=0.01)\n",
            "train  {'R^2': 0.034, 'MAE': 59.38, 'RMSE': 71.531}\n",
            "test  {'R^2': 0.005, 'MAE': 59.549, 'RMSE': 70.352}\n"
          ]
        }
      ]
    },
    {
      "cell_type": "code",
      "source": [
        "model = KNeighborsRegressor() \n",
        "model.fit(X_train, y_train)\n",
        "print(model)\n",
        "print('train ', get_regression_metrics(y_train, model.predict(X_train)))\n",
        "print('test ', get_regression_metrics(y_test, model.predict(X_test)))"
      ],
      "metadata": {
        "colab": {
          "base_uri": "https://localhost:8080/"
        },
        "id": "-lHV3Mn6kPKp",
        "outputId": "f5c302ae-0a9f-4ed3-d140-225e46442811"
      },
      "execution_count": null,
      "outputs": [
        {
          "output_type": "stream",
          "name": "stdout",
          "text": [
            "KNeighborsRegressor()\n",
            "train  {'R^2': 0.688, 'MAE': 29.259, 'RMSE': 40.671}\n",
            "test  {'R^2': 0.521, 'MAE': 35.71, 'RMSE': 48.825}\n"
          ]
        }
      ]
    },
    {
      "cell_type": "code",
      "source": [
        "model = RandomForestRegressor() \n",
        "model.fit(X_train, y_train)\n",
        "print(model)\n",
        "print('train ', get_regression_metrics(y_train, model.predict(X_train)))\n",
        "print('test ', get_regression_metrics(y_test, model.predict(X_test)))"
      ],
      "metadata": {
        "colab": {
          "base_uri": "https://localhost:8080/"
        },
        "id": "_oosrIOHhamm",
        "outputId": "dfbe51cb-288f-4a91-bf2a-41ef5e3bb856"
      },
      "execution_count": null,
      "outputs": [
        {
          "output_type": "stream",
          "name": "stdout",
          "text": [
            "RandomForestRegressor()\n",
            "train  {'R^2': 0.946, 'MAE': 12.206, 'RMSE': 16.903}\n",
            "test  {'R^2': 0.71, 'MAE': 26.884, 'RMSE': 37.963}\n"
          ]
        }
      ]
    },
    {
      "cell_type": "code",
      "source": [
        "def reg_plot(y_true, y_pred, label='', units=''):\n",
        "    plt.figure(figsize=(7, 7)) # задаем размер графика\n",
        "    ax_min = np.min(np.hstack((y_true, y_pred))) - 0.5 # рассчитываем минимальное значение, отложенное на обеих осях\n",
        "    ax_max = np.max(np.hstack((y_true, y_pred))) + 0.5 # рассчитываем максимальное значение, отложенное на обеих осях\n",
        "    plt.xlim(ax_min, ax_max) # задаем диапазон значений для оси абсцисс\n",
        "    plt.ylim(ax_min, ax_max) # задаем диапазон значений для оси ординат\n",
        "    plt.scatter(y_true, y_pred, marker='*') # наносим на график точки с координатами (y_true_i, y_pred_i)\n",
        "    plt.plot([ax_min, ax_max], [ax_min, ax_max], color='k', linestyle='-.') # штрихпунктирная линия x=y\n",
        "    plt.xlabel(f'{label} calculated, [{units}]') # подпись к оси абсцисс\n",
        "    plt.ylabel(f'{label} predicted, [{units}]') # подпись к оси ординат\n",
        "    plt.gca().set_aspect('equal', adjustable='box') # задаём равный масштаб по оси абсцисс и ординат"
      ],
      "metadata": {
        "id": "TFJ_J4mbgK6i"
      },
      "execution_count": null,
      "outputs": []
    },
    {
      "cell_type": "code",
      "execution_count": null,
      "metadata": {
        "id": "u2YdLDSa5doi",
        "outputId": "f3dd01b3-c382-49d3-8927-a35922132eb3",
        "colab": {
          "base_uri": "https://localhost:8080/",
          "height": 443
        }
      },
      "outputs": [
        {
          "output_type": "display_data",
          "data": {
            "text/plain": [
              "<Figure size 504x504 with 1 Axes>"
            ],
            "image/png": "[encoded data removed]"
          },
          "metadata": {
            "needs_background": "light"
          }
        }
      ],
      "source": [
        "reg_plot(y_test, model.predict(X_test), label='K_VRH', units='GPa')"
      ]
    },
    {
      "cell_type": "code",
      "source": [],
      "metadata": {
        "id": "V8EgRA70qk0r"
      },
      "execution_count": null,
      "outputs": []
    },
    {
      "cell_type": "code",
      "source": [
        "from matminer.featurizers.structure.bonding import BagofBonds\n",
        "from matminer.featurizers.structure.matrix import CoulombMatrix\n",
        "\n",
        "featurizer = BagofBonds(coulomb_matrix=CoulombMatrix(flatten=False)) # инициализируем bag of bonds\n",
        "featurizer.fit(structures) # формируем bag of bonds\n",
        "X = np.array(featurizer.featurize_many(structures)) # рассчитываем bag of bonds для каждой структуры"
      ],
      "metadata": {
        "colab": {
          "base_uri": "https://localhost:8080/",
          "height": 49,
          "referenced_widgets": [
            "0c2bd48772bf4f5b9e648aa16f899f54",
            "11945e814e344ec98bb2512970cf9233",
            "c704aa3db6d04056929d0bfea74b4edd",
            "352f90af7fee448384ef13faa15e8faa",
            "5cadbef475ba464094ce669b6a669069",
            "7c8f376642b24b3c8e10c1c4b9ee59e2",
            "b725f2e3373f4634a1fa579750bc223d",
            "f57acaaeee6a4007b4461630d7792626",
            "f29265570b79467f92c3050e47641c72",
            "3cfb2c35c6cc4c6bad2327c693a4c947",
            "6ccb5c0b36274abfa6a74973e8027d0e"
          ]
        },
        "id": "XetjZRrnqkyj",
        "outputId": "5ad8dfb9-e5f0-468f-9a44-125fd3ab9965"
      },
      "execution_count": null,
      "outputs": [
        {
          "output_type": "display_data",
          "data": {
            "text/plain": [
              "BagofBonds:   0%|          | 0/1180 [00:00<?, ?it/s]"
            ],
            "application/vnd.jupyter.widget-view+json": {
              "version_major": 2,
              "version_minor": 0,
              "model_id": "0c2bd48772bf4f5b9e648aa16f899f54"
            }
          },
          "metadata": {}
        }
      ]
    },
    {
      "cell_type": "code",
      "source": [
        "X_train, X_test, y_train, y_test = train_test_split(X, y, test_size=0.2, random_state=42) \n",
        "\n",
        "scaler = MinMaxScaler() # инициализируем экземпляр класса MinMaxScaler\n",
        "scaler.fit(X_train) # получаем параметры MinMaxScaler исходя из обучающей выборки\n",
        "X_train = scaler.transform(X_train) # нормируем обучающую выборку\n",
        "X_test = scaler.transform(X_test) # нормируем тестовую выборку\n",
        "\n",
        "selector = VarianceThreshold(threshold=1e-2) # инициализируем экземпляр класса VarianceThreshold\n",
        "selector.fit(X_train) # расчёт дисперсии признаков на обучающей выборке\n",
        "X_train = selector.transform(X_train) # отсев признаков с низкой дисперсией для объектов из обучающей выборки\n",
        "X_test = selector.transform(X_test) # отсев признаков с низкой дисперсией для объектов из тестовой выборки\n",
        "\n",
        "model = RandomForestRegressor()\n",
        "model.fit(X_train, y_train)\n",
        "print(model)\n",
        "print('train ', get_regression_metrics(y_train, model.predict(X_train)))\n",
        "print('test ', get_regression_metrics(y_test, model.predict(X_test)))"
      ],
      "metadata": {
        "colab": {
          "base_uri": "https://localhost:8080/"
        },
        "id": "pvdYIrtItR1e",
        "outputId": "35b12b93-3077-4ee3-c552-4171ca747a88"
      },
      "execution_count": null,
      "outputs": [
        {
          "output_type": "stream",
          "name": "stdout",
          "text": [
            "RandomForestRegressor()\n",
            "train  {'R^2': 0.929, 'MAE': 11.459, 'RMSE': 19.381}\n",
            "test  {'R^2': 0.679, 'MAE': 27.628, 'RMSE': 39.976}\n"
          ]
        }
      ]
    },
    {
      "cell_type": "code",
      "source": [
        "model = KNeighborsRegressor() \n",
        "model.fit(X_train, y_train)\n",
        "print(model)\n",
        "print('train ', get_regression_metrics(y_train, model.predict(X_train)))\n",
        "print('test ', get_regression_metrics(y_test, model.predict(X_test)))"
      ],
      "metadata": {
        "colab": {
          "base_uri": "https://localhost:8080/"
        },
        "id": "WgozDo6UnuWw",
        "outputId": "a5baf83f-6b6d-474a-a57d-12ef56e4fbd0"
      },
      "execution_count": null,
      "outputs": [
        {
          "output_type": "stream",
          "name": "stdout",
          "text": [
            "KNeighborsRegressor()\n",
            "train  {'R^2': 0.684, 'MAE': 26.913, 'RMSE': 40.939}\n",
            "test  {'R^2': 0.549, 'MAE': 34.415, 'RMSE': 47.354}\n"
          ]
        }
      ]
    },
    {
      "cell_type": "code",
      "source": [
        "model = Ridge(alpha=0.01)\n",
        "model.fit(X_train, y_train)\n",
        "print(model)\n",
        "print('train ', get_regression_metrics(y_train, model.predict(X_train)))\n",
        "print('test ', get_regression_metrics(y_test, model.predict(X_test)))"
      ],
      "metadata": {
        "colab": {
          "base_uri": "https://localhost:8080/"
        },
        "id": "TVOpiKDNtpAF",
        "outputId": "c5166f2f-102f-4470-8ad1-399c7d022b5a"
      },
      "execution_count": null,
      "outputs": [
        {
          "output_type": "stream",
          "name": "stdout",
          "text": [
            "Ridge(alpha=0.01)\n",
            "train  {'R^2': 0.843, 'MAE': 18.367, 'RMSE': 28.824}\n",
            "test  {'R^2': 0.571, 'MAE': 32.688, 'RMSE': 46.197}\n"
          ]
        }
      ]
    },
    {
      "cell_type": "code",
      "source": [
        "from pymatgen.core import Element\n",
        "from matminer.featurizers.composition.element import ElementFraction\n",
        "from megnet.data.crystal import get_elemental_embeddings\n",
        "\n",
        "featurizer = ElementFraction() # инициализируем экземпляр класса ElementFraction\n",
        "compositions = [s.composition for s in structures]\n",
        "X = np.array(featurizer.featurize_many(compositions))\n",
        "\n",
        "X_train, X_test, y_train, y_test = train_test_split(X, y, test_size=0.2, random_state=42) \n",
        "\n",
        "scaler = MinMaxScaler() # инициализируем экземпляр класса MinMaxScaler\n",
        "scaler.fit(X_train) # получаем параметры MinMaxScaler исходя из обучающей выборки\n",
        "X_train = scaler.transform(X_train) # нормируем обучающую выборку\n",
        "X_test = scaler.transform(X_test) # нормируем тестовую выборку\n",
        "\n",
        "model = RandomForestRegressor() \n",
        "model.fit(X_train, y_train)\n",
        "print(model)\n",
        "print('train ', get_regression_metrics(y_train, model.predict(X_train)))\n",
        "print('test ', get_regression_metrics(y_test, model.predict(X_test)))"
      ],
      "metadata": {
        "colab": {
          "base_uri": "https://localhost:8080/",
          "height": 100,
          "referenced_widgets": [
            "9c82544fa1964f9faade0966c74b260e",
            "09ad5aeccde6493b9e3c47d20b22de95",
            "0367975294de4c0d969f7fda26adc64c",
            "cc03cef5ba15469ea64849f10f556211",
            "0a5c64072ec04fe0af889560261a7e9c",
            "a304996190cc4fb88c79171b877c03ee",
            "1b6ed1a1acdb4e478121e5e3e212dd7c",
            "756a8bf0b908455890c9328425b93653",
            "4ad2344dac504981a61d78fc99ce0db4",
            "1bc81c42e8e04099b18f44a2e6064e51",
            "ec79ef51d64c4c65a85dc7555f480240"
          ]
        },
        "id": "u40CwsKBeXDk",
        "outputId": "aba4de3b-b2cd-46d2-bbc1-32dfa25f65bc"
      },
      "execution_count": null,
      "outputs": [
        {
          "output_type": "display_data",
          "data": {
            "text/plain": [
              "ElementFraction:   0%|          | 0/1180 [00:00<?, ?it/s]"
            ],
            "application/vnd.jupyter.widget-view+json": {
              "version_major": 2,
              "version_minor": 0,
              "model_id": "9c82544fa1964f9faade0966c74b260e"
            }
          },
          "metadata": {}
        },
        {
          "output_type": "stream",
          "name": "stdout",
          "text": [
            "RandomForestRegressor()\n",
            "train  {'R^2': 0.976, 'MAE': 7.243, 'RMSE': 11.363}\n",
            "test  {'R^2': 0.85, 'MAE': 18.01, 'RMSE': 27.341}\n"
          ]
        }
      ]
    },
    {
      "cell_type": "code",
      "source": [
        "model = KNeighborsRegressor() \n",
        "model.fit(X_train, y_train)\n",
        "print(model)\n",
        "print('train ', get_regression_metrics(y_train, model.predict(X_train)))\n",
        "print('test ', get_regression_metrics(y_test, model.predict(X_test)))"
      ],
      "metadata": {
        "colab": {
          "base_uri": "https://localhost:8080/"
        },
        "id": "T4_qORLJqXRY",
        "outputId": "9c424335-6dec-4482-c5e6-46b1021251cc"
      },
      "execution_count": null,
      "outputs": [
        {
          "output_type": "stream",
          "name": "stdout",
          "text": [
            "KNeighborsRegressor()\n",
            "train  {'R^2': 0.863, 'MAE': 18.336, 'RMSE': 26.952}\n",
            "test  {'R^2': 0.75, 'MAE': 24.089, 'RMSE': 35.266}\n"
          ]
        }
      ]
    },
    {
      "cell_type": "code",
      "source": [
        "model = Ridge(alpha=0.01)\n",
        "model.fit(X_train, y_train)\n",
        "print(model)\n",
        "print('train ', get_regression_metrics(y_train, model.predict(X_train)))\n",
        "print('test ', get_regression_metrics(y_test, model.predict(X_test)))"
      ],
      "metadata": {
        "colab": {
          "base_uri": "https://localhost:8080/"
        },
        "id": "YNJaDwxEqd_O",
        "outputId": "ada13e71-9a7e-4553-f749-8394cd8a4b10"
      },
      "execution_count": null,
      "outputs": [
        {
          "output_type": "stream",
          "name": "stdout",
          "text": [
            "Ridge(alpha=0.01)\n",
            "train  {'R^2': 0.902, 'MAE': 15.752, 'RMSE': 22.821}\n",
            "test  {'R^2': 0.835, 'MAE': 18.649, 'RMSE': 28.606}\n"
          ]
        }
      ]
    },
    {
      "cell_type": "code",
      "source": [
        "from megnet.utils.models import load_model\n",
        "model = load_model(\"logK_MP_2018\")"
      ],
      "metadata": {
        "colab": {
          "base_uri": "https://localhost:8080/"
        },
        "id": "ixf9WEcguyF8",
        "outputId": "a3c57a35-4dd8-4a71-cd45-544d6a39ace2"
      },
      "execution_count": null,
      "outputs": [
        {
          "output_type": "stream",
          "name": "stderr",
          "text": [
            "INFO:megnet.utils.models:Package-level mvl_models not included, trying temperary mvl_models downloads..\n",
            "INFO:megnet.utils.models:Model found in local mvl_models path\n"
          ]
        }
      ]
    },
    {
      "cell_type": "code",
      "source": [
        "y_pred = []\n",
        "for i in range(291, 909):\n",
        "  # print(i)\n",
        "  y_pred.append(10 ** model.predict_structure(structures[i]))"
      ],
      "metadata": {
        "id": "DR6P9UyVz_Oy"
      },
      "execution_count": null,
      "outputs": []
    },
    {
      "cell_type": "code",
      "source": [
        "get_regression_metrics(y[291:909], y_pred)"
      ],
      "metadata": {
        "colab": {
          "base_uri": "https://localhost:8080/"
        },
        "id": "__Iocc9eUBI4",
        "outputId": "02bc8c4e-a073-48e3-9246-b868aa5a597c"
      },
      "execution_count": null,
      "outputs": [
        {
          "output_type": "execute_result",
          "data": {
            "text/plain": [
              "{'MAE': 2.885, 'RMSE': 5.05, 'R^2': 0.995}"
            ]
          },
          "metadata": {},
          "execution_count": 37
        }
      ]
    },
    {
      "cell_type": "code",
      "source": [],
      "metadata": {
        "id": "HschyuPAgm1g"
      },
      "execution_count": null,
      "outputs": []
    },
    {
      "cell_type": "code",
      "source": [],
      "metadata": {
        "id": "YI8ycQaMr6-9"
      },
      "execution_count": null,
      "outputs": []
    },
    {
      "cell_type": "code",
      "source": [],
      "metadata": {
        "id": "Qh4QhvlYr68B"
      },
      "execution_count": null,
      "outputs": []
    },
    {
      "cell_type": "code",
      "source": [],
      "metadata": {
        "id": "sJ-PMWKkr63S"
      },
      "execution_count": null,
      "outputs": []
    },
    {
      "cell_type": "code",
      "source": [
        "import tensorflow as tf\n",
        "dim_input = X.shape[1]\n",
        "\n",
        "# Формирование модели\n",
        "model = tf.keras.models.Sequential([\n",
        "  tf.keras.layers.Dense(dim_input, activation='relu'),\n",
        "  tf.keras.layers.Dense(512, activation='relu'), \n",
        "  tf.keras.layers.Dense(124, activation='relu'),\n",
        "  tf.keras.layers.Dense(1)\n",
        "])\n",
        "\n",
        "model.compile(loss='mean_absolute_error',\n",
        "                optimizer='sgd')\n"
      ],
      "metadata": {
        "id": "zA3GqJOwrqiD"
      },
      "execution_count": null,
      "outputs": []
    },
    {
      "cell_type": "code",
      "source": [
        "model.fit(X_train, y_train, epochs=150)"
      ],
      "metadata": {
        "colab": {
          "base_uri": "https://localhost:8080/"
        },
        "id": "biPWF9pvrqfL",
        "outputId": "ba97e39e-cec1-4c22-e41d-6314bbb4b9ff"
      },
      "execution_count": null,
      "outputs": [
        {
          "output_type": "stream",
          "name": "stdout",
          "text": [
            "Epoch 1/150\n",
            "30/30 [==============================] - 7s 51ms/step - loss: 136.4394\n",
            "Epoch 2/150\n",
            "30/30 [==============================] - 0s 4ms/step - loss: 135.0422\n",
            "Epoch 3/150\n",
            "30/30 [==============================] - 0s 4ms/step - loss: 128.4627\n",
            "Epoch 4/150\n",
            "30/30 [==============================] - 0s 5ms/step - loss: 68.0605\n",
            "Epoch 5/150\n",
            "30/30 [==============================] - 0s 4ms/step - loss: 52.9609\n",
            "Epoch 6/150\n",
            "30/30 [==============================] - 0s 5ms/step - loss: 42.9765\n",
            "Epoch 7/150\n",
            "30/30 [==============================] - 1s 20ms/step - loss: 37.6923\n",
            "Epoch 8/150\n",
            "30/30 [==============================] - 0s 11ms/step - loss: 35.3033\n",
            "Epoch 9/150\n",
            "30/30 [==============================] - 0s 16ms/step - loss: 34.3652\n",
            "Epoch 10/150\n",
            "30/30 [==============================] - 0s 3ms/step - loss: 31.9851\n",
            "Epoch 11/150\n",
            "30/30 [==============================] - 0s 3ms/step - loss: 33.7540\n",
            "Epoch 12/150\n",
            "30/30 [==============================] - 0s 3ms/step - loss: 31.4087\n",
            "Epoch 13/150\n",
            "30/30 [==============================] - 0s 3ms/step - loss: 28.6824\n",
            "Epoch 14/150\n",
            "30/30 [==============================] - 0s 3ms/step - loss: 29.5036\n",
            "Epoch 15/150\n",
            "30/30 [==============================] - 0s 3ms/step - loss: 29.1373\n",
            "Epoch 16/150\n",
            "30/30 [==============================] - 0s 3ms/step - loss: 26.6045\n",
            "Epoch 17/150\n",
            "30/30 [==============================] - 1s 23ms/step - loss: 28.2668\n",
            "Epoch 18/150\n",
            "30/30 [==============================] - 0s 3ms/step - loss: 26.2950\n",
            "Epoch 19/150\n",
            "30/30 [==============================] - 0s 3ms/step - loss: 25.8964\n",
            "Epoch 20/150\n",
            "30/30 [==============================] - 1s 24ms/step - loss: 22.0971\n",
            "Epoch 21/150\n",
            "30/30 [==============================] - 0s 3ms/step - loss: 25.1072\n",
            "Epoch 22/150\n",
            "30/30 [==============================] - 0s 3ms/step - loss: 26.2172\n",
            "Epoch 23/150\n",
            "30/30 [==============================] - 0s 3ms/step - loss: 24.6687\n",
            "Epoch 24/150\n",
            "30/30 [==============================] - 0s 4ms/step - loss: 24.4098\n",
            "Epoch 25/150\n",
            "30/30 [==============================] - 0s 4ms/step - loss: 24.4812\n",
            "Epoch 26/150\n",
            "30/30 [==============================] - 0s 3ms/step - loss: 25.2095\n",
            "Epoch 27/150\n",
            "30/30 [==============================] - 0s 3ms/step - loss: 23.4480\n",
            "Epoch 28/150\n",
            "30/30 [==============================] - 0s 3ms/step - loss: 23.6106\n",
            "Epoch 29/150\n",
            "30/30 [==============================] - 0s 3ms/step - loss: 24.3301\n",
            "Epoch 30/150\n",
            "30/30 [==============================] - 0s 11ms/step - loss: 25.8850\n",
            "Epoch 31/150\n",
            "30/30 [==============================] - 0s 3ms/step - loss: 24.9545\n",
            "Epoch 32/150\n",
            "30/30 [==============================] - 0s 3ms/step - loss: 21.4726\n",
            "Epoch 33/150\n",
            "30/30 [==============================] - 0s 3ms/step - loss: 23.5041\n",
            "Epoch 34/150\n",
            "30/30 [==============================] - 0s 3ms/step - loss: 21.0028\n",
            "Epoch 35/150\n",
            "30/30 [==============================] - 0s 3ms/step - loss: 19.9403\n",
            "Epoch 36/150\n",
            "30/30 [==============================] - 0s 3ms/step - loss: 22.7566\n",
            "Epoch 37/150\n",
            "30/30 [==============================] - 0s 10ms/step - loss: 21.7109\n",
            "Epoch 38/150\n",
            "30/30 [==============================] - 0s 3ms/step - loss: 22.2320\n",
            "Epoch 39/150\n",
            "30/30 [==============================] - 0s 3ms/step - loss: 21.7272\n",
            "Epoch 40/150\n",
            "30/30 [==============================] - 1s 24ms/step - loss: 20.7425\n",
            "Epoch 41/150\n",
            "30/30 [==============================] - 0s 3ms/step - loss: 21.8049\n",
            "Epoch 42/150\n",
            "30/30 [==============================] - 0s 3ms/step - loss: 19.4037\n",
            "Epoch 43/150\n",
            "30/30 [==============================] - 0s 3ms/step - loss: 19.9806\n",
            "Epoch 44/150\n",
            "30/30 [==============================] - 0s 3ms/step - loss: 20.0045\n",
            "Epoch 45/150\n",
            "30/30 [==============================] - 0s 3ms/step - loss: 19.2861\n",
            "Epoch 46/150\n",
            "30/30 [==============================] - 0s 3ms/step - loss: 20.8499\n",
            "Epoch 47/150\n",
            "30/30 [==============================] - 0s 3ms/step - loss: 20.7132\n",
            "Epoch 48/150\n",
            "30/30 [==============================] - 0s 3ms/step - loss: 20.7460\n",
            "Epoch 49/150\n",
            "30/30 [==============================] - 0s 3ms/step - loss: 20.0792\n",
            "Epoch 50/150\n",
            "30/30 [==============================] - 0s 3ms/step - loss: 18.4720\n",
            "Epoch 51/150\n",
            "30/30 [==============================] - 0s 3ms/step - loss: 19.4403\n",
            "Epoch 52/150\n",
            "30/30 [==============================] - 0s 3ms/step - loss: 20.7366\n",
            "Epoch 53/150\n",
            "30/30 [==============================] - 0s 3ms/step - loss: 20.2983\n",
            "Epoch 54/150\n",
            "30/30 [==============================] - 0s 3ms/step - loss: 20.1656\n",
            "Epoch 55/150\n",
            "30/30 [==============================] - 0s 3ms/step - loss: 17.9578\n",
            "Epoch 56/150\n",
            "30/30 [==============================] - 0s 3ms/step - loss: 18.3519\n",
            "Epoch 57/150\n",
            "30/30 [==============================] - 0s 3ms/step - loss: 18.0297\n",
            "Epoch 58/150\n",
            "30/30 [==============================] - 0s 8ms/step - loss: 18.4926\n",
            "Epoch 59/150\n",
            "30/30 [==============================] - 0s 3ms/step - loss: 20.0492\n",
            "Epoch 60/150\n",
            "30/30 [==============================] - 0s 3ms/step - loss: 18.9184\n",
            "Epoch 61/150\n",
            "30/30 [==============================] - 1s 23ms/step - loss: 20.6664\n",
            "Epoch 62/150\n",
            "30/30 [==============================] - 0s 3ms/step - loss: 18.4583\n",
            "Epoch 63/150\n",
            "30/30 [==============================] - 0s 3ms/step - loss: 18.4282\n",
            "Epoch 64/150\n",
            "30/30 [==============================] - 0s 3ms/step - loss: 17.4687\n",
            "Epoch 65/150\n",
            "30/30 [==============================] - 0s 3ms/step - loss: 17.8913\n",
            "Epoch 66/150\n",
            "30/30 [==============================] - 0s 3ms/step - loss: 18.9822\n",
            "Epoch 67/150\n",
            "30/30 [==============================] - 0s 3ms/step - loss: 17.1155\n",
            "Epoch 68/150\n",
            "30/30 [==============================] - 0s 3ms/step - loss: 17.6129\n",
            "Epoch 69/150\n",
            "30/30 [==============================] - 0s 3ms/step - loss: 19.0523\n",
            "Epoch 70/150\n",
            "30/30 [==============================] - 0s 3ms/step - loss: 19.4450\n",
            "Epoch 71/150\n",
            "30/30 [==============================] - 0s 3ms/step - loss: 16.9219\n",
            "Epoch 72/150\n",
            "30/30 [==============================] - 0s 11ms/step - loss: 17.2054\n",
            "Epoch 73/150\n",
            "30/30 [==============================] - 0s 3ms/step - loss: 16.6291\n",
            "Epoch 74/150\n",
            "30/30 [==============================] - 0s 3ms/step - loss: 17.8035\n",
            "Epoch 75/150\n",
            "30/30 [==============================] - 0s 3ms/step - loss: 17.8180\n",
            "Epoch 76/150\n",
            "30/30 [==============================] - 0s 3ms/step - loss: 17.2645\n",
            "Epoch 77/150\n",
            "30/30 [==============================] - 0s 3ms/step - loss: 18.1764\n",
            "Epoch 78/150\n",
            "30/30 [==============================] - 0s 3ms/step - loss: 16.3163\n",
            "Epoch 79/150\n",
            "30/30 [==============================] - 0s 3ms/step - loss: 15.5910\n",
            "Epoch 80/150\n",
            "30/30 [==============================] - 0s 3ms/step - loss: 17.2233\n",
            "Epoch 81/150\n",
            "30/30 [==============================] - 0s 3ms/step - loss: 16.2605\n",
            "Epoch 82/150\n",
            "30/30 [==============================] - 0s 3ms/step - loss: 16.8079\n",
            "Epoch 83/150\n",
            "30/30 [==============================] - 0s 3ms/step - loss: 17.4672\n",
            "Epoch 84/150\n",
            "30/30 [==============================] - 0s 3ms/step - loss: 16.6222\n",
            "Epoch 85/150\n",
            "30/30 [==============================] - 0s 3ms/step - loss: 16.9718\n",
            "Epoch 86/150\n",
            "30/30 [==============================] - 1s 22ms/step - loss: 17.1084\n",
            "Epoch 87/150\n",
            "30/30 [==============================] - 0s 3ms/step - loss: 16.8733\n",
            "Epoch 88/150\n",
            "30/30 [==============================] - 0s 3ms/step - loss: 16.9806\n",
            "Epoch 89/150\n",
            "30/30 [==============================] - 0s 3ms/step - loss: 16.6236\n",
            "Epoch 90/150\n",
            "30/30 [==============================] - 0s 3ms/step - loss: 16.6314\n",
            "Epoch 91/150\n",
            "30/30 [==============================] - 0s 3ms/step - loss: 17.7108\n",
            "Epoch 92/150\n",
            "30/30 [==============================] - 0s 3ms/step - loss: 15.3760\n",
            "Epoch 93/150\n",
            "30/30 [==============================] - 0s 3ms/step - loss: 18.7802\n",
            "Epoch 94/150\n",
            "30/30 [==============================] - 0s 3ms/step - loss: 16.5633\n",
            "Epoch 95/150\n",
            "30/30 [==============================] - 0s 3ms/step - loss: 17.2016\n",
            "Epoch 96/150\n",
            "30/30 [==============================] - 0s 8ms/step - loss: 17.3663\n",
            "Epoch 97/150\n",
            "30/30 [==============================] - 0s 3ms/step - loss: 18.2516\n",
            "Epoch 98/150\n",
            "30/30 [==============================] - 0s 3ms/step - loss: 15.0051\n",
            "Epoch 99/150\n",
            "30/30 [==============================] - 0s 3ms/step - loss: 16.7924\n",
            "Epoch 100/150\n",
            "30/30 [==============================] - 0s 3ms/step - loss: 16.9453\n",
            "Epoch 101/150\n",
            "30/30 [==============================] - 0s 3ms/step - loss: 16.3543\n",
            "Epoch 102/150\n",
            "30/30 [==============================] - 0s 3ms/step - loss: 13.9060\n",
            "Epoch 103/150\n",
            "30/30 [==============================] - 0s 3ms/step - loss: 16.3779\n",
            "Epoch 104/150\n",
            "30/30 [==============================] - 0s 3ms/step - loss: 16.4683\n",
            "Epoch 105/150\n",
            "30/30 [==============================] - 0s 3ms/step - loss: 15.3677\n",
            "Epoch 106/150\n",
            "30/30 [==============================] - 0s 3ms/step - loss: 16.0180\n",
            "Epoch 107/150\n",
            "30/30 [==============================] - 0s 9ms/step - loss: 16.3830\n",
            "Epoch 108/150\n",
            "30/30 [==============================] - 0s 3ms/step - loss: 15.6508\n",
            "Epoch 109/150\n",
            "30/30 [==============================] - 0s 3ms/step - loss: 14.5156\n",
            "Epoch 110/150\n",
            "30/30 [==============================] - 0s 3ms/step - loss: 15.9668\n",
            "Epoch 111/150\n",
            "30/30 [==============================] - 0s 3ms/step - loss: 15.6527\n",
            "Epoch 112/150\n",
            "30/30 [==============================] - 0s 3ms/step - loss: 14.9182\n",
            "Epoch 113/150\n",
            "30/30 [==============================] - 0s 3ms/step - loss: 14.9480\n",
            "Epoch 114/150\n",
            "30/30 [==============================] - 0s 3ms/step - loss: 16.5675\n",
            "Epoch 115/150\n",
            "30/30 [==============================] - 0s 7ms/step - loss: 14.9971\n",
            "Epoch 116/150\n",
            "30/30 [==============================] - 0s 3ms/step - loss: 13.9596\n",
            "Epoch 117/150\n",
            "30/30 [==============================] - 0s 3ms/step - loss: 14.3737\n",
            "Epoch 118/150\n",
            "30/30 [==============================] - 0s 3ms/step - loss: 14.2841\n",
            "Epoch 119/150\n",
            "30/30 [==============================] - 0s 3ms/step - loss: 16.4794\n",
            "Epoch 120/150\n",
            "30/30 [==============================] - 0s 3ms/step - loss: 15.3328\n",
            "Epoch 121/150\n",
            "30/30 [==============================] - 0s 3ms/step - loss: 15.7245\n",
            "Epoch 122/150\n",
            "30/30 [==============================] - 0s 3ms/step - loss: 15.3368\n",
            "Epoch 123/150\n",
            "30/30 [==============================] - 0s 3ms/step - loss: 13.8650\n",
            "Epoch 124/150\n",
            "30/30 [==============================] - 0s 3ms/step - loss: 13.6011\n",
            "Epoch 125/150\n",
            "30/30 [==============================] - 0s 3ms/step - loss: 16.3133\n",
            "Epoch 126/150\n",
            "30/30 [==============================] - 0s 3ms/step - loss: 16.0811\n",
            "Epoch 127/150\n",
            "30/30 [==============================] - 0s 3ms/step - loss: 14.3405\n",
            "Epoch 128/150\n",
            "30/30 [==============================] - 0s 3ms/step - loss: 13.6970\n",
            "Epoch 129/150\n",
            "30/30 [==============================] - 0s 3ms/step - loss: 14.0963\n",
            "Epoch 130/150\n",
            "30/30 [==============================] - 0s 3ms/step - loss: 14.9840\n",
            "Epoch 131/150\n",
            "30/30 [==============================] - 0s 3ms/step - loss: 14.7258\n",
            "Epoch 132/150\n",
            "30/30 [==============================] - 0s 3ms/step - loss: 12.2456\n",
            "Epoch 133/150\n",
            "30/30 [==============================] - 0s 13ms/step - loss: 14.6794\n",
            "Epoch 134/150\n",
            "30/30 [==============================] - 0s 3ms/step - loss: 15.1477\n",
            "Epoch 135/150\n",
            "30/30 [==============================] - 0s 3ms/step - loss: 15.2175\n",
            "Epoch 136/150\n",
            "30/30 [==============================] - 0s 4ms/step - loss: 14.2714\n",
            "Epoch 137/150\n",
            "30/30 [==============================] - 0s 3ms/step - loss: 14.1577\n",
            "Epoch 138/150\n",
            "30/30 [==============================] - 0s 3ms/step - loss: 14.5237\n",
            "Epoch 139/150\n",
            "30/30 [==============================] - 0s 3ms/step - loss: 14.1714\n",
            "Epoch 140/150\n",
            "30/30 [==============================] - 0s 3ms/step - loss: 15.9489\n",
            "Epoch 141/150\n",
            "30/30 [==============================] - 0s 3ms/step - loss: 13.5586\n",
            "Epoch 142/150\n",
            "30/30 [==============================] - 0s 3ms/step - loss: 14.4312\n",
            "Epoch 143/150\n",
            "30/30 [==============================] - 0s 3ms/step - loss: 13.3900\n",
            "Epoch 144/150\n",
            "30/30 [==============================] - 0s 3ms/step - loss: 14.7193\n",
            "Epoch 145/150\n",
            "30/30 [==============================] - 0s 13ms/step - loss: 13.0966\n",
            "Epoch 146/150\n",
            "30/30 [==============================] - 0s 3ms/step - loss: 13.5736\n",
            "Epoch 147/150\n",
            "30/30 [==============================] - 1s 23ms/step - loss: 14.4877\n",
            "Epoch 148/150\n",
            "30/30 [==============================] - 0s 3ms/step - loss: 12.8903\n",
            "Epoch 149/150\n",
            "30/30 [==============================] - 0s 3ms/step - loss: 13.1767\n",
            "Epoch 150/150\n",
            "30/30 [==============================] - 0s 3ms/step - loss: 13.6834\n"
          ]
        },
        {
          "output_type": "execute_result",
          "data": {
            "text/plain": [
              "<keras.callbacks.History at 0x7f623bd40ed0>"
            ]
          },
          "metadata": {},
          "execution_count": 46
        }
      ]
    },
    {
      "cell_type": "code",
      "source": [
        "print('train ', get_regression_metrics(y_train, model.predict(X_train)))\n",
        "print('test ', get_regression_metrics(y_test, model.predict(X_test)))\n",
        "y_pred = model.predict(X_test)\n",
        "reg_plot(y_test, y_pred.flatten(), label='K_VRH', units='GPa')"
      ],
      "metadata": {
        "colab": {
          "base_uri": "https://localhost:8080/",
          "height": 477
        },
        "id": "aNVtZX7HtSUJ",
        "outputId": "0f88cf20-ee94-4578-803f-8c9246c70786"
      },
      "execution_count": null,
      "outputs": [
        {
          "output_type": "stream",
          "name": "stdout",
          "text": [
            "train  {'R^2': 0.957, 'MAE': 10.869, 'RMSE': 15.044}\n",
            "test  {'R^2': 0.89, 'MAE': 14.977, 'RMSE': 23.422}\n"
          ]
        },
        {
          "output_type": "display_data",
          "data": {
            "text/plain": [
              "<Figure size 504x504 with 1 Axes>"
            ],
            "image/png": "[encoded data removed]"
          },
          "metadata": {
            "needs_background": "light"
          }
        }
      ]
    }
  ],
  "metadata": {
    "kernelspec": {
      "display_name": "Python 3",
      "name": "python3"
    },
    "language_info": {
      "name": "python"
    },
    "colab": {
      "provenance": [],
      "collapsed_sections": []
    },
    "widgets": {
      "application/vnd.jupyter.widget-state+json": {
        "0c2bd48772bf4f5b9e648aa16f899f54": {
          "model_module": "@jupyter-widgets/controls",
          "model_name": "HBoxModel",
          "model_module_version": "1.5.0",
          "state": {
            "_dom_classes": [],
            "_model_module": "@jupyter-widgets/controls",
            "_model_module_version": "1.5.0",
            "_model_name": "HBoxModel",
            "_view_count": null,
            "_view_module": "@jupyter-widgets/controls",
            "_view_module_version": "1.5.0",
            "_view_name": "HBoxView",
            "box_style": "",
            "children": [
              "IPY_MODEL_11945e814e344ec98bb2512970cf9233",
              "IPY_MODEL_c704aa3db6d04056929d0bfea74b4edd",
              "IPY_MODEL_352f90af7fee448384ef13faa15e8faa"
            ],
            "layout": "IPY_MODEL_5cadbef475ba464094ce669b6a669069"
          }
        },
        "11945e814e344ec98bb2512970cf9233": {
          "model_module": "@jupyter-widgets/controls",
          "model_name": "HTMLModel",
          "model_module_version": "1.5.0",
          "state": {
            "_dom_classes": [],
            "_model_module": "@jupyter-widgets/controls",
            "_model_module_version": "1.5.0",
            "_model_name": "HTMLModel",
            "_view_count": null,
            "_view_module": "@jupyter-widgets/controls",
            "_view_module_version": "1.5.0",
            "_view_name": "HTMLView",
            "description": "",
            "description_tooltip": null,
            "layout": "IPY_MODEL_7c8f376642b24b3c8e10c1c4b9ee59e2",
            "placeholder": "​",
            "style": "IPY_MODEL_b725f2e3373f4634a1fa579750bc223d",
            "value": "BagofBonds: 100%"
          }
        },
        "c704aa3db6d04056929d0bfea74b4edd": {
          "model_module": "@jupyter-widgets/controls",
          "model_name": "FloatProgressModel",
          "model_module_version": "1.5.0",
          "state": {
            "_dom_classes": [],
            "_model_module": "@jupyter-widgets/controls",
            "_model_module_version": "1.5.0",
            "_model_name": "FloatProgressModel",
            "_view_count": null,
            "_view_module": "@jupyter-widgets/controls",
            "_view_module_version": "1.5.0",
            "_view_name": "ProgressView",
            "bar_style": "success",
            "description": "",
            "description_tooltip": null,
            "layout": "IPY_MODEL_f57acaaeee6a4007b4461630d7792626",
            "max": 1180,
            "min": 0,
            "orientation": "horizontal",
            "style": "IPY_MODEL_f29265570b79467f92c3050e47641c72",
            "value": 1180
          }
        },
        "352f90af7fee448384ef13faa15e8faa": {
          "model_module": "@jupyter-widgets/controls",
          "model_name": "HTMLModel",
          "model_module_version": "1.5.0",
          "state": {
            "_dom_classes": [],
            "_model_module": "@jupyter-widgets/controls",
            "_model_module_version": "1.5.0",
            "_model_name": "HTMLModel",
            "_view_count": null,
            "_view_module": "@jupyter-widgets/controls",
            "_view_module_version": "1.5.0",
            "_view_name": "HTMLView",
            "description": "",
            "description_tooltip": null,
            "layout": "IPY_MODEL_3cfb2c35c6cc4c6bad2327c693a4c947",
            "placeholder": "​",
            "style": "IPY_MODEL_6ccb5c0b36274abfa6a74973e8027d0e",
            "value": " 1180/1180 [01:07&lt;00:00, 13.98it/s]"
          }
        },
        "5cadbef475ba464094ce669b6a669069": {
          "model_module": "@jupyter-widgets/base",
          "model_name": "LayoutModel",
          "model_module_version": "1.2.0",
          "state": {
            "_model_module": "@jupyter-widgets/base",
            "_model_module_version": "1.2.0",
            "_model_name": "LayoutModel",
            "_view_count": null,
            "_view_module": "@jupyter-widgets/base",
            "_view_module_version": "1.2.0",
            "_view_name": "LayoutView",
            "align_content": null,
            "align_items": null,
            "align_self": null,
            "border": null,
            "bottom": null,
            "display": null,
            "flex": null,
            "flex_flow": null,
            "grid_area": null,
            "grid_auto_columns": null,
            "grid_auto_flow": null,
            "grid_auto_rows": null,
            "grid_column": null,
            "grid_gap": null,
            "grid_row": null,
            "grid_template_areas": null,
            "grid_template_columns": null,
            "grid_template_rows": null,
            "height": null,
            "justify_content": null,
            "justify_items": null,
            "left": null,
            "margin": null,
            "max_height": null,
            "max_width": null,
            "min_height": null,
            "min_width": null,
            "object_fit": null,
            "object_position": null,
            "order": null,
            "overflow": null,
            "overflow_x": null,
            "overflow_y": null,
            "padding": null,
            "right": null,
            "top": null,
            "visibility": null,
            "width": null
          }
        },
        "7c8f376642b24b3c8e10c1c4b9ee59e2": {
          "model_module": "@jupyter-widgets/base",
          "model_name": "LayoutModel",
          "model_module_version": "1.2.0",
          "state": {
            "_model_module": "@jupyter-widgets/base",
            "_model_module_version": "1.2.0",
            "_model_name": "LayoutModel",
            "_view_count": null,
            "_view_module": "@jupyter-widgets/base",
            "_view_module_version": "1.2.0",
            "_view_name": "LayoutView",
            "align_content": null,
            "align_items": null,
            "align_self": null,
            "border": null,
            "bottom": null,
            "display": null,
            "flex": null,
            "flex_flow": null,
            "grid_area": null,
            "grid_auto_columns": null,
            "grid_auto_flow": null,
            "grid_auto_rows": null,
            "grid_column": null,
            "grid_gap": null,
            "grid_row": null,
            "grid_template_areas": null,
            "grid_template_columns": null,
            "grid_template_rows": null,
            "height": null,
            "justify_content": null,
            "justify_items": null,
            "left": null,
            "margin": null,
            "max_height": null,
            "max_width": null,
            "min_height": null,
            "min_width": null,
            "object_fit": null,
            "object_position": null,
            "order": null,
            "overflow": null,
            "overflow_x": null,
            "overflow_y": null,
            "padding": null,
            "right": null,
            "top": null,
            "visibility": null,
            "width": null
          }
        },
        "b725f2e3373f4634a1fa579750bc223d": {
          "model_module": "@jupyter-widgets/controls",
          "model_name": "DescriptionStyleModel",
          "model_module_version": "1.5.0",
          "state": {
            "_model_module": "@jupyter-widgets/controls",
            "_model_module_version": "1.5.0",
            "_model_name": "DescriptionStyleModel",
            "_view_count": null,
            "_view_module": "@jupyter-widgets/base",
            "_view_module_version": "1.2.0",
            "_view_name": "StyleView",
            "description_width": ""
          }
        },
        "f57acaaeee6a4007b4461630d7792626": {
          "model_module": "@jupyter-widgets/base",
          "model_name": "LayoutModel",
          "model_module_version": "1.2.0",
          "state": {
            "_model_module": "@jupyter-widgets/base",
            "_model_module_version": "1.2.0",
            "_model_name": "LayoutModel",
            "_view_count": null,
            "_view_module": "@jupyter-widgets/base",
            "_view_module_version": "1.2.0",
            "_view_name": "LayoutView",
            "align_content": null,
            "align_items": null,
            "align_self": null,
            "border": null,
            "bottom": null,
            "display": null,
            "flex": null,
            "flex_flow": null,
            "grid_area": null,
            "grid_auto_columns": null,
            "grid_auto_flow": null,
            "grid_auto_rows": null,
            "grid_column": null,
            "grid_gap": null,
            "grid_row": null,
            "grid_template_areas": null,
            "grid_template_columns": null,
            "grid_template_rows": null,
            "height": null,
            "justify_content": null,
            "justify_items": null,
            "left": null,
            "margin": null,
            "max_height": null,
            "max_width": null,
            "min_height": null,
            "min_width": null,
            "object_fit": null,
            "object_position": null,
            "order": null,
            "overflow": null,
            "overflow_x": null,
            "overflow_y": null,
            "padding": null,
            "right": null,
            "top": null,
            "visibility": null,
            "width": null
          }
        },
        "f29265570b79467f92c3050e47641c72": {
          "model_module": "@jupyter-widgets/controls",
          "model_name": "ProgressStyleModel",
          "model_module_version": "1.5.0",
          "state": {
            "_model_module": "@jupyter-widgets/controls",
            "_model_module_version": "1.5.0",
            "_model_name": "ProgressStyleModel",
            "_view_count": null,
            "_view_module": "@jupyter-widgets/base",
            "_view_module_version": "1.2.0",
            "_view_name": "StyleView",
            "bar_color": null,
            "description_width": ""
          }
        },
        "3cfb2c35c6cc4c6bad2327c693a4c947": {
          "model_module": "@jupyter-widgets/base",
          "model_name": "LayoutModel",
          "model_module_version": "1.2.0",
          "state": {
            "_model_module": "@jupyter-widgets/base",
            "_model_module_version": "1.2.0",
            "_model_name": "LayoutModel",
            "_view_count": null,
            "_view_module": "@jupyter-widgets/base",
            "_view_module_version": "1.2.0",
            "_view_name": "LayoutView",
            "align_content": null,
            "align_items": null,
            "align_self": null,
            "border": null,
            "bottom": null,
            "display": null,
            "flex": null,
            "flex_flow": null,
            "grid_area": null,
            "grid_auto_columns": null,
            "grid_auto_flow": null,
            "grid_auto_rows": null,
            "grid_column": null,
            "grid_gap": null,
            "grid_row": null,
            "grid_template_areas": null,
            "grid_template_columns": null,
            "grid_template_rows": null,
            "height": null,
            "justify_content": null,
            "justify_items": null,
            "left": null,
            "margin": null,
            "max_height": null,
            "max_width": null,
            "min_height": null,
            "min_width": null,
            "object_fit": null,
            "object_position": null,
            "order": null,
            "overflow": null,
            "overflow_x": null,
            "overflow_y": null,
            "padding": null,
            "right": null,
            "top": null,
            "visibility": null,
            "width": null
          }
        },
        "6ccb5c0b36274abfa6a74973e8027d0e": {
          "model_module": "@jupyter-widgets/controls",
          "model_name": "DescriptionStyleModel",
          "model_module_version": "1.5.0",
          "state": {
            "_model_module": "@jupyter-widgets/controls",
            "_model_module_version": "1.5.0",
            "_model_name": "DescriptionStyleModel",
            "_view_count": null,
            "_view_module": "@jupyter-widgets/base",
            "_view_module_version": "1.2.0",
            "_view_name": "StyleView",
            "description_width": ""
          }
        },
        "9c82544fa1964f9faade0966c74b260e": {
          "model_module": "@jupyter-widgets/controls",
          "model_name": "HBoxModel",
          "model_module_version": "1.5.0",
          "state": {
            "_dom_classes": [],
            "_model_module": "@jupyter-widgets/controls",
            "_model_module_version": "1.5.0",
            "_model_name": "HBoxModel",
            "_view_count": null,
            "_view_module": "@jupyter-widgets/controls",
            "_view_module_version": "1.5.0",
            "_view_name": "HBoxView",
            "box_style": "",
            "children": [
              "IPY_MODEL_09ad5aeccde6493b9e3c47d20b22de95",
              "IPY_MODEL_0367975294de4c0d969f7fda26adc64c",
              "IPY_MODEL_cc03cef5ba15469ea64849f10f556211"
            ],
            "layout": "IPY_MODEL_0a5c64072ec04fe0af889560261a7e9c"
          }
        },
        "09ad5aeccde6493b9e3c47d20b22de95": {
          "model_module": "@jupyter-widgets/controls",
          "model_name": "HTMLModel",
          "model_module_version": "1.5.0",
          "state": {
            "_dom_classes": [],
            "_model_module": "@jupyter-widgets/controls",
            "_model_module_version": "1.5.0",
            "_model_name": "HTMLModel",
            "_view_count": null,
            "_view_module": "@jupyter-widgets/controls",
            "_view_module_version": "1.5.0",
            "_view_name": "HTMLView",
            "description": "",
            "description_tooltip": null,
            "layout": "IPY_MODEL_a304996190cc4fb88c79171b877c03ee",
            "placeholder": "​",
            "style": "IPY_MODEL_1b6ed1a1acdb4e478121e5e3e212dd7c",
            "value": "ElementFraction: 100%"
          }
        },
        "0367975294de4c0d969f7fda26adc64c": {
          "model_module": "@jupyter-widgets/controls",
          "model_name": "FloatProgressModel",
          "model_module_version": "1.5.0",
          "state": {
            "_dom_classes": [],
            "_model_module": "@jupyter-widgets/controls",
            "_model_module_version": "1.5.0",
            "_model_name": "FloatProgressModel",
            "_view_count": null,
            "_view_module": "@jupyter-widgets/controls",
            "_view_module_version": "1.5.0",
            "_view_name": "ProgressView",
            "bar_style": "success",
            "description": "",
            "description_tooltip": null,
            "layout": "IPY_MODEL_756a8bf0b908455890c9328425b93653",
            "max": 1180,
            "min": 0,
            "orientation": "horizontal",
            "style": "IPY_MODEL_4ad2344dac504981a61d78fc99ce0db4",
            "value": 1180
          }
        },
        "cc03cef5ba15469ea64849f10f556211": {
          "model_module": "@jupyter-widgets/controls",
          "model_name": "HTMLModel",
          "model_module_version": "1.5.0",
          "state": {
            "_dom_classes": [],
            "_model_module": "@jupyter-widgets/controls",
            "_model_module_version": "1.5.0",
            "_model_name": "HTMLModel",
            "_view_count": null,
            "_view_module": "@jupyter-widgets/controls",
            "_view_module_version": "1.5.0",
            "_view_name": "HTMLView",
            "description": "",
            "description_tooltip": null,
            "layout": "IPY_MODEL_1bc81c42e8e04099b18f44a2e6064e51",
            "placeholder": "​",
            "style": "IPY_MODEL_ec79ef51d64c4c65a85dc7555f480240",
            "value": " 1180/1180 [00:00&lt;00:00,  8.08it/s]"
          }
        },
        "0a5c64072ec04fe0af889560261a7e9c": {
          "model_module": "@jupyter-widgets/base",
          "model_name": "LayoutModel",
          "model_module_version": "1.2.0",
          "state": {
            "_model_module": "@jupyter-widgets/base",
            "_model_module_version": "1.2.0",
            "_model_name": "LayoutModel",
            "_view_count": null,
            "_view_module": "@jupyter-widgets/base",
            "_view_module_version": "1.2.0",
            "_view_name": "LayoutView",
            "align_content": null,
            "align_items": null,
            "align_self": null,
            "border": null,
            "bottom": null,
            "display": null,
            "flex": null,
            "flex_flow": null,
            "grid_area": null,
            "grid_auto_columns": null,
            "grid_auto_flow": null,
            "grid_auto_rows": null,
            "grid_column": null,
            "grid_gap": null,
            "grid_row": null,
            "grid_template_areas": null,
            "grid_template_columns": null,
            "grid_template_rows": null,
            "height": null,
            "justify_content": null,
            "justify_items": null,
            "left": null,
            "margin": null,
            "max_height": null,
            "max_width": null,
            "min_height": null,
            "min_width": null,
            "object_fit": null,
            "object_position": null,
            "order": null,
            "overflow": null,
            "overflow_x": null,
            "overflow_y": null,
            "padding": null,
            "right": null,
            "top": null,
            "visibility": null,
            "width": null
          }
        },
        "a304996190cc4fb88c79171b877c03ee": {
          "model_module": "@jupyter-widgets/base",
          "model_name": "LayoutModel",
          "model_module_version": "1.2.0",
          "state": {
            "_model_module": "@jupyter-widgets/base",
            "_model_module_version": "1.2.0",
            "_model_name": "LayoutModel",
            "_view_count": null,
            "_view_module": "@jupyter-widgets/base",
            "_view_module_version": "1.2.0",
            "_view_name": "LayoutView",
            "align_content": null,
            "align_items": null,
            "align_self": null,
            "border": null,
            "bottom": null,
            "display": null,
            "flex": null,
            "flex_flow": null,
            "grid_area": null,
            "grid_auto_columns": null,
            "grid_auto_flow": null,
            "grid_auto_rows": null,
            "grid_column": null,
            "grid_gap": null,
            "grid_row": null,
            "grid_template_areas": null,
            "grid_template_columns": null,
            "grid_template_rows": null,
            "height": null,
            "justify_content": null,
            "justify_items": null,
            "left": null,
            "margin": null,
            "max_height": null,
            "max_width": null,
            "min_height": null,
            "min_width": null,
            "object_fit": null,
            "object_position": null,
            "order": null,
            "overflow": null,
            "overflow_x": null,
            "overflow_y": null,
            "padding": null,
            "right": null,
            "top": null,
            "visibility": null,
            "width": null
          }
        },
        "1b6ed1a1acdb4e478121e5e3e212dd7c": {
          "model_module": "@jupyter-widgets/controls",
          "model_name": "DescriptionStyleModel",
          "model_module_version": "1.5.0",
          "state": {
            "_model_module": "@jupyter-widgets/controls",
            "_model_module_version": "1.5.0",
            "_model_name": "DescriptionStyleModel",
            "_view_count": null,
            "_view_module": "@jupyter-widgets/base",
            "_view_module_version": "1.2.0",
            "_view_name": "StyleView",
            "description_width": ""
          }
        },
        "756a8bf0b908455890c9328425b93653": {
          "model_module": "@jupyter-widgets/base",
          "model_name": "LayoutModel",
          "model_module_version": "1.2.0",
          "state": {
            "_model_module": "@jupyter-widgets/base",
            "_model_module_version": "1.2.0",
            "_model_name": "LayoutModel",
            "_view_count": null,
            "_view_module": "@jupyter-widgets/base",
            "_view_module_version": "1.2.0",
            "_view_name": "LayoutView",
            "align_content": null,
            "align_items": null,
            "align_self": null,
            "border": null,
            "bottom": null,
            "display": null,
            "flex": null,
            "flex_flow": null,
            "grid_area": null,
            "grid_auto_columns": null,
            "grid_auto_flow": null,
            "grid_auto_rows": null,
            "grid_column": null,
            "grid_gap": null,
            "grid_row": null,
            "grid_template_areas": null,
            "grid_template_columns": null,
            "grid_template_rows": null,
            "height": null,
            "justify_content": null,
            "justify_items": null,
            "left": null,
            "margin": null,
            "max_height": null,
            "max_width": null,
            "min_height": null,
            "min_width": null,
            "object_fit": null,
            "object_position": null,
            "order": null,
            "overflow": null,
            "overflow_x": null,
            "overflow_y": null,
            "padding": null,
            "right": null,
            "top": null,
            "visibility": null,
            "width": null
          }
        },
        "4ad2344dac504981a61d78fc99ce0db4": {
          "model_module": "@jupyter-widgets/controls",
          "model_name": "ProgressStyleModel",
          "model_module_version": "1.5.0",
          "state": {
            "_model_module": "@jupyter-widgets/controls",
            "_model_module_version": "1.5.0",
            "_model_name": "ProgressStyleModel",
            "_view_count": null,
            "_view_module": "@jupyter-widgets/base",
            "_view_module_version": "1.2.0",
            "_view_name": "StyleView",
            "bar_color": null,
            "description_width": ""
          }
        },
        "1bc81c42e8e04099b18f44a2e6064e51": {
          "model_module": "@jupyter-widgets/base",
          "model_name": "LayoutModel",
          "model_module_version": "1.2.0",
          "state": {
            "_model_module": "@jupyter-widgets/base",
            "_model_module_version": "1.2.0",
            "_model_name": "LayoutModel",
            "_view_count": null,
            "_view_module": "@jupyter-widgets/base",
            "_view_module_version": "1.2.0",
            "_view_name": "LayoutView",
            "align_content": null,
            "align_items": null,
            "align_self": null,
            "border": null,
            "bottom": null,
            "display": null,
            "flex": null,
            "flex_flow": null,
            "grid_area": null,
            "grid_auto_columns": null,
            "grid_auto_flow": null,
            "grid_auto_rows": null,
            "grid_column": null,
            "grid_gap": null,
            "grid_row": null,
            "grid_template_areas": null,
            "grid_template_columns": null,
            "grid_template_rows": null,
            "height": null,
            "justify_content": null,
            "justify_items": null,
            "left": null,
            "margin": null,
            "max_height": null,
            "max_width": null,
            "min_height": null,
            "min_width": null,
            "object_fit": null,
            "object_position": null,
            "order": null,
            "overflow": null,
            "overflow_x": null,
            "overflow_y": null,
            "padding": null,
            "right": null,
            "top": null,
            "visibility": null,
            "width": null
          }
        },
        "ec79ef51d64c4c65a85dc7555f480240": {
          "model_module": "@jupyter-widgets/controls",
          "model_name": "DescriptionStyleModel",
          "model_module_version": "1.5.0",
          "state": {
            "_model_module": "@jupyter-widgets/controls",
            "_model_module_version": "1.5.0",
            "_model_name": "DescriptionStyleModel",
            "_view_count": null,
            "_view_module": "@jupyter-widgets/base",
            "_view_module_version": "1.2.0",
            "_view_name": "StyleView",
            "description_width": ""
          }
        }
      }
    }
  },
  "nbformat": 4,
  "nbformat_minor": 0
}