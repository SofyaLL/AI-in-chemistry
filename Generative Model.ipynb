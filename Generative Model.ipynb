{
  "cells": [
    {
      "cell_type": "code",
      "execution_count": null,
      "metadata": {
        "colab": {
          "base_uri": "https://localhost:8080/"
        },
        "id": "D_StcSSg8Yrz",
        "outputId": "0cb33f77-d6f2-46b9-cde1-4cb67d14fcc2"
      },
      "outputs": [
        {
          "output_type": "stream",
          "name": "stdout",
          "text": [
            "Drive already mounted at /content/drive; to attempt to forcibly remount, call drive.mount(\"/content/drive\", force_remount=True).\n"
          ]
        }
      ],
      "source": [
        "from google.colab import drive\n",
        "drive.mount('/content/drive')"
      ]
    },
    {
      "cell_type": "code",
      "execution_count": null,
      "metadata": {
        "colab": {
          "base_uri": "https://localhost:8080/"
        },
        "id": "Kb8ioQNH8DsD",
        "outputId": "ac8922cc-1e5e-4c3a-97ca-c46379fc857d"
      },
      "outputs": [
        {
          "output_type": "stream",
          "name": "stdout",
          "text": [
            "Requirement already satisfied: rdkit-pypi in /usr/local/lib/python3.7/dist-packages (2022.3.1)\n",
            "Requirement already satisfied: Pillow in /usr/local/lib/python3.7/dist-packages (from rdkit-pypi) (7.1.2)\n",
            "Requirement already satisfied: numpy>=1.19 in /usr/local/lib/python3.7/dist-packages (from rdkit-pypi) (1.21.5)\n",
            "`%tensorflow_version` only switches the major version: 1.x or 2.x.\n",
            "You set: `1.15.3`. This will be interpreted as: `1.x`.\n",
            "\n",
            "\n",
            "TensorFlow is already loaded. Please restart the runtime to change versions.\n"
          ]
        }
      ],
      "source": [
        "!pip install rdkit-pypi\n",
        "%tensorflow_version 1.15.3"
      ]
    },
    {
      "cell_type": "markdown",
      "metadata": {
        "id": "kyDbFEP74fvj"
      },
      "source": [
        "![header.png](data:image/png;base64,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)"
      ]
    },
    {
      "cell_type": "markdown",
      "metadata": {
        "id": "B9KJF7x14kQf"
      },
      "source": [
        "![og.png](data:image/png;base64,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)"
      ]
    },
    {
      "cell_type": "code",
      "execution_count": null,
      "metadata": {
        "collapsed": true,
        "id": "sk4ViiWWO2CG"
      },
      "outputs": [],
      "source": [
        "import tensorflow as tf\n",
        "import numpy as np\n",
        "import pandas as pd\n",
        "import sys\n",
        "import subprocess\n",
        "import os\n",
        "\n",
        "\n",
        "drive_main_path = \"/content/drive/MyDrive/kaka/MolGAN\"\n",
        "\n",
        "sys.path.append(drive_main_path)\n",
        "\n",
        "from utils.sparse_molecular_dataset import SparseMolecularDataset\n",
        "from utils.trainer import Trainer\n",
        "from utils.utils import *\n",
        "from utils.molecular_metrics import MolecularMetrics\n",
        "from models.gan import GraphGANModel\n",
        "from models import encoder_rgcn, decoder_adj, decoder_dot, decoder_rnn\n",
        "\n",
        "from optimizers.gan import GraphGANOptimizer\n",
        "from rdkit import RDLogger\n",
        "from rdkit.Chem import Crippen\n",
        "\n",
        "RDLogger.DisableLog('rdApp.*')"
      ]
    },
    {
      "cell_type": "markdown",
      "metadata": {
        "id": "ZYY1usIaRqYs"
      },
      "source": [
        "# Herg activity"
      ]
    },
    {
      "cell_type": "markdown",
      "metadata": {
        "id": "Ea6anLbKSpSF"
      },
      "source": [
        "### import data"
      ]
    },
    {
      "cell_type": "code",
      "execution_count": null,
      "metadata": {
        "id": "G-GI7_YISOhv"
      },
      "outputs": [],
      "source": [
        "import pandas as pd\n",
        "import matplotlib.pyplot as plt\n",
        "import seaborn as sns\n",
        "\n",
        "from rdkit.Chem import MACCSkeys, AllChem, DataStructs\n",
        "from rdkit.Avalon.pyAvalonTools import GetAvalonFP\n",
        "from rdkit import Chem\n",
        "\n",
        "from sklearn.metrics import f1_score, r2_score, accuracy_score, confusion_matrix\n",
        "from sklearn.model_selection import train_test_split"
      ]
    },
    {
      "cell_type": "code",
      "execution_count": null,
      "metadata": {
        "colab": {
          "base_uri": "https://localhost:8080/"
        },
        "id": "gAgn1GsKRtfr",
        "outputId": "44d8fa85-ee4c-4aa1-d998-7289d8c87cfe"
      },
      "outputs": [
        {
          "output_type": "stream",
          "name": "stdout",
          "text": [
            "8154\n"
          ]
        }
      ],
      "source": [
        "# Загрузка датасета\n",
        "mols = Chem.SDMolSupplier(\"/content/drive/MyDrive/herg.sdf\") # На выходе array-like объект с молекулами в виде Mol объектов из rdkit\n",
        "\n",
        "# Проверим общий размер\n",
        "print(len(mols))\n",
        "\n",
        "# Попробуем прочитать желаемое свойство и убедимся, что оно задано для всех молекул\n",
        "# Используем конструкцию try/except, чтобы выбросить молекулы, для которых могут возникнуть ошибки\n",
        "activities = []\n",
        "clean_mols = []\n",
        "for mol in mols:\n",
        "    try:\n",
        "        activities.append(mol.GetProp(\"herg_activity\"))\n",
        "        clean_mols.append(mol)\n",
        "    except Exception:\n",
        "        continue"
      ]
    },
    {
      "cell_type": "code",
      "execution_count": null,
      "metadata": {
        "id": "whs0dgSEStqF"
      },
      "outputs": [],
      "source": [
        "X_Hashed = []\n",
        "y = []\n",
        "\n",
        "for i in range(len(clean_mols)):\n",
        "    try:\n",
        "        arr = np.zeros((1,), dtype=int)\n",
        "        # print(arr)\n",
        "        descr = AllChem.GetHashedAtomPairFingerprint(clean_mols[i])\n",
        "        # print(descr)\n",
        "        DataStructs.ConvertToNumpyArray(descr, arr)\n",
        "        # print(arr)\n",
        "        X_Hashed.append(arr)\n",
        "\n",
        "        y.append(int(activities[i]))\n",
        "    except Exception:\n",
        "        continue"
      ]
    },
    {
      "cell_type": "code",
      "execution_count": null,
      "metadata": {
        "id": "vabYmrgAX8Og"
      },
      "outputs": [],
      "source": [
        "def mols_to_x(mols):\n",
        "  X = np.empty(len(mols))\n",
        "  for i in range(len(mols)):\n",
        "    arr = np.zeros((1,), dtype=int)\n",
        "    descr = AllChem.GetHashedAtomPairFingerprint(mols[i])\n",
        "    DataStructs.ConvertToNumpyArray(descr, arr)\n",
        "    X.append(arr)\n",
        "  X = np.stack(X, axis=0)\n",
        "  return X      "
      ]
    },
    {
      "cell_type": "code",
      "source": [
        "def mol_to_x(mol):\n",
        "    arr = np.zeros((1,), dtype=int)\n",
        "    descr = AllChem.GetHashedAtomPairFingerprint(mol)\n",
        "    DataStructs.ConvertToNumpyArray(descr, arr)\n",
        "    return arr  "
      ],
      "metadata": {
        "id": "6bqQLCfkYnaD"
      },
      "execution_count": null,
      "outputs": []
    },
    {
      "cell_type": "markdown",
      "metadata": {
        "id": "7nUoJTCzTI3Z"
      },
      "source": [
        "### Model for herg activity"
      ]
    },
    {
      "cell_type": "code",
      "execution_count": null,
      "metadata": {
        "id": "wONQRpXFS8Yd"
      },
      "outputs": [],
      "source": [
        "X_Hashed = np.stack(X_Hashed, axis=0)\n",
        "y_np = np.array(y)\n",
        "\n",
        "X_train, X_test, y_train, y_test = train_test_split(X_Hashed, y_np, test_size=0.2, random_state=42)"
      ]
    },
    {
      "cell_type": "code",
      "execution_count": null,
      "metadata": {
        "colab": {
          "base_uri": "https://localhost:8080/"
        },
        "id": "E8dB9WVtTa_u",
        "outputId": "3aacbc77-f15c-4a36-c712-ef59b7281753"
      },
      "outputs": [
        {
          "output_type": "stream",
          "name": "stderr",
          "text": [
            "/usr/local/lib/python3.7/dist-packages/sklearn/ensemble/_forest.py:766: UserWarning: class_weight presets \"balanced\" or \"balanced_subsample\" are not recommended for warm_start if the fitted data differs from the full dataset. In order to use \"balanced\" weights, use compute_class_weight (\"balanced\", classes, y). In place of y you can use a large enough sample of the full training set target to properly estimate the class frequency distributions. Pass the resulting weights as the class_weight parameter.\n",
            "  'class_weight presets \"balanced\" or '\n"
          ]
        },
        {
          "output_type": "stream",
          "name": "stdout",
          "text": [
            "accuracy_score = 0.8994481912936848\n",
            "precision_score = 0.8901098901098901\n",
            "recall_score = 0.7232142857142857\n",
            "f1_score = 0.7980295566502463\n",
            "matthews_corrcoef = 0.7390347910882991\n"
          ]
        }
      ],
      "source": [
        "from sklearn.ensemble import RandomForestClassifier\n",
        "from sklearn.metrics import f1_score, r2_score, accuracy_score, confusion_matrix, precision_score, recall_score, matthews_corrcoef\n",
        "herg_model = RandomForestClassifier(class_weight='balanced_subsample',criterion=\"entropy\",n_estimators=500, warm_start=True)\n",
        "herg_model.fit(X_train, y_train)\n",
        "\n",
        "print(\"accuracy_score =\",  accuracy_score(y_test, herg_model.predict(X_test)))\n",
        "print(\"precision_score =\",  precision_score(y_test, herg_model.predict(X_test)))\n",
        "print(\"recall_score =\",  recall_score(y_test, herg_model.predict(X_test)))\n",
        "print(\"f1_score =\",  f1_score(y_test, herg_model.predict(X_test)))\n",
        "print(\"matthews_corrcoef =\",  matthews_corrcoef(y_test, herg_model.predict(X_test)))"
      ]
    },
    {
      "cell_type": "code",
      "source": [
        "herg_model.predict(X_train)"
      ],
      "metadata": {
        "colab": {
          "base_uri": "https://localhost:8080/"
        },
        "id": "9bIduivWZvTf",
        "outputId": "37958cb7-e15c-40cb-e423-36d7796aa2a7"
      },
      "execution_count": null,
      "outputs": [
        {
          "output_type": "execute_result",
          "data": {
            "text/plain": [
              "array([1, 0, 0, ..., 1, 0, 0])"
            ]
          },
          "metadata": {},
          "execution_count": 77
        }
      ]
    },
    {
      "cell_type": "code",
      "source": [
        "import joblib\n",
        "\n",
        "filename = os.path.join(drive_main_path, 'herg_model.joblib.pkl')\n",
        "_ = joblib.dump(herg_model, filename)"
      ],
      "metadata": {
        "id": "HOWrSZxnjRgb"
      },
      "execution_count": null,
      "outputs": []
    },
    {
      "cell_type": "markdown",
      "metadata": {
        "id": "WjI2IzbVRuTN"
      },
      "source": [
        "# MolGAN"
      ]
    },
    {
      "cell_type": "code",
      "execution_count": null,
      "metadata": {
        "id": "Lxwki2D8O2CI"
      },
      "outputs": [],
      "source": [
        "# Нужно будет поиграться с этими параметрами\n",
        "batch_dim = 128\n",
        "la = 1\n",
        "dropout = 0\n",
        "n_critic = 5\n",
        "metric = 'logp,herg'  # список базовых свойств оценки молекулы\n",
        "n_samples = 5000\n",
        "z_dim = 8\n",
        "epochs = 10\n",
        "save_every = 1\n",
        "output_dir = os.path.join(drive_main_path, 'output_upgraded') # Директория с натренированной моделью, рекомендуется не перезаписывать ее, а создать отдельную папку\n",
        "                                                     # для записи Ваших моделей\n",
        "model_folder = os.path.join(drive_main_path, 'output')"
      ]
    },
    {
      "cell_type": "code",
      "execution_count": null,
      "metadata": {
        "id": "HfNfuu7Z_GTg"
      },
      "outputs": [],
      "source": [
        "## попробуем без val и тест\n",
        "# data.generate(os.path.join(drive_main_path, 'data/gdb9.sdf'), filters=lambda x: x.GetNumAtoms() <= 9, validation=0, test=0)"
      ]
    },
    {
      "cell_type": "code",
      "execution_count": null,
      "metadata": {
        "id": "lKkrkqKiDGu9"
      },
      "outputs": [],
      "source": [
        "# data.save(os.path.join(drive_main_path, 'data/gdb9.sparsedataset'))\n",
        "data = SparseMolecularDataset()\n",
        "data.load(os.path.join(drive_main_path, 'data/gdb9.sparsedataset'))\n",
        "steps = (len(data) // batch_dim)"
      ]
    },
    {
      "cell_type": "code",
      "execution_count": null,
      "metadata": {
        "id": "cjvyaqbbO2CK"
      },
      "outputs": [],
      "source": [
        "# Тут необходимо модифицировать функции оценки под условия задачи\n",
        "def water_octanol_partition_coefficient_scores(mols, norm=False):\n",
        "    scores = [MolecularMetrics._avoid_sanitization_error(lambda: Crippen.MolLogP(mol)) if mol is not None else None for mol in mols]\n",
        "    scores = np.array(list(map(lambda x: -3 if x is None else x, scores)))  # заменяем на -3 если None\n",
        "\n",
        "    scores = [1 if -0.4 <= x <=5.6 else 0 for x in scores]\n",
        "    # print(scores)\n",
        "\n",
        "    return np.array(scores)\n",
        "\n",
        "# Написать функцию оценки сходства по целевому свойству\n",
        "def activity_coefficient(mols): # herg activity\n",
        "\n",
        "    X_mols = [MolecularMetrics._avoid_sanitization_error(lambda: mol_to_x(mol)) if mol is not None else None for mol in mols]\n",
        "    if len(X_mols) == 0:\n",
        "       return np.array([])\n",
        "    else: \n",
        "        scores = herg_model.predict(np.array(X_mols))\n",
        "        return np.array(scores)\n",
        "    "
      ]
    },
    {
      "cell_type": "markdown",
      "source": [
        "### Проверим предсказывается ли активность к herg в датасете gdb9\n"
      ],
      "metadata": {
        "id": "9trR1RyAfYBz"
      }
    },
    {
      "cell_type": "code",
      "source": [
        "test_data = activity_coefficient(data.data)"
      ],
      "metadata": {
        "id": "RwckVT31fjIn"
      },
      "execution_count": null,
      "outputs": []
    },
    {
      "cell_type": "code",
      "source": [
        "print(np.unique(test_data), len(test_data))"
      ],
      "metadata": {
        "colab": {
          "base_uri": "https://localhost:8080/"
        },
        "id": "xHt_mjWjgRKn",
        "outputId": "7b23768f-b162-4ab2-96fe-873792c0e136"
      },
      "execution_count": null,
      "outputs": [
        {
          "output_type": "stream",
          "name": "stdout",
          "text": [
            "[0] 133171\n"
          ]
        }
      ]
    },
    {
      "cell_type": "markdown",
      "source": [
        "Ни одной активной молекулы"
      ],
      "metadata": {
        "id": "LsDZLoCegxEF"
      }
    },
    {
      "cell_type": "markdown",
      "source": [
        "## Обучение"
      ],
      "metadata": {
        "id": "sqTPgUR1futa"
      }
    },
    {
      "cell_type": "code",
      "execution_count": null,
      "metadata": {
        "id": "1Aitjc69O2CM"
      },
      "outputs": [],
      "source": [
        "# Вспомогательные функции для тренировки\n",
        "def train_fetch_dict(i, steps, epoch, epochs, min_epochs, model, optimizer):\n",
        "    a = [optimizer.train_step_G] if i % n_critic == 0 else [optimizer.train_step_D]\n",
        "    b = [optimizer.train_step_V] if i % n_critic == 0 and la < 1 else []\n",
        "    return a + b\n",
        "\n",
        "\n",
        "def train_feed_dict(i, steps, epoch, epochs, min_epochs, model, optimizer, batch_dim):\n",
        "    mols, _, _, a, x, _, _, _, _ = data.next_train_batch(batch_dim)\n",
        "    embeddings = model.sample_z(batch_dim)\n",
        "\n",
        "    if la < 1:\n",
        "\n",
        "        if i % n_critic == 0:\n",
        "            rewardR = reward(mols)\n",
        "\n",
        "            n, e = session.run([model.nodes_gumbel_argmax, model.edges_gumbel_argmax],\n",
        "                               feed_dict={model.training: False, model.embeddings: embeddings})\n",
        "            n, e = np.argmax(n, axis=-1), np.argmax(e, axis=-1)\n",
        "            mols = [data.matrices2mol(n_, e_, strict=True) for n_, e_ in zip(n, e)]\n",
        "\n",
        "            rewardF = reward(mols)\n",
        "\n",
        "            feed_dict = {model.edges_labels: a,\n",
        "                         model.nodes_labels: x,\n",
        "                         model.embeddings: embeddings,\n",
        "                         model.rewardR: rewardR,\n",
        "                         model.rewardF: rewardF,\n",
        "                         model.training: True,\n",
        "                         model.dropout_rate: dropout,\n",
        "                         optimizer.la: la if epoch > 0 else 1.0}\n",
        "\n",
        "        else:\n",
        "            feed_dict = {model.edges_labels: a,\n",
        "                         model.nodes_labels: x,\n",
        "                         model.embeddings: embeddings,\n",
        "                         model.training: True,\n",
        "                         model.dropout_rate: dropout,\n",
        "                         optimizer.la: la if epoch > 0 else 1.0}\n",
        "    else:\n",
        "        feed_dict = {model.edges_labels: a,\n",
        "                     model.nodes_labels: x,\n",
        "                     model.embeddings: embeddings,\n",
        "                     model.training: True,\n",
        "                     model.dropout_rate: dropout,\n",
        "                     optimizer.la: 1.0}\n",
        "\n",
        "    return feed_dict\n",
        "\n",
        "# Вспомогательные функции для оценки\n",
        "\n",
        "def eval_fetch_dict(i, epochs, min_epochs, model, optimizer):\n",
        "    return {'loss D': optimizer.loss_D, 'loss G': optimizer.loss_G,\n",
        "            'loss RL': optimizer.loss_RL, 'loss V': optimizer.loss_V,\n",
        "            'la': optimizer.la}\n",
        "\n",
        "\n",
        "def eval_feed_dict(i, epochs, min_epochs, model, optimizer, batch_dim):\n",
        "    mols, _, _, a, x, _, _, _, _ = data.next_validation_batch()\n",
        "    embeddings = model.sample_z(a.shape[0])\n",
        "\n",
        "    rewardR = reward(mols)\n",
        "\n",
        "    n, e = session.run([model.nodes_gumbel_argmax, model.edges_gumbel_argmax],\n",
        "                       feed_dict={model.training: False, model.embeddings: embeddings})\n",
        "    n, e = np.argmax(n, axis=-1), np.argmax(e, axis=-1)\n",
        "    mols = [data.matrices2mol(n_, e_, strict=True) for n_, e_ in zip(n, e)]\n",
        "\n",
        "    rewardF = reward(mols)\n",
        "\n",
        "    feed_dict = {model.edges_labels: a,\n",
        "                 model.nodes_labels: x,\n",
        "                 model.embeddings: embeddings,\n",
        "                 model.rewardR: rewardR,\n",
        "                 model.rewardF: rewardF,\n",
        "                 model.training: False}\n",
        "    return feed_dict\n",
        "\n",
        "# Вспомогательные функции для тестирования\n",
        "def test_fetch_dict(model, optimizer):\n",
        "    return {'loss D': optimizer.loss_D, 'loss G': optimizer.loss_G,\n",
        "            'loss RL': optimizer.loss_RL, 'loss V': optimizer.loss_V,\n",
        "            'la': optimizer.la}\n",
        "\n",
        "\n",
        "def test_feed_dict(model, optimizer, batch_dim):\n",
        "    mols, _, _, a, x, _, _, _, _ = data.next_test_batch()\n",
        "    embeddings = model.sample_z(a.shape[0])\n",
        "\n",
        "    rewardR = reward(mols)\n",
        "\n",
        "    n, e = session.run([model.nodes_gumbel_argmax, model.edges_gumbel_argmax],\n",
        "                       feed_dict={model.training: False, model.embeddings: embeddings})\n",
        "    n, e = np.argmax(n, axis=-1), np.argmax(e, axis=-1)\n",
        "    mols = [data.matrices2mol(n_, e_, strict=True) for n_, e_ in zip(n, e)]\n",
        "\n",
        "    rewardF = reward(mols)\n",
        "\n",
        "    feed_dict = {model.edges_labels: a,\n",
        "                 model.nodes_labels: x,\n",
        "                 model.embeddings: embeddings,\n",
        "                 model.rewardR: rewardR,\n",
        "                 model.rewardF: rewardF,\n",
        "                 model.training: False}\n",
        "    return feed_dict\n",
        "\n",
        "\n",
        "# Функция для расчета ошибки на текущем этапе тренировки, необходимо дополнить ее Вашей функцией для оценки активности\n",
        "def reward(mols):\n",
        "    rr = 1.\n",
        "    for m in ('logp,sas,qed,unique,herg' if metric == 'all' else metric).split(','):\n",
        "\n",
        "        if m == 'np':\n",
        "            rr *= MolecularMetrics.natural_product_scores(mols, norm=True)\n",
        "        # elif m == 'logp':\n",
        "        #     rr *= MolecularMetrics.water_octanol_partition_coefficient_scores(mols, norm=True)\n",
        "        elif m == 'logp':\n",
        "            rr *= water_octanol_partition_coefficient_scores(mols, norm=False)\n",
        "        elif m == 'sas':\n",
        "            rr *= MolecularMetrics.synthetic_accessibility_score_scores(mols, norm=True)\n",
        "        elif m == 'qed':\n",
        "            rr *= MolecularMetrics.quantitative_estimation_druglikeness_scores(mols, norm=True)\n",
        "        elif m == 'novelty':\n",
        "            rr *= MolecularMetrics.novel_scores(mols, data)\n",
        "        elif m == 'dc':\n",
        "            rr *= MolecularMetrics.drugcandidate_scores(mols, data)\n",
        "        elif m == 'unique':\n",
        "            rr *= MolecularMetrics.unique_scores(mols)\n",
        "        elif m == 'diversity':\n",
        "            rr *= MolecularMetrics.diversity_scores(mols, data)\n",
        "        elif m == 'validity':\n",
        "            rr *= MolecularMetrics.valid_scores(mols)\n",
        "            \n",
        "        elif m == 'herg':\n",
        "            rr *= activity_coefficient(mols)\n",
        "\n",
        "        else:\n",
        "            raise RuntimeError('{} is not defined as a metric'.format(m))\n",
        "\n",
        "    return rr.reshape(-1, 1)\n",
        "\n",
        "# вспомогательные функции для расчета ошибок\n",
        "def _eval_update(i, epochs, min_epochs, model, optimizer, batch_dim, eval_batch):\n",
        "    mols = samples(data, model, session, model.sample_z(n_samples), sample=True)\n",
        "    m0, m1 = all_scores(mols, data, norm=True)\n",
        "    m0 = {k: np.array(v)[np.nonzero(v)].mean() for k, v in m0.items()}\n",
        "    m0.update(m1)\n",
        "    return m0\n",
        "\n",
        "\n",
        "def _test_update(model, optimizer, batch_dim, test_batch):\n",
        "    mols = samples(data, model, session, model.sample_z(n_samples), sample=True)\n",
        "    m0, m1 = all_scores(mols, data, norm=True)\n",
        "    m0 = {k: np.array(v)[np.nonzero(v)].mean() for k, v in m0.items()}\n",
        "    m0.update(m1)\n",
        "    return m0"
      ]
    },
    {
      "cell_type": "code",
      "execution_count": null,
      "metadata": {
        "id": "nDBsCZ9YO2CQ",
        "colab": {
          "base_uri": "https://localhost:8080/"
        },
        "outputId": "ecd71a07-4ce1-48be-a2c1-f2e65108d8c0"
      },
      "outputs": [
        {
          "output_type": "stream",
          "name": "stdout",
          "text": [
            "Device mapping:\n",
            "/job:localhost/replica:0/task:0/device:XLA_CPU:0 -> device: XLA_CPU device\n",
            "\n",
            "Parameters: 575556\n",
            "INFO:tensorflow:Restoring parameters from /content/drive/MyDrive/kaka/MolGAN/output/model.ckpt\n",
            "2022-04-16 20:48:27 Model loaded from /content/drive/MyDrive/kaka/MolGAN/output!\n",
            "2022-04-16 20:48:27 Epochs          0/10 in 0:00:00 (last epoch in 0:00:00), ETA: -:--:-\n",
            "2022-04-16 20:49:24 Validation --> {'NP score': 0.9501956957181034,\n",
            " 'QED score': 0.4966631517365126,\n",
            " 'SA score': 0.32604866216207906,\n",
            " 'diversity score': 0.5978439499385452,\n",
            " 'drugcandidate score': 0.3607930139006876,\n",
            " 'la': 1.0,\n",
            " 'logP score': 0.339965847808902,\n",
            " 'loss D': nan,\n",
            " 'loss G': nan,\n",
            " 'loss RL': nan,\n",
            " 'loss V': nan,\n",
            " 'novel score': 47.36396955173386,\n",
            " 'unique score': 23.428249224696927,\n",
            " 'valid score': 70.93999981880188}\n",
            "2022-04-16 20:49:28 Model saved in /content/drive/MyDrive/kaka/MolGAN/output_upgraded!\n",
            " 100% (1040/1040) [################################################################################] ETA: 0:00:00\n",
            "2022-04-16 20:51:38 Epochs          1/10 in 0:03:10 (last epoch in 0:02:10), ETA: 0:28:38\n",
            "2022-04-16 20:52:33 Validation --> {'NP score': 0.9444790412617458,\n",
            " 'QED score': 0.4985627086558271,\n",
            " 'SA score': 0.3377058014870795,\n",
            " 'diversity score': 0.5878357497036817,\n",
            " 'drugcandidate score': 0.3745026366083255,\n",
            " 'la': 1.0,\n",
            " 'logP score': 0.3596233998526893,\n",
            " 'loss D': nan,\n",
            " 'loss G': nan,\n",
            " 'loss RL': nan,\n",
            " 'loss V': nan,\n",
            " 'novel score': 58.55829982768523,\n",
            " 'unique score': 22.688110281447443,\n",
            " 'valid score': 69.6399986743927}\n",
            "2022-04-16 20:52:37 Model saved in /content/drive/MyDrive/kaka/MolGAN/output_upgraded!\n",
            " 100% (1040/1040) [################################################################################] ETA: 0:00:00\n",
            "2022-04-16 20:54:43 Epochs          2/10 in 0:06:16 (last epoch in 0:02:06), ETA: 0:25:05\n",
            "2022-04-16 20:55:35 Validation --> {'NP score': 0.9448065865580149,\n",
            " 'QED score': 0.5027576044709232,\n",
            " 'SA score': 0.3045407014117743,\n",
            " 'diversity score': 0.5979935812830761,\n",
            " 'drugcandidate score': 0.3618665543499916,\n",
            " 'la': 1.0,\n",
            " 'logP score': 0.3725844763629508,\n",
            " 'loss D': nan,\n",
            " 'loss G': nan,\n",
            " 'loss RL': nan,\n",
            " 'loss V': nan,\n",
            " 'novel score': 59.85467756584922,\n",
            " 'unique score': 24.159854677565846,\n",
            " 'valid score': 66.06000065803528}\n",
            "2022-04-16 20:55:38 Model saved in /content/drive/MyDrive/kaka/MolGAN/output_upgraded!\n",
            " 100% (1040/1040) [################################################################################] ETA: 0:00:00\n",
            "2022-04-16 20:57:43 Epochs          3/10 in 0:09:16 (last epoch in 0:02:05), ETA: 0:21:37\n",
            "2022-04-16 20:58:38 Validation --> {'NP score': 0.9451920643338291,\n",
            " 'QED score': 0.48754181204055175,\n",
            " 'SA score': 0.2586418542360013,\n",
            " 'diversity score': 0.6750625056765844,\n",
            " 'drugcandidate score': 0.35944130609543534,\n",
            " 'la': 1.0,\n",
            " 'logP score': 0.3617975859379769,\n",
            " 'loss D': nan,\n",
            " 'loss G': nan,\n",
            " 'loss RL': nan,\n",
            " 'loss V': nan,\n",
            " 'novel score': 63.606943218593706,\n",
            " 'unique score': 23.477493380406,\n",
            " 'valid score': 67.97999739646912}\n",
            "2022-04-16 20:58:42 Model saved in /content/drive/MyDrive/kaka/MolGAN/output_upgraded!\n",
            " 100% (1040/1040) [################################################################################] ETA: 0:00:00\n",
            "2022-04-16 21:00:45 Epochs          4/10 in 0:12:17 (last epoch in 0:02:02), ETA: 0:18:26\n",
            "2022-04-16 21:01:42 Validation --> {'NP score': 0.945759470304312,\n",
            " 'QED score': 0.4926947375708487,\n",
            " 'SA score': 0.28867908599628744,\n",
            " 'diversity score': 0.6301587790210512,\n",
            " 'drugcandidate score': 0.37925670580599374,\n",
            " 'la': 1.0,\n",
            " 'logP score': 0.3690247134758483,\n",
            " 'loss D': nan,\n",
            " 'loss G': nan,\n",
            " 'loss RL': nan,\n",
            " 'loss V': nan,\n",
            " 'novel score': 60.59085841694537,\n",
            " 'unique score': 24.02452619843924,\n",
            " 'valid score': 71.75999879837036}\n",
            "2022-04-16 21:01:45 Model saved in /content/drive/MyDrive/kaka/MolGAN/output_upgraded!\n",
            " 100% (1040/1040) [################################################################################] ETA: 0:00:00\n",
            "2022-04-16 21:03:50 Epochs          5/10 in 0:15:22 (last epoch in 0:02:04), ETA: 0:15:22\n",
            "2022-04-16 21:04:45 Validation --> {'NP score': 0.9471359379699535,\n",
            " 'QED score': 0.49272232408631733,\n",
            " 'SA score': 0.27553076326237075,\n",
            " 'diversity score': 0.6110017506670115,\n",
            " 'drugcandidate score': 0.37227502164213155,\n",
            " 'la': 1.0,\n",
            " 'logP score': 0.35769618152165483,\n",
            " 'loss D': nan,\n",
            " 'loss G': nan,\n",
            " 'loss RL': nan,\n",
            " 'loss V': nan,\n",
            " 'novel score': 61.14721672788923,\n",
            " 'unique score': 23.50946595083357,\n",
            " 'valid score': 70.77999711036682}\n",
            "2022-04-16 21:04:48 Model saved in /content/drive/MyDrive/kaka/MolGAN/output_upgraded!\n",
            " 100% (1040/1040) [################################################################################] ETA: 0:00:00\n",
            "2022-04-16 21:06:52 Epochs          6/10 in 0:18:24 (last epoch in 0:02:03), ETA: 0:12:16\n",
            "2022-04-16 21:07:47 Validation --> {'NP score': 0.9545062747423316,\n",
            " 'QED score': 0.4830330621500128,\n",
            " 'SA score': 0.27428826271773504,\n",
            " 'diversity score': 0.6387545211557734,\n",
            " 'drugcandidate score': 0.37189772110915875,\n",
            " 'la': 1.0,\n",
            " 'logP score': 0.3479577847703621,\n",
            " 'loss D': nan,\n",
            " 'loss G': nan,\n",
            " 'loss RL': nan,\n",
            " 'loss V': nan,\n",
            " 'novel score': 63.171355498721226,\n",
            " 'unique score': 22.705314009661837,\n",
            " 'valid score': 70.38000226020813}\n",
            "2022-04-16 21:07:51 Model saved in /content/drive/MyDrive/kaka/MolGAN/output_upgraded!\n",
            " 100% (1040/1040) [################################################################################] ETA: 0:00:00\n",
            "2022-04-16 21:09:52 Epochs          7/10 in 0:21:24 (last epoch in 0:02:00), ETA: 0:09:10\n",
            "2022-04-16 21:10:39 Validation --> {'NP score': 0.9664573433200474,\n",
            " 'QED score': 0.49584785996955627,\n",
            " 'SA score': 0.26856464937624963,\n",
            " 'diversity score': 0.5507381364458649,\n",
            " 'drugcandidate score': 0.3201479173595283,\n",
            " 'la': 1.0,\n",
            " 'logP score': 0.35437330499991515,\n",
            " 'loss D': nan,\n",
            " 'loss G': nan,\n",
            " 'loss RL': nan,\n",
            " 'loss V': nan,\n",
            " 'novel score': 53.0522765598651,\n",
            " 'unique score': 21.079258010118043,\n",
            " 'valid score': 59.299999475479126}\n",
            "2022-04-16 21:10:43 Model saved in /content/drive/MyDrive/kaka/MolGAN/output_upgraded!\n",
            " 100% (1040/1040) [################################################################################] ETA: 0:00:00\n",
            "2022-04-16 21:12:45 Epochs          8/10 in 0:24:18 (last epoch in 0:02:02), ETA: 0:06:04\n",
            "2022-04-16 21:13:39 Validation --> {'NP score': 0.9527789614212971,\n",
            " 'QED score': 0.4934616514969023,\n",
            " 'SA score': 0.27452008209080264,\n",
            " 'diversity score': 0.5229942710589812,\n",
            " 'drugcandidate score': 0.349418544898277,\n",
            " 'la': 1.0,\n",
            " 'logP score': 0.35294011018098426,\n",
            " 'loss D': nan,\n",
            " 'loss G': nan,\n",
            " 'loss RL': nan,\n",
            " 'loss V': nan,\n",
            " 'novel score': 47.98492316613511,\n",
            " 'unique score': 24.29689765149319,\n",
            " 'valid score': 68.98000240325928}\n",
            "2022-04-16 21:13:43 Model saved in /content/drive/MyDrive/kaka/MolGAN/output_upgraded!\n",
            " 100% (1040/1040) [################################################################################] ETA: 0:00:00\n",
            "2022-04-16 21:15:40 Epochs          9/10 in 0:27:13 (last epoch in 0:01:57), ETA: 0:03:01\n",
            "2022-04-16 21:16:40 Validation --> {'NP score': 0.9678431104365159,\n",
            " 'QED score': 0.48762674297673875,\n",
            " 'SA score': 0.2743944653783114,\n",
            " 'diversity score': 0.5645281933355634,\n",
            " 'drugcandidate score': 0.36325199779067346,\n",
            " 'la': 1.0,\n",
            " 'logP score': 0.35335138218091394,\n",
            " 'loss D': nan,\n",
            " 'loss G': nan,\n",
            " 'loss RL': nan,\n",
            " 'loss V': nan,\n",
            " 'novel score': 45.38834951456311,\n",
            " 'unique score': 24.433656957928804,\n",
            " 'valid score': 74.1599977016449}\n",
            "2022-04-16 21:16:44 Model saved in /content/drive/MyDrive/kaka/MolGAN/output_upgraded!\n",
            " 100% (1040/1040) [################################################################################] ETA: 0:00:00\n",
            "2022-04-16 21:18:45 Epochs         10/10 in 0:30:18 (last epoch in 0:02:01), ETA: 0:00:00\n",
            "2022-04-16 21:19:47 Validation --> {'NP score': 0.9634493318112731,\n",
            " 'QED score': 0.48005960329311004,\n",
            " 'SA score': 0.26081973684996596,\n",
            " 'diversity score': 0.5868106706842461,\n",
            " 'drugcandidate score': 0.36889351619179306,\n",
            " 'la': 1.0,\n",
            " 'logP score': 0.3620605173310652,\n",
            " 'loss D': nan,\n",
            " 'loss G': nan,\n",
            " 'loss RL': nan,\n",
            " 'loss V': nan,\n",
            " 'novel score': 48.488865323435846,\n",
            " 'unique score': 24.708377518557796,\n",
            " 'valid score': 75.44000148773193}\n",
            "2022-04-16 21:19:51 Model saved in /content/drive/MyDrive/kaka/MolGAN/output_upgraded!\n",
            "INFO:tensorflow:Restoring parameters from /content/drive/MyDrive/kaka/MolGAN/output_upgraded/model.ckpt\n",
            "2022-04-16 21:19:53 Model loaded from /content/drive/MyDrive/kaka/MolGAN/output_upgraded!\n",
            "2022-04-16 21:19:53 End of training (10 epochs) in 0:31:25\n",
            "2022-04-16 21:20:54 Test --> {'NP score': 0.9654492875446784,\n",
            " 'QED score': 0.47887599060978575,\n",
            " 'SA score': 0.254752652178437,\n",
            " 'diversity score': 0.753045236571534,\n",
            " 'drugcandidate score': 0.3688710888792399,\n",
            " 'la': 1.0,\n",
            " 'logP score': 0.360379207187802,\n",
            " 'loss D': nan,\n",
            " 'loss G': nan,\n",
            " 'loss RL': nan,\n",
            " 'loss V': nan,\n",
            " 'novel score': 49.047619047619044,\n",
            " 'unique score': 24.126984126984127,\n",
            " 'valid score': 75.59999823570251}\n"
          ]
        }
      ],
      "source": [
        "tf.reset_default_graph()\n",
        "# model\n",
        "model = GraphGANModel(data.vertexes,\n",
        "                      data.bond_num_types,\n",
        "                      data.atom_num_types,\n",
        "                      z_dim,\n",
        "                      decoder_units=(128, 256, 512),\n",
        "                      discriminator_units=((128, 64), 128, (128, 64)),\n",
        "                      decoder=decoder_adj,\n",
        "                      discriminator=encoder_rgcn,\n",
        "                      soft_gumbel_softmax=False,\n",
        "                      hard_gumbel_softmax=False,\n",
        "                      batch_discriminator=False)\n",
        "\n",
        "# optimizer\n",
        "optimizer = GraphGANOptimizer(model, learning_rate=1e-3, feature_matching=False)\n",
        "\n",
        "# session\n",
        "session = tf.Session(config=tf.ConfigProto(log_device_placement=True))\n",
        "session.run(tf.global_variables_initializer())\n",
        "\n",
        "# trainer\n",
        "trainer = Trainer(model, optimizer, session)\n",
        "\n",
        "print('Parameters: {}'.format(np.sum([np.prod(e.shape) for e in session.run(tf.trainable_variables())])))\n",
        "trainer.load(model_folder)\n",
        "\n",
        "trainer.train(batch_dim=batch_dim,\n",
        "              epochs=epochs,\n",
        "              steps=steps,\n",
        "              train_fetch_dict=train_fetch_dict,\n",
        "              train_feed_dict=train_feed_dict,\n",
        "              eval_fetch_dict=eval_fetch_dict,\n",
        "              eval_feed_dict=eval_feed_dict,\n",
        "              test_fetch_dict=test_fetch_dict,\n",
        "              test_feed_dict=test_feed_dict,\n",
        "              save_every=save_every,\n",
        "              directory=output_dir,\n",
        "              _eval_update=_eval_update,\n",
        "              _test_update=_test_update)\n"
      ]
    },
    {
      "cell_type": "code",
      "execution_count": null,
      "metadata": {
        "id": "t7YmXrs8d8Dm"
      },
      "outputs": [],
      "source": []
    }
  ],
  "metadata": {
    "colab": {
      "provenance": []
    },
    "kernelspec": {
      "display_name": "Python 3",
      "language": "python",
      "name": "python3"
    },
    "language_info": {
      "codemirror_mode": {
        "name": "ipython",
        "version": 2
      },
      "file_extension": ".py",
      "mimetype": "text/x-python",
      "name": "python",
      "nbconvert_exporter": "python",
      "pygments_lexer": "ipython2",
      "version": "2.7.6"
    }
  },
  "nbformat": 4,
  "nbformat_minor": 0
}